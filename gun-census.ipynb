{
 "cells": [
  {
   "cell_type": "markdown",
   "metadata": {},
   "source": [
    "# United States Gun Background Check and Census Data Analysis\n",
    "\n",
    "## Table of Contents\n",
    "<ul>\n",
    "<li><a href=\"#intro\">Introduction</a></li>\n",
    "<li><a href=\"#wrangling\">Data Wrangling</a></li>\n",
    "<li><a href=\"#eda\">Exploratory Data Analysis</a></li>\n",
    "<li><a href=\"#conclusions\">Conclusions</a></li>\n",
    "<li><a href=\"#sources\">Sources</a></li>\n",
    "</ul>"
   ]
  },
  {
   "cell_type": "markdown",
   "metadata": {},
   "source": [
    "<a id='intro'></a>\n",
    "## Introduction\n",
    "\n",
    "This analysis looks at data from two sources. The first is the FBI's National Instant Criminal Background Check System (NICS). Whenever an individual wants to undergo a transaction involving firearms or explosives, Federal Firearms Licensees (FFLs) have to input a background check into the system in order to make sure that the individual is eligible to complete the transaction. The data not only includes gun sales, but also other transactions such as concealed carry permits, rentals, private sales, and so on.\n",
    "\n",
    "The other data comes from the US census and provides statistics by state for a variety of metrics. Most of this data is from the time period between 2010 and 2016.\n",
    "\n",
    "In this analysis, I will combine these two data sources to look at the relationship between gun background checks and demographic data. First, I will show the overall trend of background checks and gun sales over the time period represented by the data. Additionally, I would like to zoom in specifically on handgun, long gun, and multiple-gun sales to see if the frequency of these particular transactions have changed over time. Next, I am curious about which states have the most total background checks, as well as which states are growing the fastest in this area. Finally, I would like to see the general demographic profile of states with higher background checks. In particular, I will focus on race, veteran status, immigrant status, education, income, and population density.\n",
    "\n",
    "Here are the questions I will answer in this analysis:\n",
    "- What is the overall trend of background checks and gun sales?\n",
    "- What is the overall trend of background checks split by gun category?\n",
    "- Which states have had the largest overall and largest growth in background checks per capita?\n",
    "- What demographic data correlates with background checks per capita by state?\n",
    "\n",
    "To begin my analysis, I will download the necessary packages, including Numpy, Pandas, Matplotlib, Seaborn, and Scipy."
   ]
  },
  {
   "cell_type": "code",
   "execution_count": 1,
   "metadata": {},
   "outputs": [],
   "source": [
    "import numpy as np\n",
    "import pandas as pd\n",
    "import matplotlib.pyplot as plt\n",
    "import seaborn as sns\n",
    "import scipy\n",
    "%matplotlib inline"
   ]
  },
  {
   "cell_type": "markdown",
   "metadata": {},
   "source": [
    "<a id='wrangling'></a>\n",
    "## Data Wrangling\n",
    "\n",
    "### General Properties\n",
    "\n",
    "The NICS and census data was provided in a zip file containing `'gun_data.xlsx'` and `'U.S. Census Data.csv'`. I have converted `'gun_data.xlsx'` to a CSV file called `'gun_data.csv'` so that I can easily use Pandas to load in the NICS data.\n",
    "\n",
    "Below, I will perform a few operations to familiarize myself with the data and to see what data cleaning I might need to do. In particular, I will examine the dataframe for its shape, column data types, any missing values, any duplicated values, and summary statistics."
   ]
  },
  {
   "cell_type": "code",
   "execution_count": 2,
   "metadata": {},
   "outputs": [],
   "source": [
    "gun_df = pd.read_csv('gun_data.csv')\n",
    "census_df = pd.read_csv('U.S. Census Data.csv')"
   ]
  },
  {
   "cell_type": "code",
   "execution_count": 3,
   "metadata": {},
   "outputs": [],
   "source": [
    "def print_properties(df):\n",
    "    '''Prints general properties for the dataframe.'''\n",
    "    print('Shape: {}'.format(df.shape))\n",
    "    print('\\n')\n",
    "    print('Number of duplicated rows: {}'.format(sum(df.duplicated())))\n",
    "    print('\\n')\n",
    "    print(df.info())\n",
    "    print('\\n')"
   ]
  },
  {
   "cell_type": "code",
   "execution_count": 4,
   "metadata": {},
   "outputs": [
    {
     "data": {
      "text/html": [
       "<div>\n",
       "<style scoped>\n",
       "    .dataframe tbody tr th:only-of-type {\n",
       "        vertical-align: middle;\n",
       "    }\n",
       "\n",
       "    .dataframe tbody tr th {\n",
       "        vertical-align: top;\n",
       "    }\n",
       "\n",
       "    .dataframe thead th {\n",
       "        text-align: right;\n",
       "    }\n",
       "</style>\n",
       "<table border=\"1\" class=\"dataframe\">\n",
       "  <thead>\n",
       "    <tr style=\"text-align: right;\">\n",
       "      <th></th>\n",
       "      <th>month</th>\n",
       "      <th>state</th>\n",
       "      <th>permit</th>\n",
       "      <th>permit_recheck</th>\n",
       "      <th>handgun</th>\n",
       "      <th>long_gun</th>\n",
       "      <th>other</th>\n",
       "      <th>multiple</th>\n",
       "      <th>admin</th>\n",
       "      <th>prepawn_handgun</th>\n",
       "      <th>...</th>\n",
       "      <th>returned_other</th>\n",
       "      <th>rentals_handgun</th>\n",
       "      <th>rentals_long_gun</th>\n",
       "      <th>private_sale_handgun</th>\n",
       "      <th>private_sale_long_gun</th>\n",
       "      <th>private_sale_other</th>\n",
       "      <th>return_to_seller_handgun</th>\n",
       "      <th>return_to_seller_long_gun</th>\n",
       "      <th>return_to_seller_other</th>\n",
       "      <th>totals</th>\n",
       "    </tr>\n",
       "  </thead>\n",
       "  <tbody>\n",
       "    <tr>\n",
       "      <th>0</th>\n",
       "      <td>2017-09</td>\n",
       "      <td>Alabama</td>\n",
       "      <td>16717.0</td>\n",
       "      <td>0.0</td>\n",
       "      <td>5734.0</td>\n",
       "      <td>6320.0</td>\n",
       "      <td>221.0</td>\n",
       "      <td>317</td>\n",
       "      <td>0.0</td>\n",
       "      <td>15.0</td>\n",
       "      <td>...</td>\n",
       "      <td>0.0</td>\n",
       "      <td>0.0</td>\n",
       "      <td>0.0</td>\n",
       "      <td>9.0</td>\n",
       "      <td>16.0</td>\n",
       "      <td>3.0</td>\n",
       "      <td>0.0</td>\n",
       "      <td>0.0</td>\n",
       "      <td>3.0</td>\n",
       "      <td>32019</td>\n",
       "    </tr>\n",
       "    <tr>\n",
       "      <th>1</th>\n",
       "      <td>2017-09</td>\n",
       "      <td>Alaska</td>\n",
       "      <td>209.0</td>\n",
       "      <td>2.0</td>\n",
       "      <td>2320.0</td>\n",
       "      <td>2930.0</td>\n",
       "      <td>219.0</td>\n",
       "      <td>160</td>\n",
       "      <td>0.0</td>\n",
       "      <td>5.0</td>\n",
       "      <td>...</td>\n",
       "      <td>0.0</td>\n",
       "      <td>0.0</td>\n",
       "      <td>0.0</td>\n",
       "      <td>17.0</td>\n",
       "      <td>24.0</td>\n",
       "      <td>1.0</td>\n",
       "      <td>0.0</td>\n",
       "      <td>0.0</td>\n",
       "      <td>0.0</td>\n",
       "      <td>6303</td>\n",
       "    </tr>\n",
       "    <tr>\n",
       "      <th>2</th>\n",
       "      <td>2017-09</td>\n",
       "      <td>Arizona</td>\n",
       "      <td>5069.0</td>\n",
       "      <td>382.0</td>\n",
       "      <td>11063.0</td>\n",
       "      <td>7946.0</td>\n",
       "      <td>920.0</td>\n",
       "      <td>631</td>\n",
       "      <td>0.0</td>\n",
       "      <td>13.0</td>\n",
       "      <td>...</td>\n",
       "      <td>0.0</td>\n",
       "      <td>0.0</td>\n",
       "      <td>0.0</td>\n",
       "      <td>38.0</td>\n",
       "      <td>12.0</td>\n",
       "      <td>2.0</td>\n",
       "      <td>0.0</td>\n",
       "      <td>0.0</td>\n",
       "      <td>0.0</td>\n",
       "      <td>28394</td>\n",
       "    </tr>\n",
       "    <tr>\n",
       "      <th>3</th>\n",
       "      <td>2017-09</td>\n",
       "      <td>Arkansas</td>\n",
       "      <td>2935.0</td>\n",
       "      <td>632.0</td>\n",
       "      <td>4347.0</td>\n",
       "      <td>6063.0</td>\n",
       "      <td>165.0</td>\n",
       "      <td>366</td>\n",
       "      <td>51.0</td>\n",
       "      <td>12.0</td>\n",
       "      <td>...</td>\n",
       "      <td>0.0</td>\n",
       "      <td>0.0</td>\n",
       "      <td>0.0</td>\n",
       "      <td>13.0</td>\n",
       "      <td>23.0</td>\n",
       "      <td>0.0</td>\n",
       "      <td>0.0</td>\n",
       "      <td>2.0</td>\n",
       "      <td>1.0</td>\n",
       "      <td>17747</td>\n",
       "    </tr>\n",
       "    <tr>\n",
       "      <th>4</th>\n",
       "      <td>2017-09</td>\n",
       "      <td>California</td>\n",
       "      <td>57839.0</td>\n",
       "      <td>0.0</td>\n",
       "      <td>37165.0</td>\n",
       "      <td>24581.0</td>\n",
       "      <td>2984.0</td>\n",
       "      <td>0</td>\n",
       "      <td>0.0</td>\n",
       "      <td>0.0</td>\n",
       "      <td>...</td>\n",
       "      <td>0.0</td>\n",
       "      <td>0.0</td>\n",
       "      <td>0.0</td>\n",
       "      <td>0.0</td>\n",
       "      <td>0.0</td>\n",
       "      <td>0.0</td>\n",
       "      <td>0.0</td>\n",
       "      <td>0.0</td>\n",
       "      <td>0.0</td>\n",
       "      <td>123506</td>\n",
       "    </tr>\n",
       "  </tbody>\n",
       "</table>\n",
       "<p>5 rows × 27 columns</p>\n",
       "</div>"
      ],
      "text/plain": [
       "     month       state   permit  permit_recheck  handgun  long_gun   other  \\\n",
       "0  2017-09     Alabama  16717.0             0.0   5734.0    6320.0   221.0   \n",
       "1  2017-09      Alaska    209.0             2.0   2320.0    2930.0   219.0   \n",
       "2  2017-09     Arizona   5069.0           382.0  11063.0    7946.0   920.0   \n",
       "3  2017-09    Arkansas   2935.0           632.0   4347.0    6063.0   165.0   \n",
       "4  2017-09  California  57839.0             0.0  37165.0   24581.0  2984.0   \n",
       "\n",
       "   multiple  admin  prepawn_handgun  ...  returned_other  rentals_handgun  \\\n",
       "0       317    0.0             15.0  ...             0.0              0.0   \n",
       "1       160    0.0              5.0  ...             0.0              0.0   \n",
       "2       631    0.0             13.0  ...             0.0              0.0   \n",
       "3       366   51.0             12.0  ...             0.0              0.0   \n",
       "4         0    0.0              0.0  ...             0.0              0.0   \n",
       "\n",
       "   rentals_long_gun  private_sale_handgun  private_sale_long_gun  \\\n",
       "0               0.0                   9.0                   16.0   \n",
       "1               0.0                  17.0                   24.0   \n",
       "2               0.0                  38.0                   12.0   \n",
       "3               0.0                  13.0                   23.0   \n",
       "4               0.0                   0.0                    0.0   \n",
       "\n",
       "   private_sale_other  return_to_seller_handgun  return_to_seller_long_gun  \\\n",
       "0                 3.0                       0.0                        0.0   \n",
       "1                 1.0                       0.0                        0.0   \n",
       "2                 2.0                       0.0                        0.0   \n",
       "3                 0.0                       0.0                        2.0   \n",
       "4                 0.0                       0.0                        0.0   \n",
       "\n",
       "   return_to_seller_other  totals  \n",
       "0                     3.0   32019  \n",
       "1                     0.0    6303  \n",
       "2                     0.0   28394  \n",
       "3                     1.0   17747  \n",
       "4                     0.0  123506  \n",
       "\n",
       "[5 rows x 27 columns]"
      ]
     },
     "execution_count": 4,
     "metadata": {},
     "output_type": "execute_result"
    }
   ],
   "source": [
    "gun_df.head()"
   ]
  },
  {
   "cell_type": "code",
   "execution_count": 5,
   "metadata": {},
   "outputs": [
    {
     "name": "stdout",
     "output_type": "stream",
     "text": [
      "Shape: (12485, 27)\n",
      "\n",
      "\n",
      "Number of duplicated rows: 0\n",
      "\n",
      "\n",
      "<class 'pandas.core.frame.DataFrame'>\n",
      "RangeIndex: 12485 entries, 0 to 12484\n",
      "Data columns (total 27 columns):\n",
      " #   Column                     Non-Null Count  Dtype  \n",
      "---  ------                     --------------  -----  \n",
      " 0   month                      12485 non-null  object \n",
      " 1   state                      12485 non-null  object \n",
      " 2   permit                     12461 non-null  float64\n",
      " 3   permit_recheck             1100 non-null   float64\n",
      " 4   handgun                    12465 non-null  float64\n",
      " 5   long_gun                   12466 non-null  float64\n",
      " 6   other                      5500 non-null   float64\n",
      " 7   multiple                   12485 non-null  int64  \n",
      " 8   admin                      12462 non-null  float64\n",
      " 9   prepawn_handgun            10542 non-null  float64\n",
      " 10  prepawn_long_gun           10540 non-null  float64\n",
      " 11  prepawn_other              5115 non-null   float64\n",
      " 12  redemption_handgun         10545 non-null  float64\n",
      " 13  redemption_long_gun        10544 non-null  float64\n",
      " 14  redemption_other           5115 non-null   float64\n",
      " 15  returned_handgun           2200 non-null   float64\n",
      " 16  returned_long_gun          2145 non-null   float64\n",
      " 17  returned_other             1815 non-null   float64\n",
      " 18  rentals_handgun            990 non-null    float64\n",
      " 19  rentals_long_gun           825 non-null    float64\n",
      " 20  private_sale_handgun       2750 non-null   float64\n",
      " 21  private_sale_long_gun      2750 non-null   float64\n",
      " 22  private_sale_other         2750 non-null   float64\n",
      " 23  return_to_seller_handgun   2475 non-null   float64\n",
      " 24  return_to_seller_long_gun  2750 non-null   float64\n",
      " 25  return_to_seller_other     2255 non-null   float64\n",
      " 26  totals                     12485 non-null  int64  \n",
      "dtypes: float64(23), int64(2), object(2)\n",
      "memory usage: 2.6+ MB\n",
      "None\n",
      "\n",
      "\n"
     ]
    }
   ],
   "source": [
    "print_properties(gun_df)"
   ]
  },
  {
   "cell_type": "markdown",
   "metadata": {},
   "source": [
    "After looking at the information for `gun_df`, I see a few issues that should be fixed:\n",
    "- Most of the numeric columns have the data type float, except for `multiple` and `totals`. These two columns should be converted for consistency with the other columns. Additionally, it could possibly make operations more efficient later in the analysis.\n",
    "- The `month` column data type should be converted to datetime.\n",
    "\n",
    "I also notice that most of the columns except for `month`, `state`, `multiple`, and `totals` have missing values. I am not concerned about this as certain categories may not have any transactions for a given month. Every row should at least have a `month`, `state`, and `totals`; as long as those columns are fine, I do not think I need to drop any rows based on null values. However, I could impute these missing values with 0 in case I need to perform any operations on columns with nulls."
   ]
  },
  {
   "cell_type": "code",
   "execution_count": 6,
   "metadata": {},
   "outputs": [],
   "source": [
    "def full_describe(df):\n",
    "    '''Prints descriptive statistics for all columns.'''\n",
    "    with pd.option_context('display.max_columns', len(df.columns)):\n",
    "        print(df.describe())"
   ]
  },
  {
   "cell_type": "code",
   "execution_count": 7,
   "metadata": {},
   "outputs": [
    {
     "name": "stdout",
     "output_type": "stream",
     "text": [
      "              permit  permit_recheck        handgun       long_gun  \\\n",
      "count   12461.000000     1100.000000   12465.000000   12466.000000   \n",
      "mean     6413.629404     1165.956364    5940.881107    7810.847585   \n",
      "std     23752.338269     9224.200609    8618.584060    9309.846140   \n",
      "min         0.000000        0.000000       0.000000       0.000000   \n",
      "25%         0.000000        0.000000     865.000000    2078.250000   \n",
      "50%       518.000000        0.000000    3059.000000    5122.000000   \n",
      "75%      4272.000000        0.000000    7280.000000   10380.750000   \n",
      "max    522188.000000   116681.000000  107224.000000  108058.000000   \n",
      "\n",
      "              other      multiple         admin  prepawn_handgun  \\\n",
      "count   5500.000000  12485.000000  12462.000000     10542.000000   \n",
      "mean     360.471636    268.603364     58.898090         4.828021   \n",
      "std     1349.478273    783.185073    604.814818        10.907756   \n",
      "min        0.000000      0.000000      0.000000         0.000000   \n",
      "25%       17.000000     15.000000      0.000000         0.000000   \n",
      "50%      121.000000    125.000000      0.000000         0.000000   \n",
      "75%      354.000000    301.000000      0.000000         5.000000   \n",
      "max    77929.000000  38907.000000  28083.000000       164.000000   \n",
      "\n",
      "       prepawn_long_gun  prepawn_other  redemption_handgun  \\\n",
      "count      10540.000000    5115.000000        10545.000000   \n",
      "mean           7.834156       0.165591          407.970413   \n",
      "std           16.468028       1.057105          783.467053   \n",
      "min            0.000000       0.000000            0.000000   \n",
      "25%            0.000000       0.000000            0.000000   \n",
      "50%            1.000000       0.000000           39.000000   \n",
      "75%            8.000000       0.000000          561.000000   \n",
      "max          269.000000      49.000000        10046.000000   \n",
      "\n",
      "       redemption_long_gun  redemption_other  returned_handgun  \\\n",
      "count         10544.000000       5115.000000       2200.000000   \n",
      "mean            599.332417          1.815249         29.612727   \n",
      "std             952.144809          4.574641         81.943020   \n",
      "min               0.000000          0.000000          0.000000   \n",
      "25%               0.000000          0.000000          0.000000   \n",
      "50%             175.000000          0.000000          0.000000   \n",
      "75%             872.000000          2.000000         16.000000   \n",
      "max            8831.000000         79.000000        603.000000   \n",
      "\n",
      "       returned_long_gun  returned_other  rentals_handgun  rentals_long_gun  \\\n",
      "count        2145.000000     1815.000000       990.000000        825.000000   \n",
      "mean            7.557576        1.027548         0.076768          0.087273   \n",
      "std            22.097046        4.386296         0.634503          0.671649   \n",
      "min             0.000000        0.000000         0.000000          0.000000   \n",
      "25%             0.000000        0.000000         0.000000          0.000000   \n",
      "50%             0.000000        0.000000         0.000000          0.000000   \n",
      "75%             4.000000        0.000000         0.000000          0.000000   \n",
      "max           168.000000       64.000000        12.000000         12.000000   \n",
      "\n",
      "       private_sale_handgun  private_sale_long_gun  private_sale_other  \\\n",
      "count           2750.000000            2750.000000         2750.000000   \n",
      "mean              14.936000              11.602909            1.030182   \n",
      "std               71.216021              54.253090            4.467843   \n",
      "min                0.000000               0.000000            0.000000   \n",
      "25%                0.000000               0.000000            0.000000   \n",
      "50%                0.000000               0.000000            0.000000   \n",
      "75%                2.000000               4.000000            0.000000   \n",
      "max             1017.000000             777.000000           71.000000   \n",
      "\n",
      "       return_to_seller_handgun  return_to_seller_long_gun  \\\n",
      "count               2475.000000                2750.000000   \n",
      "mean                   0.402020                   0.441818   \n",
      "std                    1.446568                   1.528223   \n",
      "min                    0.000000                   0.000000   \n",
      "25%                    0.000000                   0.000000   \n",
      "50%                    0.000000                   0.000000   \n",
      "75%                    0.000000                   0.000000   \n",
      "max                   28.000000                  17.000000   \n",
      "\n",
      "       return_to_seller_other         totals  \n",
      "count             2255.000000   12485.000000  \n",
      "mean                 0.105987   21595.725911  \n",
      "std                  0.427363   32591.418387  \n",
      "min                  0.000000       0.000000  \n",
      "25%                  0.000000    4638.000000  \n",
      "50%                  0.000000   12399.000000  \n",
      "75%                  0.000000   25453.000000  \n",
      "max                  4.000000  541978.000000  \n"
     ]
    }
   ],
   "source": [
    "full_describe(gun_df)"
   ]
  },
  {
   "cell_type": "markdown",
   "metadata": {},
   "source": [
    "The summary statistics look fine to me. None of the minimum values are less than 0, and none of the percentiles have values that are larger than the max in `totals`."
   ]
  },
  {
   "cell_type": "code",
   "execution_count": 8,
   "metadata": {
    "scrolled": false
   },
   "outputs": [
    {
     "data": {
      "text/html": [
       "<div>\n",
       "<style scoped>\n",
       "    .dataframe tbody tr th:only-of-type {\n",
       "        vertical-align: middle;\n",
       "    }\n",
       "\n",
       "    .dataframe tbody tr th {\n",
       "        vertical-align: top;\n",
       "    }\n",
       "\n",
       "    .dataframe thead th {\n",
       "        text-align: right;\n",
       "    }\n",
       "</style>\n",
       "<table border=\"1\" class=\"dataframe\">\n",
       "  <thead>\n",
       "    <tr style=\"text-align: right;\">\n",
       "      <th></th>\n",
       "      <th>Fact</th>\n",
       "      <th>Fact Note</th>\n",
       "      <th>Alabama</th>\n",
       "      <th>Alaska</th>\n",
       "      <th>Arizona</th>\n",
       "      <th>Arkansas</th>\n",
       "      <th>California</th>\n",
       "      <th>Colorado</th>\n",
       "      <th>Connecticut</th>\n",
       "      <th>Delaware</th>\n",
       "      <th>...</th>\n",
       "      <th>South Dakota</th>\n",
       "      <th>Tennessee</th>\n",
       "      <th>Texas</th>\n",
       "      <th>Utah</th>\n",
       "      <th>Vermont</th>\n",
       "      <th>Virginia</th>\n",
       "      <th>Washington</th>\n",
       "      <th>West Virginia</th>\n",
       "      <th>Wisconsin</th>\n",
       "      <th>Wyoming</th>\n",
       "    </tr>\n",
       "  </thead>\n",
       "  <tbody>\n",
       "    <tr>\n",
       "      <th>0</th>\n",
       "      <td>Population estimates, July 1, 2016,  (V2016)</td>\n",
       "      <td>NaN</td>\n",
       "      <td>4,863,300</td>\n",
       "      <td>741,894</td>\n",
       "      <td>6,931,071</td>\n",
       "      <td>2,988,248</td>\n",
       "      <td>39,250,017</td>\n",
       "      <td>5,540,545</td>\n",
       "      <td>3,576,452</td>\n",
       "      <td>952,065</td>\n",
       "      <td>...</td>\n",
       "      <td>865454</td>\n",
       "      <td>6651194</td>\n",
       "      <td>27,862,596</td>\n",
       "      <td>3,051,217</td>\n",
       "      <td>624,594</td>\n",
       "      <td>8,411,808</td>\n",
       "      <td>7,288,000</td>\n",
       "      <td>1,831,102</td>\n",
       "      <td>5,778,708</td>\n",
       "      <td>585,501</td>\n",
       "    </tr>\n",
       "    <tr>\n",
       "      <th>1</th>\n",
       "      <td>Population estimates base, April 1, 2010,  (V2...</td>\n",
       "      <td>NaN</td>\n",
       "      <td>4,780,131</td>\n",
       "      <td>710,249</td>\n",
       "      <td>6,392,301</td>\n",
       "      <td>2,916,025</td>\n",
       "      <td>37,254,522</td>\n",
       "      <td>5,029,324</td>\n",
       "      <td>3,574,114</td>\n",
       "      <td>897,936</td>\n",
       "      <td>...</td>\n",
       "      <td>814195</td>\n",
       "      <td>6346298</td>\n",
       "      <td>25,146,100</td>\n",
       "      <td>2,763,888</td>\n",
       "      <td>625,741</td>\n",
       "      <td>8,001,041</td>\n",
       "      <td>6,724,545</td>\n",
       "      <td>1,853,011</td>\n",
       "      <td>5,687,289</td>\n",
       "      <td>563,767</td>\n",
       "    </tr>\n",
       "    <tr>\n",
       "      <th>2</th>\n",
       "      <td>Population, percent change - April 1, 2010 (es...</td>\n",
       "      <td>NaN</td>\n",
       "      <td>1.70%</td>\n",
       "      <td>4.50%</td>\n",
       "      <td>8.40%</td>\n",
       "      <td>2.50%</td>\n",
       "      <td>5.40%</td>\n",
       "      <td>10.20%</td>\n",
       "      <td>0.10%</td>\n",
       "      <td>6.00%</td>\n",
       "      <td>...</td>\n",
       "      <td>0.063</td>\n",
       "      <td>0.048</td>\n",
       "      <td>10.80%</td>\n",
       "      <td>10.40%</td>\n",
       "      <td>-0.20%</td>\n",
       "      <td>5.10%</td>\n",
       "      <td>8.40%</td>\n",
       "      <td>-1.20%</td>\n",
       "      <td>1.60%</td>\n",
       "      <td>3.90%</td>\n",
       "    </tr>\n",
       "    <tr>\n",
       "      <th>3</th>\n",
       "      <td>Population, Census, April 1, 2010</td>\n",
       "      <td>NaN</td>\n",
       "      <td>4,779,736</td>\n",
       "      <td>710,231</td>\n",
       "      <td>6,392,017</td>\n",
       "      <td>2,915,918</td>\n",
       "      <td>37,253,956</td>\n",
       "      <td>5,029,196</td>\n",
       "      <td>3,574,097</td>\n",
       "      <td>897,934</td>\n",
       "      <td>...</td>\n",
       "      <td>814180</td>\n",
       "      <td>6346105</td>\n",
       "      <td>25,145,561</td>\n",
       "      <td>2,763,885</td>\n",
       "      <td>625,741</td>\n",
       "      <td>8,001,024</td>\n",
       "      <td>6,724,540</td>\n",
       "      <td>1,852,994</td>\n",
       "      <td>5,686,986</td>\n",
       "      <td>563,626</td>\n",
       "    </tr>\n",
       "    <tr>\n",
       "      <th>4</th>\n",
       "      <td>Persons under 5 years, percent, July 1, 2016, ...</td>\n",
       "      <td>NaN</td>\n",
       "      <td>6.00%</td>\n",
       "      <td>7.30%</td>\n",
       "      <td>6.30%</td>\n",
       "      <td>6.40%</td>\n",
       "      <td>6.30%</td>\n",
       "      <td>6.10%</td>\n",
       "      <td>5.20%</td>\n",
       "      <td>5.80%</td>\n",
       "      <td>...</td>\n",
       "      <td>0.071</td>\n",
       "      <td>0.061</td>\n",
       "      <td>7.20%</td>\n",
       "      <td>8.30%</td>\n",
       "      <td>4.90%</td>\n",
       "      <td>6.10%</td>\n",
       "      <td>6.20%</td>\n",
       "      <td>5.50%</td>\n",
       "      <td>5.80%</td>\n",
       "      <td>6.50%</td>\n",
       "    </tr>\n",
       "  </tbody>\n",
       "</table>\n",
       "<p>5 rows × 52 columns</p>\n",
       "</div>"
      ],
      "text/plain": [
       "                                                Fact Fact Note    Alabama  \\\n",
       "0       Population estimates, July 1, 2016,  (V2016)       NaN  4,863,300   \n",
       "1  Population estimates base, April 1, 2010,  (V2...       NaN  4,780,131   \n",
       "2  Population, percent change - April 1, 2010 (es...       NaN      1.70%   \n",
       "3                  Population, Census, April 1, 2010       NaN  4,779,736   \n",
       "4  Persons under 5 years, percent, July 1, 2016, ...       NaN      6.00%   \n",
       "\n",
       "    Alaska    Arizona   Arkansas  California   Colorado Connecticut Delaware  \\\n",
       "0  741,894  6,931,071  2,988,248  39,250,017  5,540,545   3,576,452  952,065   \n",
       "1  710,249  6,392,301  2,916,025  37,254,522  5,029,324   3,574,114  897,936   \n",
       "2    4.50%      8.40%      2.50%       5.40%     10.20%       0.10%    6.00%   \n",
       "3  710,231  6,392,017  2,915,918  37,253,956  5,029,196   3,574,097  897,934   \n",
       "4    7.30%      6.30%      6.40%       6.30%      6.10%       5.20%    5.80%   \n",
       "\n",
       "   ... South Dakota Tennessee       Texas       Utah  Vermont   Virginia  \\\n",
       "0  ...       865454   6651194  27,862,596  3,051,217  624,594  8,411,808   \n",
       "1  ...       814195   6346298  25,146,100  2,763,888  625,741  8,001,041   \n",
       "2  ...        0.063     0.048      10.80%     10.40%   -0.20%      5.10%   \n",
       "3  ...       814180   6346105  25,145,561  2,763,885  625,741  8,001,024   \n",
       "4  ...        0.071     0.061       7.20%      8.30%    4.90%      6.10%   \n",
       "\n",
       "  Washington West Virginia  Wisconsin  Wyoming  \n",
       "0  7,288,000     1,831,102  5,778,708  585,501  \n",
       "1  6,724,545     1,853,011  5,687,289  563,767  \n",
       "2      8.40%        -1.20%      1.60%    3.90%  \n",
       "3  6,724,540     1,852,994  5,686,986  563,626  \n",
       "4      6.20%         5.50%      5.80%    6.50%  \n",
       "\n",
       "[5 rows x 52 columns]"
      ]
     },
     "execution_count": 8,
     "metadata": {},
     "output_type": "execute_result"
    }
   ],
   "source": [
    "census_df.head()"
   ]
  },
  {
   "cell_type": "code",
   "execution_count": 9,
   "metadata": {},
   "outputs": [
    {
     "name": "stdout",
     "output_type": "stream",
     "text": [
      "Shape: (85, 52)\n",
      "\n",
      "\n",
      "Number of duplicated rows: 3\n",
      "\n",
      "\n",
      "<class 'pandas.core.frame.DataFrame'>\n",
      "RangeIndex: 85 entries, 0 to 84\n",
      "Data columns (total 52 columns):\n",
      " #   Column          Non-Null Count  Dtype \n",
      "---  ------          --------------  ----- \n",
      " 0   Fact            80 non-null     object\n",
      " 1   Fact Note       28 non-null     object\n",
      " 2   Alabama         65 non-null     object\n",
      " 3   Alaska          65 non-null     object\n",
      " 4   Arizona         65 non-null     object\n",
      " 5   Arkansas        65 non-null     object\n",
      " 6   California      65 non-null     object\n",
      " 7   Colorado        65 non-null     object\n",
      " 8   Connecticut     65 non-null     object\n",
      " 9   Delaware        65 non-null     object\n",
      " 10  Florida         65 non-null     object\n",
      " 11  Georgia         65 non-null     object\n",
      " 12  Hawaii          65 non-null     object\n",
      " 13  Idaho           65 non-null     object\n",
      " 14  Illinois        65 non-null     object\n",
      " 15  Indiana         65 non-null     object\n",
      " 16  Iowa            65 non-null     object\n",
      " 17  Kansas          65 non-null     object\n",
      " 18  Kentucky        65 non-null     object\n",
      " 19  Louisiana       65 non-null     object\n",
      " 20  Maine           65 non-null     object\n",
      " 21  Maryland        65 non-null     object\n",
      " 22  Massachusetts   65 non-null     object\n",
      " 23  Michigan        65 non-null     object\n",
      " 24  Minnesota       65 non-null     object\n",
      " 25  Mississippi     65 non-null     object\n",
      " 26  Missouri        65 non-null     object\n",
      " 27  Montana         65 non-null     object\n",
      " 28  Nebraska        65 non-null     object\n",
      " 29  Nevada          65 non-null     object\n",
      " 30  New Hampshire   65 non-null     object\n",
      " 31  New Jersey      65 non-null     object\n",
      " 32  New Mexico      65 non-null     object\n",
      " 33  New York        65 non-null     object\n",
      " 34  North Carolina  65 non-null     object\n",
      " 35  North Dakota    65 non-null     object\n",
      " 36  Ohio            65 non-null     object\n",
      " 37  Oklahoma        65 non-null     object\n",
      " 38  Oregon          65 non-null     object\n",
      " 39  Pennsylvania    65 non-null     object\n",
      " 40  Rhode Island    65 non-null     object\n",
      " 41  South Carolina  65 non-null     object\n",
      " 42  South Dakota    65 non-null     object\n",
      " 43  Tennessee       65 non-null     object\n",
      " 44  Texas           65 non-null     object\n",
      " 45  Utah            65 non-null     object\n",
      " 46  Vermont         65 non-null     object\n",
      " 47  Virginia        65 non-null     object\n",
      " 48  Washington      65 non-null     object\n",
      " 49  West Virginia   65 non-null     object\n",
      " 50  Wisconsin       65 non-null     object\n",
      " 51  Wyoming         65 non-null     object\n",
      "dtypes: object(52)\n",
      "memory usage: 34.7+ KB\n",
      "None\n",
      "\n",
      "\n"
     ]
    }
   ],
   "source": [
    "print_properties(census_df)"
   ]
  },
  {
   "cell_type": "markdown",
   "metadata": {},
   "source": [
    "I see several issues for `census_df`:\n",
    "- The `Fact` column has 80 non-null values, while most of the remaining columns only have 65. That seems odd -- if a certain fact is given, I would expect at least one state to have data on that fact. `Fact Note` has many more missing values, but I would expect that given that not every `Fact` will have an explanation. I will explore rows with null values below.\n",
    "- All of the data types are strings. Based on the `census_df.head()` statement above and after looking at the original CSV file, it looks like all of these columns should be converted to int or float, except for `FIPS Code`, which can probably be removed.\n",
    "- This dataframe has the states as the columns and the facts as the rows. It might be worthwhile to switch the rows and columns in case I want to perform any merging using the state names.\n",
    "- If I want to use the facts as the column names, I should shorten the column names to make them easier to use. I will do this after I drop irrelevant columns, so that I do not have to change the name of every single column.\n",
    "\n",
    "To explore the rows with missing values, I will create a dataframe that drops `Fact Note`."
   ]
  },
  {
   "cell_type": "code",
   "execution_count": 10,
   "metadata": {
    "scrolled": false
   },
   "outputs": [
    {
     "data": {
      "text/html": [
       "<div>\n",
       "<style scoped>\n",
       "    .dataframe tbody tr th:only-of-type {\n",
       "        vertical-align: middle;\n",
       "    }\n",
       "\n",
       "    .dataframe tbody tr th {\n",
       "        vertical-align: top;\n",
       "    }\n",
       "\n",
       "    .dataframe thead th {\n",
       "        text-align: right;\n",
       "    }\n",
       "</style>\n",
       "<table border=\"1\" class=\"dataframe\">\n",
       "  <thead>\n",
       "    <tr style=\"text-align: right;\">\n",
       "      <th></th>\n",
       "      <th>Fact</th>\n",
       "      <th>Alabama</th>\n",
       "      <th>Alaska</th>\n",
       "      <th>Arizona</th>\n",
       "      <th>Arkansas</th>\n",
       "      <th>California</th>\n",
       "      <th>Colorado</th>\n",
       "      <th>Connecticut</th>\n",
       "      <th>Delaware</th>\n",
       "      <th>Florida</th>\n",
       "      <th>...</th>\n",
       "      <th>South Dakota</th>\n",
       "      <th>Tennessee</th>\n",
       "      <th>Texas</th>\n",
       "      <th>Utah</th>\n",
       "      <th>Vermont</th>\n",
       "      <th>Virginia</th>\n",
       "      <th>Washington</th>\n",
       "      <th>West Virginia</th>\n",
       "      <th>Wisconsin</th>\n",
       "      <th>Wyoming</th>\n",
       "    </tr>\n",
       "  </thead>\n",
       "  <tbody>\n",
       "    <tr>\n",
       "      <th>65</th>\n",
       "      <td>NaN</td>\n",
       "      <td>NaN</td>\n",
       "      <td>NaN</td>\n",
       "      <td>NaN</td>\n",
       "      <td>NaN</td>\n",
       "      <td>NaN</td>\n",
       "      <td>NaN</td>\n",
       "      <td>NaN</td>\n",
       "      <td>NaN</td>\n",
       "      <td>NaN</td>\n",
       "      <td>...</td>\n",
       "      <td>NaN</td>\n",
       "      <td>NaN</td>\n",
       "      <td>NaN</td>\n",
       "      <td>NaN</td>\n",
       "      <td>NaN</td>\n",
       "      <td>NaN</td>\n",
       "      <td>NaN</td>\n",
       "      <td>NaN</td>\n",
       "      <td>NaN</td>\n",
       "      <td>NaN</td>\n",
       "    </tr>\n",
       "    <tr>\n",
       "      <th>66</th>\n",
       "      <td>NOTE: FIPS Code values are enclosed in quotes ...</td>\n",
       "      <td>NaN</td>\n",
       "      <td>NaN</td>\n",
       "      <td>NaN</td>\n",
       "      <td>NaN</td>\n",
       "      <td>NaN</td>\n",
       "      <td>NaN</td>\n",
       "      <td>NaN</td>\n",
       "      <td>NaN</td>\n",
       "      <td>NaN</td>\n",
       "      <td>...</td>\n",
       "      <td>NaN</td>\n",
       "      <td>NaN</td>\n",
       "      <td>NaN</td>\n",
       "      <td>NaN</td>\n",
       "      <td>NaN</td>\n",
       "      <td>NaN</td>\n",
       "      <td>NaN</td>\n",
       "      <td>NaN</td>\n",
       "      <td>NaN</td>\n",
       "      <td>NaN</td>\n",
       "    </tr>\n",
       "    <tr>\n",
       "      <th>67</th>\n",
       "      <td>NaN</td>\n",
       "      <td>NaN</td>\n",
       "      <td>NaN</td>\n",
       "      <td>NaN</td>\n",
       "      <td>NaN</td>\n",
       "      <td>NaN</td>\n",
       "      <td>NaN</td>\n",
       "      <td>NaN</td>\n",
       "      <td>NaN</td>\n",
       "      <td>NaN</td>\n",
       "      <td>...</td>\n",
       "      <td>NaN</td>\n",
       "      <td>NaN</td>\n",
       "      <td>NaN</td>\n",
       "      <td>NaN</td>\n",
       "      <td>NaN</td>\n",
       "      <td>NaN</td>\n",
       "      <td>NaN</td>\n",
       "      <td>NaN</td>\n",
       "      <td>NaN</td>\n",
       "      <td>NaN</td>\n",
       "    </tr>\n",
       "    <tr>\n",
       "      <th>68</th>\n",
       "      <td>Value Notes</td>\n",
       "      <td>NaN</td>\n",
       "      <td>NaN</td>\n",
       "      <td>NaN</td>\n",
       "      <td>NaN</td>\n",
       "      <td>NaN</td>\n",
       "      <td>NaN</td>\n",
       "      <td>NaN</td>\n",
       "      <td>NaN</td>\n",
       "      <td>NaN</td>\n",
       "      <td>...</td>\n",
       "      <td>NaN</td>\n",
       "      <td>NaN</td>\n",
       "      <td>NaN</td>\n",
       "      <td>NaN</td>\n",
       "      <td>NaN</td>\n",
       "      <td>NaN</td>\n",
       "      <td>NaN</td>\n",
       "      <td>NaN</td>\n",
       "      <td>NaN</td>\n",
       "      <td>NaN</td>\n",
       "    </tr>\n",
       "    <tr>\n",
       "      <th>69</th>\n",
       "      <td>1</td>\n",
       "      <td>NaN</td>\n",
       "      <td>NaN</td>\n",
       "      <td>NaN</td>\n",
       "      <td>NaN</td>\n",
       "      <td>NaN</td>\n",
       "      <td>NaN</td>\n",
       "      <td>NaN</td>\n",
       "      <td>NaN</td>\n",
       "      <td>NaN</td>\n",
       "      <td>...</td>\n",
       "      <td>NaN</td>\n",
       "      <td>NaN</td>\n",
       "      <td>NaN</td>\n",
       "      <td>NaN</td>\n",
       "      <td>NaN</td>\n",
       "      <td>NaN</td>\n",
       "      <td>NaN</td>\n",
       "      <td>NaN</td>\n",
       "      <td>NaN</td>\n",
       "      <td>NaN</td>\n",
       "    </tr>\n",
       "    <tr>\n",
       "      <th>70</th>\n",
       "      <td>NaN</td>\n",
       "      <td>NaN</td>\n",
       "      <td>NaN</td>\n",
       "      <td>NaN</td>\n",
       "      <td>NaN</td>\n",
       "      <td>NaN</td>\n",
       "      <td>NaN</td>\n",
       "      <td>NaN</td>\n",
       "      <td>NaN</td>\n",
       "      <td>NaN</td>\n",
       "      <td>...</td>\n",
       "      <td>NaN</td>\n",
       "      <td>NaN</td>\n",
       "      <td>NaN</td>\n",
       "      <td>NaN</td>\n",
       "      <td>NaN</td>\n",
       "      <td>NaN</td>\n",
       "      <td>NaN</td>\n",
       "      <td>NaN</td>\n",
       "      <td>NaN</td>\n",
       "      <td>NaN</td>\n",
       "    </tr>\n",
       "    <tr>\n",
       "      <th>71</th>\n",
       "      <td>Fact Notes</td>\n",
       "      <td>NaN</td>\n",
       "      <td>NaN</td>\n",
       "      <td>NaN</td>\n",
       "      <td>NaN</td>\n",
       "      <td>NaN</td>\n",
       "      <td>NaN</td>\n",
       "      <td>NaN</td>\n",
       "      <td>NaN</td>\n",
       "      <td>NaN</td>\n",
       "      <td>...</td>\n",
       "      <td>NaN</td>\n",
       "      <td>NaN</td>\n",
       "      <td>NaN</td>\n",
       "      <td>NaN</td>\n",
       "      <td>NaN</td>\n",
       "      <td>NaN</td>\n",
       "      <td>NaN</td>\n",
       "      <td>NaN</td>\n",
       "      <td>NaN</td>\n",
       "      <td>NaN</td>\n",
       "    </tr>\n",
       "    <tr>\n",
       "      <th>72</th>\n",
       "      <td>(a)</td>\n",
       "      <td>NaN</td>\n",
       "      <td>NaN</td>\n",
       "      <td>NaN</td>\n",
       "      <td>NaN</td>\n",
       "      <td>NaN</td>\n",
       "      <td>NaN</td>\n",
       "      <td>NaN</td>\n",
       "      <td>NaN</td>\n",
       "      <td>NaN</td>\n",
       "      <td>...</td>\n",
       "      <td>NaN</td>\n",
       "      <td>NaN</td>\n",
       "      <td>NaN</td>\n",
       "      <td>NaN</td>\n",
       "      <td>NaN</td>\n",
       "      <td>NaN</td>\n",
       "      <td>NaN</td>\n",
       "      <td>NaN</td>\n",
       "      <td>NaN</td>\n",
       "      <td>NaN</td>\n",
       "    </tr>\n",
       "    <tr>\n",
       "      <th>73</th>\n",
       "      <td>(b)</td>\n",
       "      <td>NaN</td>\n",
       "      <td>NaN</td>\n",
       "      <td>NaN</td>\n",
       "      <td>NaN</td>\n",
       "      <td>NaN</td>\n",
       "      <td>NaN</td>\n",
       "      <td>NaN</td>\n",
       "      <td>NaN</td>\n",
       "      <td>NaN</td>\n",
       "      <td>...</td>\n",
       "      <td>NaN</td>\n",
       "      <td>NaN</td>\n",
       "      <td>NaN</td>\n",
       "      <td>NaN</td>\n",
       "      <td>NaN</td>\n",
       "      <td>NaN</td>\n",
       "      <td>NaN</td>\n",
       "      <td>NaN</td>\n",
       "      <td>NaN</td>\n",
       "      <td>NaN</td>\n",
       "    </tr>\n",
       "    <tr>\n",
       "      <th>74</th>\n",
       "      <td>(c)</td>\n",
       "      <td>NaN</td>\n",
       "      <td>NaN</td>\n",
       "      <td>NaN</td>\n",
       "      <td>NaN</td>\n",
       "      <td>NaN</td>\n",
       "      <td>NaN</td>\n",
       "      <td>NaN</td>\n",
       "      <td>NaN</td>\n",
       "      <td>NaN</td>\n",
       "      <td>...</td>\n",
       "      <td>NaN</td>\n",
       "      <td>NaN</td>\n",
       "      <td>NaN</td>\n",
       "      <td>NaN</td>\n",
       "      <td>NaN</td>\n",
       "      <td>NaN</td>\n",
       "      <td>NaN</td>\n",
       "      <td>NaN</td>\n",
       "      <td>NaN</td>\n",
       "      <td>NaN</td>\n",
       "    </tr>\n",
       "    <tr>\n",
       "      <th>75</th>\n",
       "      <td>NaN</td>\n",
       "      <td>NaN</td>\n",
       "      <td>NaN</td>\n",
       "      <td>NaN</td>\n",
       "      <td>NaN</td>\n",
       "      <td>NaN</td>\n",
       "      <td>NaN</td>\n",
       "      <td>NaN</td>\n",
       "      <td>NaN</td>\n",
       "      <td>NaN</td>\n",
       "      <td>...</td>\n",
       "      <td>NaN</td>\n",
       "      <td>NaN</td>\n",
       "      <td>NaN</td>\n",
       "      <td>NaN</td>\n",
       "      <td>NaN</td>\n",
       "      <td>NaN</td>\n",
       "      <td>NaN</td>\n",
       "      <td>NaN</td>\n",
       "      <td>NaN</td>\n",
       "      <td>NaN</td>\n",
       "    </tr>\n",
       "    <tr>\n",
       "      <th>76</th>\n",
       "      <td>Value Flags</td>\n",
       "      <td>NaN</td>\n",
       "      <td>NaN</td>\n",
       "      <td>NaN</td>\n",
       "      <td>NaN</td>\n",
       "      <td>NaN</td>\n",
       "      <td>NaN</td>\n",
       "      <td>NaN</td>\n",
       "      <td>NaN</td>\n",
       "      <td>NaN</td>\n",
       "      <td>...</td>\n",
       "      <td>NaN</td>\n",
       "      <td>NaN</td>\n",
       "      <td>NaN</td>\n",
       "      <td>NaN</td>\n",
       "      <td>NaN</td>\n",
       "      <td>NaN</td>\n",
       "      <td>NaN</td>\n",
       "      <td>NaN</td>\n",
       "      <td>NaN</td>\n",
       "      <td>NaN</td>\n",
       "    </tr>\n",
       "    <tr>\n",
       "      <th>77</th>\n",
       "      <td>-</td>\n",
       "      <td>NaN</td>\n",
       "      <td>NaN</td>\n",
       "      <td>NaN</td>\n",
       "      <td>NaN</td>\n",
       "      <td>NaN</td>\n",
       "      <td>NaN</td>\n",
       "      <td>NaN</td>\n",
       "      <td>NaN</td>\n",
       "      <td>NaN</td>\n",
       "      <td>...</td>\n",
       "      <td>NaN</td>\n",
       "      <td>NaN</td>\n",
       "      <td>NaN</td>\n",
       "      <td>NaN</td>\n",
       "      <td>NaN</td>\n",
       "      <td>NaN</td>\n",
       "      <td>NaN</td>\n",
       "      <td>NaN</td>\n",
       "      <td>NaN</td>\n",
       "      <td>NaN</td>\n",
       "    </tr>\n",
       "    <tr>\n",
       "      <th>78</th>\n",
       "      <td>D</td>\n",
       "      <td>NaN</td>\n",
       "      <td>NaN</td>\n",
       "      <td>NaN</td>\n",
       "      <td>NaN</td>\n",
       "      <td>NaN</td>\n",
       "      <td>NaN</td>\n",
       "      <td>NaN</td>\n",
       "      <td>NaN</td>\n",
       "      <td>NaN</td>\n",
       "      <td>...</td>\n",
       "      <td>NaN</td>\n",
       "      <td>NaN</td>\n",
       "      <td>NaN</td>\n",
       "      <td>NaN</td>\n",
       "      <td>NaN</td>\n",
       "      <td>NaN</td>\n",
       "      <td>NaN</td>\n",
       "      <td>NaN</td>\n",
       "      <td>NaN</td>\n",
       "      <td>NaN</td>\n",
       "    </tr>\n",
       "    <tr>\n",
       "      <th>79</th>\n",
       "      <td>F</td>\n",
       "      <td>NaN</td>\n",
       "      <td>NaN</td>\n",
       "      <td>NaN</td>\n",
       "      <td>NaN</td>\n",
       "      <td>NaN</td>\n",
       "      <td>NaN</td>\n",
       "      <td>NaN</td>\n",
       "      <td>NaN</td>\n",
       "      <td>NaN</td>\n",
       "      <td>...</td>\n",
       "      <td>NaN</td>\n",
       "      <td>NaN</td>\n",
       "      <td>NaN</td>\n",
       "      <td>NaN</td>\n",
       "      <td>NaN</td>\n",
       "      <td>NaN</td>\n",
       "      <td>NaN</td>\n",
       "      <td>NaN</td>\n",
       "      <td>NaN</td>\n",
       "      <td>NaN</td>\n",
       "    </tr>\n",
       "    <tr>\n",
       "      <th>80</th>\n",
       "      <td>FN</td>\n",
       "      <td>NaN</td>\n",
       "      <td>NaN</td>\n",
       "      <td>NaN</td>\n",
       "      <td>NaN</td>\n",
       "      <td>NaN</td>\n",
       "      <td>NaN</td>\n",
       "      <td>NaN</td>\n",
       "      <td>NaN</td>\n",
       "      <td>NaN</td>\n",
       "      <td>...</td>\n",
       "      <td>NaN</td>\n",
       "      <td>NaN</td>\n",
       "      <td>NaN</td>\n",
       "      <td>NaN</td>\n",
       "      <td>NaN</td>\n",
       "      <td>NaN</td>\n",
       "      <td>NaN</td>\n",
       "      <td>NaN</td>\n",
       "      <td>NaN</td>\n",
       "      <td>NaN</td>\n",
       "    </tr>\n",
       "    <tr>\n",
       "      <th>81</th>\n",
       "      <td>NaN</td>\n",
       "      <td>NaN</td>\n",
       "      <td>NaN</td>\n",
       "      <td>NaN</td>\n",
       "      <td>NaN</td>\n",
       "      <td>NaN</td>\n",
       "      <td>NaN</td>\n",
       "      <td>NaN</td>\n",
       "      <td>NaN</td>\n",
       "      <td>NaN</td>\n",
       "      <td>...</td>\n",
       "      <td>NaN</td>\n",
       "      <td>NaN</td>\n",
       "      <td>NaN</td>\n",
       "      <td>NaN</td>\n",
       "      <td>NaN</td>\n",
       "      <td>NaN</td>\n",
       "      <td>NaN</td>\n",
       "      <td>NaN</td>\n",
       "      <td>NaN</td>\n",
       "      <td>NaN</td>\n",
       "    </tr>\n",
       "    <tr>\n",
       "      <th>82</th>\n",
       "      <td>S</td>\n",
       "      <td>NaN</td>\n",
       "      <td>NaN</td>\n",
       "      <td>NaN</td>\n",
       "      <td>NaN</td>\n",
       "      <td>NaN</td>\n",
       "      <td>NaN</td>\n",
       "      <td>NaN</td>\n",
       "      <td>NaN</td>\n",
       "      <td>NaN</td>\n",
       "      <td>...</td>\n",
       "      <td>NaN</td>\n",
       "      <td>NaN</td>\n",
       "      <td>NaN</td>\n",
       "      <td>NaN</td>\n",
       "      <td>NaN</td>\n",
       "      <td>NaN</td>\n",
       "      <td>NaN</td>\n",
       "      <td>NaN</td>\n",
       "      <td>NaN</td>\n",
       "      <td>NaN</td>\n",
       "    </tr>\n",
       "    <tr>\n",
       "      <th>83</th>\n",
       "      <td>X</td>\n",
       "      <td>NaN</td>\n",
       "      <td>NaN</td>\n",
       "      <td>NaN</td>\n",
       "      <td>NaN</td>\n",
       "      <td>NaN</td>\n",
       "      <td>NaN</td>\n",
       "      <td>NaN</td>\n",
       "      <td>NaN</td>\n",
       "      <td>NaN</td>\n",
       "      <td>...</td>\n",
       "      <td>NaN</td>\n",
       "      <td>NaN</td>\n",
       "      <td>NaN</td>\n",
       "      <td>NaN</td>\n",
       "      <td>NaN</td>\n",
       "      <td>NaN</td>\n",
       "      <td>NaN</td>\n",
       "      <td>NaN</td>\n",
       "      <td>NaN</td>\n",
       "      <td>NaN</td>\n",
       "    </tr>\n",
       "    <tr>\n",
       "      <th>84</th>\n",
       "      <td>Z</td>\n",
       "      <td>NaN</td>\n",
       "      <td>NaN</td>\n",
       "      <td>NaN</td>\n",
       "      <td>NaN</td>\n",
       "      <td>NaN</td>\n",
       "      <td>NaN</td>\n",
       "      <td>NaN</td>\n",
       "      <td>NaN</td>\n",
       "      <td>NaN</td>\n",
       "      <td>...</td>\n",
       "      <td>NaN</td>\n",
       "      <td>NaN</td>\n",
       "      <td>NaN</td>\n",
       "      <td>NaN</td>\n",
       "      <td>NaN</td>\n",
       "      <td>NaN</td>\n",
       "      <td>NaN</td>\n",
       "      <td>NaN</td>\n",
       "      <td>NaN</td>\n",
       "      <td>NaN</td>\n",
       "    </tr>\n",
       "  </tbody>\n",
       "</table>\n",
       "<p>20 rows × 51 columns</p>\n",
       "</div>"
      ],
      "text/plain": [
       "                                                 Fact Alabama Alaska Arizona  \\\n",
       "65                                                NaN     NaN    NaN     NaN   \n",
       "66  NOTE: FIPS Code values are enclosed in quotes ...     NaN    NaN     NaN   \n",
       "67                                                NaN     NaN    NaN     NaN   \n",
       "68                                        Value Notes     NaN    NaN     NaN   \n",
       "69                                                  1     NaN    NaN     NaN   \n",
       "70                                                NaN     NaN    NaN     NaN   \n",
       "71                                         Fact Notes     NaN    NaN     NaN   \n",
       "72                                                (a)     NaN    NaN     NaN   \n",
       "73                                                (b)     NaN    NaN     NaN   \n",
       "74                                                (c)     NaN    NaN     NaN   \n",
       "75                                                NaN     NaN    NaN     NaN   \n",
       "76                                        Value Flags     NaN    NaN     NaN   \n",
       "77                                                  -     NaN    NaN     NaN   \n",
       "78                                                  D     NaN    NaN     NaN   \n",
       "79                                                  F     NaN    NaN     NaN   \n",
       "80                                                 FN     NaN    NaN     NaN   \n",
       "81                                                NaN     NaN    NaN     NaN   \n",
       "82                                                  S     NaN    NaN     NaN   \n",
       "83                                                  X     NaN    NaN     NaN   \n",
       "84                                                  Z     NaN    NaN     NaN   \n",
       "\n",
       "   Arkansas California Colorado Connecticut Delaware Florida  ...  \\\n",
       "65      NaN        NaN      NaN         NaN      NaN     NaN  ...   \n",
       "66      NaN        NaN      NaN         NaN      NaN     NaN  ...   \n",
       "67      NaN        NaN      NaN         NaN      NaN     NaN  ...   \n",
       "68      NaN        NaN      NaN         NaN      NaN     NaN  ...   \n",
       "69      NaN        NaN      NaN         NaN      NaN     NaN  ...   \n",
       "70      NaN        NaN      NaN         NaN      NaN     NaN  ...   \n",
       "71      NaN        NaN      NaN         NaN      NaN     NaN  ...   \n",
       "72      NaN        NaN      NaN         NaN      NaN     NaN  ...   \n",
       "73      NaN        NaN      NaN         NaN      NaN     NaN  ...   \n",
       "74      NaN        NaN      NaN         NaN      NaN     NaN  ...   \n",
       "75      NaN        NaN      NaN         NaN      NaN     NaN  ...   \n",
       "76      NaN        NaN      NaN         NaN      NaN     NaN  ...   \n",
       "77      NaN        NaN      NaN         NaN      NaN     NaN  ...   \n",
       "78      NaN        NaN      NaN         NaN      NaN     NaN  ...   \n",
       "79      NaN        NaN      NaN         NaN      NaN     NaN  ...   \n",
       "80      NaN        NaN      NaN         NaN      NaN     NaN  ...   \n",
       "81      NaN        NaN      NaN         NaN      NaN     NaN  ...   \n",
       "82      NaN        NaN      NaN         NaN      NaN     NaN  ...   \n",
       "83      NaN        NaN      NaN         NaN      NaN     NaN  ...   \n",
       "84      NaN        NaN      NaN         NaN      NaN     NaN  ...   \n",
       "\n",
       "   South Dakota Tennessee Texas Utah Vermont Virginia Washington  \\\n",
       "65          NaN       NaN   NaN  NaN     NaN      NaN        NaN   \n",
       "66          NaN       NaN   NaN  NaN     NaN      NaN        NaN   \n",
       "67          NaN       NaN   NaN  NaN     NaN      NaN        NaN   \n",
       "68          NaN       NaN   NaN  NaN     NaN      NaN        NaN   \n",
       "69          NaN       NaN   NaN  NaN     NaN      NaN        NaN   \n",
       "70          NaN       NaN   NaN  NaN     NaN      NaN        NaN   \n",
       "71          NaN       NaN   NaN  NaN     NaN      NaN        NaN   \n",
       "72          NaN       NaN   NaN  NaN     NaN      NaN        NaN   \n",
       "73          NaN       NaN   NaN  NaN     NaN      NaN        NaN   \n",
       "74          NaN       NaN   NaN  NaN     NaN      NaN        NaN   \n",
       "75          NaN       NaN   NaN  NaN     NaN      NaN        NaN   \n",
       "76          NaN       NaN   NaN  NaN     NaN      NaN        NaN   \n",
       "77          NaN       NaN   NaN  NaN     NaN      NaN        NaN   \n",
       "78          NaN       NaN   NaN  NaN     NaN      NaN        NaN   \n",
       "79          NaN       NaN   NaN  NaN     NaN      NaN        NaN   \n",
       "80          NaN       NaN   NaN  NaN     NaN      NaN        NaN   \n",
       "81          NaN       NaN   NaN  NaN     NaN      NaN        NaN   \n",
       "82          NaN       NaN   NaN  NaN     NaN      NaN        NaN   \n",
       "83          NaN       NaN   NaN  NaN     NaN      NaN        NaN   \n",
       "84          NaN       NaN   NaN  NaN     NaN      NaN        NaN   \n",
       "\n",
       "   West Virginia Wisconsin Wyoming  \n",
       "65           NaN       NaN     NaN  \n",
       "66           NaN       NaN     NaN  \n",
       "67           NaN       NaN     NaN  \n",
       "68           NaN       NaN     NaN  \n",
       "69           NaN       NaN     NaN  \n",
       "70           NaN       NaN     NaN  \n",
       "71           NaN       NaN     NaN  \n",
       "72           NaN       NaN     NaN  \n",
       "73           NaN       NaN     NaN  \n",
       "74           NaN       NaN     NaN  \n",
       "75           NaN       NaN     NaN  \n",
       "76           NaN       NaN     NaN  \n",
       "77           NaN       NaN     NaN  \n",
       "78           NaN       NaN     NaN  \n",
       "79           NaN       NaN     NaN  \n",
       "80           NaN       NaN     NaN  \n",
       "81           NaN       NaN     NaN  \n",
       "82           NaN       NaN     NaN  \n",
       "83           NaN       NaN     NaN  \n",
       "84           NaN       NaN     NaN  \n",
       "\n",
       "[20 rows x 51 columns]"
      ]
     },
     "execution_count": 10,
     "metadata": {},
     "output_type": "execute_result"
    }
   ],
   "source": [
    "census_df_na = census_df.drop(['Fact Note'], axis=1)\n",
    "census_df_na[census_df_na.isna().any(axis=1)]"
   ]
  },
  {
   "cell_type": "code",
   "execution_count": 11,
   "metadata": {},
   "outputs": [
    {
     "data": {
      "text/html": [
       "<div>\n",
       "<style scoped>\n",
       "    .dataframe tbody tr th:only-of-type {\n",
       "        vertical-align: middle;\n",
       "    }\n",
       "\n",
       "    .dataframe tbody tr th {\n",
       "        vertical-align: top;\n",
       "    }\n",
       "\n",
       "    .dataframe thead th {\n",
       "        text-align: right;\n",
       "    }\n",
       "</style>\n",
       "<table border=\"1\" class=\"dataframe\">\n",
       "  <thead>\n",
       "    <tr style=\"text-align: right;\">\n",
       "      <th></th>\n",
       "      <th>Fact</th>\n",
       "      <th>Fact Note</th>\n",
       "      <th>Alabama</th>\n",
       "      <th>Alaska</th>\n",
       "      <th>Arizona</th>\n",
       "      <th>Arkansas</th>\n",
       "      <th>California</th>\n",
       "      <th>Colorado</th>\n",
       "      <th>Connecticut</th>\n",
       "      <th>Delaware</th>\n",
       "      <th>...</th>\n",
       "      <th>South Dakota</th>\n",
       "      <th>Tennessee</th>\n",
       "      <th>Texas</th>\n",
       "      <th>Utah</th>\n",
       "      <th>Vermont</th>\n",
       "      <th>Virginia</th>\n",
       "      <th>Washington</th>\n",
       "      <th>West Virginia</th>\n",
       "      <th>Wisconsin</th>\n",
       "      <th>Wyoming</th>\n",
       "    </tr>\n",
       "  </thead>\n",
       "  <tbody>\n",
       "    <tr>\n",
       "      <th>64</th>\n",
       "      <td>FIPS Code</td>\n",
       "      <td>NaN</td>\n",
       "      <td>\"01\"</td>\n",
       "      <td>\"02\"</td>\n",
       "      <td>\"04\"</td>\n",
       "      <td>\"05\"</td>\n",
       "      <td>\"06\"</td>\n",
       "      <td>\"08\"</td>\n",
       "      <td>\"09\"</td>\n",
       "      <td>\"10\"</td>\n",
       "      <td>...</td>\n",
       "      <td>\"46\"</td>\n",
       "      <td>\"47\"</td>\n",
       "      <td>\"48\"</td>\n",
       "      <td>\"49\"</td>\n",
       "      <td>\"50\"</td>\n",
       "      <td>\"51\"</td>\n",
       "      <td>\"53\"</td>\n",
       "      <td>\"54\"</td>\n",
       "      <td>\"55\"</td>\n",
       "      <td>\"56\"</td>\n",
       "    </tr>\n",
       "  </tbody>\n",
       "</table>\n",
       "<p>1 rows × 52 columns</p>\n",
       "</div>"
      ],
      "text/plain": [
       "         Fact Fact Note Alabama Alaska Arizona Arkansas California Colorado  \\\n",
       "64  FIPS Code       NaN    \"01\"   \"02\"    \"04\"     \"05\"       \"06\"     \"08\"   \n",
       "\n",
       "   Connecticut Delaware  ... South Dakota Tennessee Texas  Utah Vermont  \\\n",
       "64        \"09\"     \"10\"  ...         \"46\"      \"47\"  \"48\"  \"49\"    \"50\"   \n",
       "\n",
       "   Virginia Washington West Virginia Wisconsin Wyoming  \n",
       "64     \"51\"       \"53\"          \"54\"      \"55\"    \"56\"  \n",
       "\n",
       "[1 rows x 52 columns]"
      ]
     },
     "execution_count": 11,
     "metadata": {},
     "output_type": "execute_result"
    }
   ],
   "source": [
    "census_df.query('Fact == \"FIPS Code\"')"
   ]
  },
  {
   "cell_type": "markdown",
   "metadata": {},
   "source": [
    "These are just footnotes at the bottom of the dataframe. I will remove these rows in addition to `FIPS Code`."
   ]
  },
  {
   "cell_type": "markdown",
   "metadata": {},
   "source": [
    "I will look into these duplicate rows below. Based on the output above, I suspect that some of the duplicate rows may be in the footnotes section."
   ]
  },
  {
   "cell_type": "code",
   "execution_count": 12,
   "metadata": {},
   "outputs": [
    {
     "data": {
      "text/html": [
       "<div>\n",
       "<style scoped>\n",
       "    .dataframe tbody tr th:only-of-type {\n",
       "        vertical-align: middle;\n",
       "    }\n",
       "\n",
       "    .dataframe tbody tr th {\n",
       "        vertical-align: top;\n",
       "    }\n",
       "\n",
       "    .dataframe thead th {\n",
       "        text-align: right;\n",
       "    }\n",
       "</style>\n",
       "<table border=\"1\" class=\"dataframe\">\n",
       "  <thead>\n",
       "    <tr style=\"text-align: right;\">\n",
       "      <th></th>\n",
       "      <th>Fact</th>\n",
       "      <th>Fact Note</th>\n",
       "      <th>Alabama</th>\n",
       "      <th>Alaska</th>\n",
       "      <th>Arizona</th>\n",
       "      <th>Arkansas</th>\n",
       "      <th>California</th>\n",
       "      <th>Colorado</th>\n",
       "      <th>Connecticut</th>\n",
       "      <th>Delaware</th>\n",
       "      <th>...</th>\n",
       "      <th>South Dakota</th>\n",
       "      <th>Tennessee</th>\n",
       "      <th>Texas</th>\n",
       "      <th>Utah</th>\n",
       "      <th>Vermont</th>\n",
       "      <th>Virginia</th>\n",
       "      <th>Washington</th>\n",
       "      <th>West Virginia</th>\n",
       "      <th>Wisconsin</th>\n",
       "      <th>Wyoming</th>\n",
       "    </tr>\n",
       "  </thead>\n",
       "  <tbody>\n",
       "    <tr>\n",
       "      <th>67</th>\n",
       "      <td>NaN</td>\n",
       "      <td>NaN</td>\n",
       "      <td>NaN</td>\n",
       "      <td>NaN</td>\n",
       "      <td>NaN</td>\n",
       "      <td>NaN</td>\n",
       "      <td>NaN</td>\n",
       "      <td>NaN</td>\n",
       "      <td>NaN</td>\n",
       "      <td>NaN</td>\n",
       "      <td>...</td>\n",
       "      <td>NaN</td>\n",
       "      <td>NaN</td>\n",
       "      <td>NaN</td>\n",
       "      <td>NaN</td>\n",
       "      <td>NaN</td>\n",
       "      <td>NaN</td>\n",
       "      <td>NaN</td>\n",
       "      <td>NaN</td>\n",
       "      <td>NaN</td>\n",
       "      <td>NaN</td>\n",
       "    </tr>\n",
       "    <tr>\n",
       "      <th>70</th>\n",
       "      <td>NaN</td>\n",
       "      <td>NaN</td>\n",
       "      <td>NaN</td>\n",
       "      <td>NaN</td>\n",
       "      <td>NaN</td>\n",
       "      <td>NaN</td>\n",
       "      <td>NaN</td>\n",
       "      <td>NaN</td>\n",
       "      <td>NaN</td>\n",
       "      <td>NaN</td>\n",
       "      <td>...</td>\n",
       "      <td>NaN</td>\n",
       "      <td>NaN</td>\n",
       "      <td>NaN</td>\n",
       "      <td>NaN</td>\n",
       "      <td>NaN</td>\n",
       "      <td>NaN</td>\n",
       "      <td>NaN</td>\n",
       "      <td>NaN</td>\n",
       "      <td>NaN</td>\n",
       "      <td>NaN</td>\n",
       "    </tr>\n",
       "    <tr>\n",
       "      <th>75</th>\n",
       "      <td>NaN</td>\n",
       "      <td>NaN</td>\n",
       "      <td>NaN</td>\n",
       "      <td>NaN</td>\n",
       "      <td>NaN</td>\n",
       "      <td>NaN</td>\n",
       "      <td>NaN</td>\n",
       "      <td>NaN</td>\n",
       "      <td>NaN</td>\n",
       "      <td>NaN</td>\n",
       "      <td>...</td>\n",
       "      <td>NaN</td>\n",
       "      <td>NaN</td>\n",
       "      <td>NaN</td>\n",
       "      <td>NaN</td>\n",
       "      <td>NaN</td>\n",
       "      <td>NaN</td>\n",
       "      <td>NaN</td>\n",
       "      <td>NaN</td>\n",
       "      <td>NaN</td>\n",
       "      <td>NaN</td>\n",
       "    </tr>\n",
       "  </tbody>\n",
       "</table>\n",
       "<p>3 rows × 52 columns</p>\n",
       "</div>"
      ],
      "text/plain": [
       "   Fact Fact Note Alabama Alaska Arizona Arkansas California Colorado  \\\n",
       "67  NaN       NaN     NaN    NaN     NaN      NaN        NaN      NaN   \n",
       "70  NaN       NaN     NaN    NaN     NaN      NaN        NaN      NaN   \n",
       "75  NaN       NaN     NaN    NaN     NaN      NaN        NaN      NaN   \n",
       "\n",
       "   Connecticut Delaware  ... South Dakota Tennessee Texas Utah Vermont  \\\n",
       "67         NaN      NaN  ...          NaN       NaN   NaN  NaN     NaN   \n",
       "70         NaN      NaN  ...          NaN       NaN   NaN  NaN     NaN   \n",
       "75         NaN      NaN  ...          NaN       NaN   NaN  NaN     NaN   \n",
       "\n",
       "   Virginia Washington West Virginia Wisconsin Wyoming  \n",
       "67      NaN        NaN           NaN       NaN     NaN  \n",
       "70      NaN        NaN           NaN       NaN     NaN  \n",
       "75      NaN        NaN           NaN       NaN     NaN  \n",
       "\n",
       "[3 rows x 52 columns]"
      ]
     },
     "execution_count": 12,
     "metadata": {},
     "output_type": "execute_result"
    }
   ],
   "source": [
    "census_df[census_df.duplicated()]"
   ]
  },
  {
   "cell_type": "markdown",
   "metadata": {},
   "source": [
    "Because these rows are in the footnotes area, I know that they will get cleaned up when I remove the footnotes.\n",
    "\n",
    "I will not call the `describe()` function on `census_df` at this point because I do not think it makes sense to look at the summary statistics across different metrics. Instead, I will wait until after I switch the rows and columns. This will allow me to make comparisons within the same metric across states.\n",
    "\n",
    "Also, I am curious to see a comparison of which states are included in `gun_df` and which are included in `census_df`."
   ]
  },
  {
   "cell_type": "code",
   "execution_count": 13,
   "metadata": {},
   "outputs": [],
   "source": [
    "gun_df_states = gun_df['state'].unique()\n",
    "census_df_states = census_df.columns[2:]"
   ]
  },
  {
   "cell_type": "code",
   "execution_count": 14,
   "metadata": {},
   "outputs": [
    {
     "name": "stdout",
     "output_type": "stream",
     "text": [
      "District of Columbia\n",
      "Guam\n",
      "Mariana Islands\n",
      "Puerto Rico\n",
      "Virgin Islands\n"
     ]
    }
   ],
   "source": [
    "for state in gun_df_states:\n",
    "    if state not in census_df_states:\n",
    "        print(state)"
   ]
  },
  {
   "cell_type": "code",
   "execution_count": 15,
   "metadata": {},
   "outputs": [],
   "source": [
    "for state in census_df_states:\n",
    "    if state not in gun_df_states:\n",
    "        print(state)"
   ]
  },
  {
   "cell_type": "markdown",
   "metadata": {},
   "source": [
    "In order to make an equal comparison between the two datasets, I will drop rows in `gun_df` with the states listed above."
   ]
  },
  {
   "cell_type": "markdown",
   "metadata": {},
   "source": [
    "### Data Cleaning\n",
    "\n",
    "Based on the exploration above, here are the steps I will need to take in data cleaning:\n",
    "\n",
    "For `gun_df`:\n",
    "- Change `multiple` and `totals` columns from int to float\n",
    "- Change `month` column from string to datetime\n",
    "- Impute missing values with 0\n",
    "- Exclude rows for states in `['District of Columbia', 'Guam', 'Mariana Islands', 'Puerto Rico', 'Virgin Islands']`\n",
    "\n",
    "For `census_df`:\n",
    "- Drop footnotes section, rows 64-84\n",
    "- Switch rows and columns\n",
    "- Once rows and columns are switched, only keep columns that I plan to use\n",
    "- Change column names to simpler formats\n",
    "- Convert all values to float\n",
    "\n",
    "First, I will convert the data types for `multiple`, `totals`, and `month` in `gun_df`."
   ]
  },
  {
   "cell_type": "code",
   "execution_count": 16,
   "metadata": {},
   "outputs": [],
   "source": [
    "gun_df['multiple'] = gun_df['multiple'].astype(float)\n",
    "gun_df['totals'] = gun_df['totals'].astype(float)\n",
    "gun_df['month'] = pd.to_datetime(gun_df['month'])"
   ]
  },
  {
   "cell_type": "markdown",
   "metadata": {},
   "source": [
    "I also want to extract the year from the `month` column."
   ]
  },
  {
   "cell_type": "code",
   "execution_count": 17,
   "metadata": {},
   "outputs": [],
   "source": [
    "gun_df['year'] = gun_df['month'].dt.year"
   ]
  },
  {
   "cell_type": "markdown",
   "metadata": {},
   "source": [
    "I will look at the dataframe info to see if the appropriate data type changes were made."
   ]
  },
  {
   "cell_type": "code",
   "execution_count": 18,
   "metadata": {
    "scrolled": false
   },
   "outputs": [
    {
     "name": "stdout",
     "output_type": "stream",
     "text": [
      "<class 'pandas.core.frame.DataFrame'>\n",
      "RangeIndex: 12485 entries, 0 to 12484\n",
      "Data columns (total 28 columns):\n",
      " #   Column                     Non-Null Count  Dtype         \n",
      "---  ------                     --------------  -----         \n",
      " 0   month                      12485 non-null  datetime64[ns]\n",
      " 1   state                      12485 non-null  object        \n",
      " 2   permit                     12461 non-null  float64       \n",
      " 3   permit_recheck             1100 non-null   float64       \n",
      " 4   handgun                    12465 non-null  float64       \n",
      " 5   long_gun                   12466 non-null  float64       \n",
      " 6   other                      5500 non-null   float64       \n",
      " 7   multiple                   12485 non-null  float64       \n",
      " 8   admin                      12462 non-null  float64       \n",
      " 9   prepawn_handgun            10542 non-null  float64       \n",
      " 10  prepawn_long_gun           10540 non-null  float64       \n",
      " 11  prepawn_other              5115 non-null   float64       \n",
      " 12  redemption_handgun         10545 non-null  float64       \n",
      " 13  redemption_long_gun        10544 non-null  float64       \n",
      " 14  redemption_other           5115 non-null   float64       \n",
      " 15  returned_handgun           2200 non-null   float64       \n",
      " 16  returned_long_gun          2145 non-null   float64       \n",
      " 17  returned_other             1815 non-null   float64       \n",
      " 18  rentals_handgun            990 non-null    float64       \n",
      " 19  rentals_long_gun           825 non-null    float64       \n",
      " 20  private_sale_handgun       2750 non-null   float64       \n",
      " 21  private_sale_long_gun      2750 non-null   float64       \n",
      " 22  private_sale_other         2750 non-null   float64       \n",
      " 23  return_to_seller_handgun   2475 non-null   float64       \n",
      " 24  return_to_seller_long_gun  2750 non-null   float64       \n",
      " 25  return_to_seller_other     2255 non-null   float64       \n",
      " 26  totals                     12485 non-null  float64       \n",
      " 27  year                       12485 non-null  int64         \n",
      "dtypes: datetime64[ns](1), float64(25), int64(1), object(1)\n",
      "memory usage: 2.7+ MB\n"
     ]
    }
   ],
   "source": [
    "gun_df.info()"
   ]
  },
  {
   "cell_type": "markdown",
   "metadata": {},
   "source": [
    "It looks like the new `year` column has the data type int, but I would like it to be datetime."
   ]
  },
  {
   "cell_type": "code",
   "execution_count": 19,
   "metadata": {},
   "outputs": [],
   "source": [
    "gun_df['year'] = pd.to_datetime(gun_df['year'], format='%Y')"
   ]
  },
  {
   "cell_type": "code",
   "execution_count": 20,
   "metadata": {},
   "outputs": [
    {
     "name": "stdout",
     "output_type": "stream",
     "text": [
      "<class 'pandas.core.frame.DataFrame'>\n",
      "RangeIndex: 12485 entries, 0 to 12484\n",
      "Data columns (total 28 columns):\n",
      " #   Column                     Non-Null Count  Dtype         \n",
      "---  ------                     --------------  -----         \n",
      " 0   month                      12485 non-null  datetime64[ns]\n",
      " 1   state                      12485 non-null  object        \n",
      " 2   permit                     12461 non-null  float64       \n",
      " 3   permit_recheck             1100 non-null   float64       \n",
      " 4   handgun                    12465 non-null  float64       \n",
      " 5   long_gun                   12466 non-null  float64       \n",
      " 6   other                      5500 non-null   float64       \n",
      " 7   multiple                   12485 non-null  float64       \n",
      " 8   admin                      12462 non-null  float64       \n",
      " 9   prepawn_handgun            10542 non-null  float64       \n",
      " 10  prepawn_long_gun           10540 non-null  float64       \n",
      " 11  prepawn_other              5115 non-null   float64       \n",
      " 12  redemption_handgun         10545 non-null  float64       \n",
      " 13  redemption_long_gun        10544 non-null  float64       \n",
      " 14  redemption_other           5115 non-null   float64       \n",
      " 15  returned_handgun           2200 non-null   float64       \n",
      " 16  returned_long_gun          2145 non-null   float64       \n",
      " 17  returned_other             1815 non-null   float64       \n",
      " 18  rentals_handgun            990 non-null    float64       \n",
      " 19  rentals_long_gun           825 non-null    float64       \n",
      " 20  private_sale_handgun       2750 non-null   float64       \n",
      " 21  private_sale_long_gun      2750 non-null   float64       \n",
      " 22  private_sale_other         2750 non-null   float64       \n",
      " 23  return_to_seller_handgun   2475 non-null   float64       \n",
      " 24  return_to_seller_long_gun  2750 non-null   float64       \n",
      " 25  return_to_seller_other     2255 non-null   float64       \n",
      " 26  totals                     12485 non-null  float64       \n",
      " 27  year                       12485 non-null  datetime64[ns]\n",
      "dtypes: datetime64[ns](2), float64(25), object(1)\n",
      "memory usage: 2.7+ MB\n"
     ]
    }
   ],
   "source": [
    "gun_df.info()"
   ]
  },
  {
   "cell_type": "markdown",
   "metadata": {},
   "source": [
    "Next I will impute missing values with 0."
   ]
  },
  {
   "cell_type": "code",
   "execution_count": 21,
   "metadata": {},
   "outputs": [],
   "source": [
    "gun_df.fillna(0, inplace=True)"
   ]
  },
  {
   "cell_type": "markdown",
   "metadata": {},
   "source": [
    "There should be no more missing values when I look at the dataframe info again."
   ]
  },
  {
   "cell_type": "code",
   "execution_count": 22,
   "metadata": {},
   "outputs": [
    {
     "name": "stdout",
     "output_type": "stream",
     "text": [
      "<class 'pandas.core.frame.DataFrame'>\n",
      "RangeIndex: 12485 entries, 0 to 12484\n",
      "Data columns (total 28 columns):\n",
      " #   Column                     Non-Null Count  Dtype         \n",
      "---  ------                     --------------  -----         \n",
      " 0   month                      12485 non-null  datetime64[ns]\n",
      " 1   state                      12485 non-null  object        \n",
      " 2   permit                     12485 non-null  float64       \n",
      " 3   permit_recheck             12485 non-null  float64       \n",
      " 4   handgun                    12485 non-null  float64       \n",
      " 5   long_gun                   12485 non-null  float64       \n",
      " 6   other                      12485 non-null  float64       \n",
      " 7   multiple                   12485 non-null  float64       \n",
      " 8   admin                      12485 non-null  float64       \n",
      " 9   prepawn_handgun            12485 non-null  float64       \n",
      " 10  prepawn_long_gun           12485 non-null  float64       \n",
      " 11  prepawn_other              12485 non-null  float64       \n",
      " 12  redemption_handgun         12485 non-null  float64       \n",
      " 13  redemption_long_gun        12485 non-null  float64       \n",
      " 14  redemption_other           12485 non-null  float64       \n",
      " 15  returned_handgun           12485 non-null  float64       \n",
      " 16  returned_long_gun          12485 non-null  float64       \n",
      " 17  returned_other             12485 non-null  float64       \n",
      " 18  rentals_handgun            12485 non-null  float64       \n",
      " 19  rentals_long_gun           12485 non-null  float64       \n",
      " 20  private_sale_handgun       12485 non-null  float64       \n",
      " 21  private_sale_long_gun      12485 non-null  float64       \n",
      " 22  private_sale_other         12485 non-null  float64       \n",
      " 23  return_to_seller_handgun   12485 non-null  float64       \n",
      " 24  return_to_seller_long_gun  12485 non-null  float64       \n",
      " 25  return_to_seller_other     12485 non-null  float64       \n",
      " 26  totals                     12485 non-null  float64       \n",
      " 27  year                       12485 non-null  datetime64[ns]\n",
      "dtypes: datetime64[ns](2), float64(25), object(1)\n",
      "memory usage: 2.7+ MB\n"
     ]
    }
   ],
   "source": [
    "gun_df.info()"
   ]
  },
  {
   "cell_type": "markdown",
   "metadata": {},
   "source": [
    "Now I will exclude rows with states in `['District of Columbia', 'Guam', 'Mariana Islands', 'Puerto Rico', 'Virgin Islands']`."
   ]
  },
  {
   "cell_type": "code",
   "execution_count": 23,
   "metadata": {},
   "outputs": [],
   "source": [
    "drop_states = ['District of Columbia', 'Guam', 'Mariana Islands', 'Puerto Rico', 'Virgin Islands']\n",
    "gun_df = gun_df.query('state not in @drop_states')"
   ]
  },
  {
   "cell_type": "markdown",
   "metadata": {},
   "source": [
    "I will check the shape of the dataframe to see if rows were excluded."
   ]
  },
  {
   "cell_type": "code",
   "execution_count": 24,
   "metadata": {},
   "outputs": [
    {
     "data": {
      "text/plain": [
       "(11350, 28)"
      ]
     },
     "execution_count": 24,
     "metadata": {},
     "output_type": "execute_result"
    }
   ],
   "source": [
    "gun_df.shape"
   ]
  },
  {
   "cell_type": "markdown",
   "metadata": {},
   "source": [
    "For `census_df`, I will first drop the footnotes section."
   ]
  },
  {
   "cell_type": "code",
   "execution_count": 25,
   "metadata": {},
   "outputs": [],
   "source": [
    "drop_index = np.arange(64, len(census_df))\n",
    "census_df.drop(drop_index, inplace=True)"
   ]
  },
  {
   "cell_type": "markdown",
   "metadata": {},
   "source": [
    "I will check the shape of the dataframe to see if rows were dropped."
   ]
  },
  {
   "cell_type": "code",
   "execution_count": 26,
   "metadata": {},
   "outputs": [
    {
     "data": {
      "text/plain": [
       "(64, 52)"
      ]
     },
     "execution_count": 26,
     "metadata": {},
     "output_type": "execute_result"
    }
   ],
   "source": [
    "census_df.shape"
   ]
  },
  {
   "cell_type": "markdown",
   "metadata": {},
   "source": [
    "Next, I will switch the rows and columns."
   ]
  },
  {
   "cell_type": "code",
   "execution_count": 27,
   "metadata": {},
   "outputs": [
    {
     "data": {
      "text/html": [
       "<div>\n",
       "<style scoped>\n",
       "    .dataframe tbody tr th:only-of-type {\n",
       "        vertical-align: middle;\n",
       "    }\n",
       "\n",
       "    .dataframe tbody tr th {\n",
       "        vertical-align: top;\n",
       "    }\n",
       "\n",
       "    .dataframe thead th {\n",
       "        text-align: right;\n",
       "    }\n",
       "</style>\n",
       "<table border=\"1\" class=\"dataframe\">\n",
       "  <thead>\n",
       "    <tr style=\"text-align: right;\">\n",
       "      <th></th>\n",
       "      <th>0</th>\n",
       "      <th>1</th>\n",
       "      <th>2</th>\n",
       "      <th>3</th>\n",
       "      <th>4</th>\n",
       "      <th>5</th>\n",
       "      <th>6</th>\n",
       "      <th>7</th>\n",
       "      <th>8</th>\n",
       "      <th>9</th>\n",
       "      <th>...</th>\n",
       "      <th>54</th>\n",
       "      <th>55</th>\n",
       "      <th>56</th>\n",
       "      <th>57</th>\n",
       "      <th>58</th>\n",
       "      <th>59</th>\n",
       "      <th>60</th>\n",
       "      <th>61</th>\n",
       "      <th>62</th>\n",
       "      <th>63</th>\n",
       "    </tr>\n",
       "  </thead>\n",
       "  <tbody>\n",
       "    <tr>\n",
       "      <th>Fact</th>\n",
       "      <td>Population estimates, July 1, 2016,  (V2016)</td>\n",
       "      <td>Population estimates base, April 1, 2010,  (V2...</td>\n",
       "      <td>Population, percent change - April 1, 2010 (es...</td>\n",
       "      <td>Population, Census, April 1, 2010</td>\n",
       "      <td>Persons under 5 years, percent, July 1, 2016, ...</td>\n",
       "      <td>Persons under 5 years, percent, April 1, 2010</td>\n",
       "      <td>Persons under 18 years, percent, July 1, 2016,...</td>\n",
       "      <td>Persons under 18 years, percent, April 1, 2010</td>\n",
       "      <td>Persons 65 years and over, percent,  July 1, 2...</td>\n",
       "      <td>Persons 65 years and over, percent, April 1, 2010</td>\n",
       "      <td>...</td>\n",
       "      <td>Total nonemployer establishments, 2015</td>\n",
       "      <td>All firms, 2012</td>\n",
       "      <td>Men-owned firms, 2012</td>\n",
       "      <td>Women-owned firms, 2012</td>\n",
       "      <td>Minority-owned firms, 2012</td>\n",
       "      <td>Nonminority-owned firms, 2012</td>\n",
       "      <td>Veteran-owned firms, 2012</td>\n",
       "      <td>Nonveteran-owned firms, 2012</td>\n",
       "      <td>Population per square mile, 2010</td>\n",
       "      <td>Land area in square miles, 2010</td>\n",
       "    </tr>\n",
       "    <tr>\n",
       "      <th>Fact Note</th>\n",
       "      <td>NaN</td>\n",
       "      <td>NaN</td>\n",
       "      <td>NaN</td>\n",
       "      <td>NaN</td>\n",
       "      <td>NaN</td>\n",
       "      <td>NaN</td>\n",
       "      <td>NaN</td>\n",
       "      <td>NaN</td>\n",
       "      <td>NaN</td>\n",
       "      <td>NaN</td>\n",
       "      <td>...</td>\n",
       "      <td>NaN</td>\n",
       "      <td>NaN</td>\n",
       "      <td>NaN</td>\n",
       "      <td>NaN</td>\n",
       "      <td>NaN</td>\n",
       "      <td>NaN</td>\n",
       "      <td>NaN</td>\n",
       "      <td>NaN</td>\n",
       "      <td>NaN</td>\n",
       "      <td>NaN</td>\n",
       "    </tr>\n",
       "    <tr>\n",
       "      <th>Alabama</th>\n",
       "      <td>4,863,300</td>\n",
       "      <td>4,780,131</td>\n",
       "      <td>1.70%</td>\n",
       "      <td>4,779,736</td>\n",
       "      <td>6.00%</td>\n",
       "      <td>6.40%</td>\n",
       "      <td>22.60%</td>\n",
       "      <td>23.70%</td>\n",
       "      <td>16.10%</td>\n",
       "      <td>13.80%</td>\n",
       "      <td>...</td>\n",
       "      <td>322,025</td>\n",
       "      <td>374,153</td>\n",
       "      <td>203,604</td>\n",
       "      <td>137,630</td>\n",
       "      <td>92,219</td>\n",
       "      <td>272,651</td>\n",
       "      <td>41,943</td>\n",
       "      <td>316,984</td>\n",
       "      <td>94.4</td>\n",
       "      <td>50,645.33</td>\n",
       "    </tr>\n",
       "    <tr>\n",
       "      <th>Alaska</th>\n",
       "      <td>741,894</td>\n",
       "      <td>710,249</td>\n",
       "      <td>4.50%</td>\n",
       "      <td>710,231</td>\n",
       "      <td>7.30%</td>\n",
       "      <td>7.60%</td>\n",
       "      <td>25.20%</td>\n",
       "      <td>26.40%</td>\n",
       "      <td>10.40%</td>\n",
       "      <td>7.70%</td>\n",
       "      <td>...</td>\n",
       "      <td>55,521</td>\n",
       "      <td>68,032</td>\n",
       "      <td>35,402</td>\n",
       "      <td>22,141</td>\n",
       "      <td>13,688</td>\n",
       "      <td>51,147</td>\n",
       "      <td>7,953</td>\n",
       "      <td>56,091</td>\n",
       "      <td>1.2</td>\n",
       "      <td>570,640.95</td>\n",
       "    </tr>\n",
       "    <tr>\n",
       "      <th>Arizona</th>\n",
       "      <td>6,931,071</td>\n",
       "      <td>6,392,301</td>\n",
       "      <td>8.40%</td>\n",
       "      <td>6,392,017</td>\n",
       "      <td>6.30%</td>\n",
       "      <td>7.10%</td>\n",
       "      <td>23.50%</td>\n",
       "      <td>25.50%</td>\n",
       "      <td>16.90%</td>\n",
       "      <td>13.80%</td>\n",
       "      <td>...</td>\n",
       "      <td>451,951</td>\n",
       "      <td>499,926</td>\n",
       "      <td>245,243</td>\n",
       "      <td>182,425</td>\n",
       "      <td>135,313</td>\n",
       "      <td>344,981</td>\n",
       "      <td>46,780</td>\n",
       "      <td>427,582</td>\n",
       "      <td>56.3</td>\n",
       "      <td>113,594.08</td>\n",
       "    </tr>\n",
       "  </tbody>\n",
       "</table>\n",
       "<p>5 rows × 64 columns</p>\n",
       "</div>"
      ],
      "text/plain": [
       "                                                     0   \\\n",
       "Fact       Population estimates, July 1, 2016,  (V2016)   \n",
       "Fact Note                                           NaN   \n",
       "Alabama                                       4,863,300   \n",
       "Alaska                                          741,894   \n",
       "Arizona                                       6,931,071   \n",
       "\n",
       "                                                          1   \\\n",
       "Fact       Population estimates base, April 1, 2010,  (V2...   \n",
       "Fact Note                                                NaN   \n",
       "Alabama                                            4,780,131   \n",
       "Alaska                                               710,249   \n",
       "Arizona                                            6,392,301   \n",
       "\n",
       "                                                          2   \\\n",
       "Fact       Population, percent change - April 1, 2010 (es...   \n",
       "Fact Note                                                NaN   \n",
       "Alabama                                                1.70%   \n",
       "Alaska                                                 4.50%   \n",
       "Arizona                                                8.40%   \n",
       "\n",
       "                                          3   \\\n",
       "Fact       Population, Census, April 1, 2010   \n",
       "Fact Note                                NaN   \n",
       "Alabama                            4,779,736   \n",
       "Alaska                               710,231   \n",
       "Arizona                            6,392,017   \n",
       "\n",
       "                                                          4   \\\n",
       "Fact       Persons under 5 years, percent, July 1, 2016, ...   \n",
       "Fact Note                                                NaN   \n",
       "Alabama                                                6.00%   \n",
       "Alaska                                                 7.30%   \n",
       "Arizona                                                6.30%   \n",
       "\n",
       "                                                      5   \\\n",
       "Fact       Persons under 5 years, percent, April 1, 2010   \n",
       "Fact Note                                            NaN   \n",
       "Alabama                                            6.40%   \n",
       "Alaska                                             7.60%   \n",
       "Arizona                                            7.10%   \n",
       "\n",
       "                                                          6   \\\n",
       "Fact       Persons under 18 years, percent, July 1, 2016,...   \n",
       "Fact Note                                                NaN   \n",
       "Alabama                                               22.60%   \n",
       "Alaska                                                25.20%   \n",
       "Arizona                                               23.50%   \n",
       "\n",
       "                                                       7   \\\n",
       "Fact       Persons under 18 years, percent, April 1, 2010   \n",
       "Fact Note                                             NaN   \n",
       "Alabama                                            23.70%   \n",
       "Alaska                                             26.40%   \n",
       "Arizona                                            25.50%   \n",
       "\n",
       "                                                          8   \\\n",
       "Fact       Persons 65 years and over, percent,  July 1, 2...   \n",
       "Fact Note                                                NaN   \n",
       "Alabama                                               16.10%   \n",
       "Alaska                                                10.40%   \n",
       "Arizona                                               16.90%   \n",
       "\n",
       "                                                          9   ...  \\\n",
       "Fact       Persons 65 years and over, percent, April 1, 2010  ...   \n",
       "Fact Note                                                NaN  ...   \n",
       "Alabama                                               13.80%  ...   \n",
       "Alaska                                                 7.70%  ...   \n",
       "Arizona                                               13.80%  ...   \n",
       "\n",
       "                                               54               55  \\\n",
       "Fact       Total nonemployer establishments, 2015  All firms, 2012   \n",
       "Fact Note                                     NaN              NaN   \n",
       "Alabama                                   322,025          374,153   \n",
       "Alaska                                     55,521           68,032   \n",
       "Arizona                                   451,951          499,926   \n",
       "\n",
       "                              56                       57  \\\n",
       "Fact       Men-owned firms, 2012  Women-owned firms, 2012   \n",
       "Fact Note                    NaN                      NaN   \n",
       "Alabama                  203,604                  137,630   \n",
       "Alaska                    35,402                   22,141   \n",
       "Arizona                  245,243                  182,425   \n",
       "\n",
       "                                   58                             59  \\\n",
       "Fact       Minority-owned firms, 2012  Nonminority-owned firms, 2012   \n",
       "Fact Note                         NaN                            NaN   \n",
       "Alabama                        92,219                        272,651   \n",
       "Alaska                         13,688                         51,147   \n",
       "Arizona                       135,313                        344,981   \n",
       "\n",
       "                                  60                            61  \\\n",
       "Fact       Veteran-owned firms, 2012  Nonveteran-owned firms, 2012   \n",
       "Fact Note                        NaN                           NaN   \n",
       "Alabama                       41,943                       316,984   \n",
       "Alaska                         7,953                        56,091   \n",
       "Arizona                       46,780                       427,582   \n",
       "\n",
       "                                         62                               63  \n",
       "Fact       Population per square mile, 2010  Land area in square miles, 2010  \n",
       "Fact Note                               NaN                              NaN  \n",
       "Alabama                                94.4                        50,645.33  \n",
       "Alaska                                  1.2                       570,640.95  \n",
       "Arizona                                56.3                       113,594.08  \n",
       "\n",
       "[5 rows x 64 columns]"
      ]
     },
     "execution_count": 27,
     "metadata": {},
     "output_type": "execute_result"
    }
   ],
   "source": [
    "census_df = census_df.transpose()\n",
    "census_df.head()"
   ]
  },
  {
   "cell_type": "markdown",
   "metadata": {},
   "source": [
    "Now I will print a list of the column names to see the indices of columns that I want to keep, and then check the shape afterwards to see if it changed."
   ]
  },
  {
   "cell_type": "code",
   "execution_count": 28,
   "metadata": {
    "scrolled": false
   },
   "outputs": [
    {
     "name": "stdout",
     "output_type": "stream",
     "text": [
      "0                                               Population estimates, July 1, 2016,  (V2016)\n",
      "1                                         Population estimates base, April 1, 2010,  (V2016)\n",
      "2      Population, percent change - April 1, 2010 (estimates base) to July 1, 2016,  (V2016)\n",
      "3                                                          Population, Census, April 1, 2010\n",
      "4                                     Persons under 5 years, percent, July 1, 2016,  (V2016)\n",
      "5                                              Persons under 5 years, percent, April 1, 2010\n",
      "6                                    Persons under 18 years, percent, July 1, 2016,  (V2016)\n",
      "7                                             Persons under 18 years, percent, April 1, 2010\n",
      "8                                Persons 65 years and over, percent,  July 1, 2016,  (V2016)\n",
      "9                                          Persons 65 years and over, percent, April 1, 2010\n",
      "10                                          Female persons, percent,  July 1, 2016,  (V2016)\n",
      "11                                                    Female persons, percent, April 1, 2010\n",
      "12                                              White alone, percent, July 1, 2016,  (V2016)\n",
      "13                          Black or African American alone, percent, July 1, 2016,  (V2016)\n",
      "14                  American Indian and Alaska Native alone, percent, July 1, 2016,  (V2016)\n",
      "15                                              Asian alone, percent, July 1, 2016,  (V2016)\n",
      "16         Native Hawaiian and Other Pacific Islander alone, percent, July 1, 2016,  (V2016)\n",
      "17                                        Two or More Races, percent, July 1, 2016,  (V2016)\n",
      "18                                       Hispanic or Latino, percent, July 1, 2016,  (V2016)\n",
      "19                      White alone, not Hispanic or Latino, percent, July 1, 2016,  (V2016)\n",
      "20                                                                       Veterans, 2011-2015\n",
      "21                                                  Foreign born persons, percent, 2011-2015\n",
      "22                                                    Housing units,  July 1, 2016,  (V2016)\n",
      "23                                                              Housing units, April 1, 2010\n",
      "24                                               Owner-occupied housing unit rate, 2011-2015\n",
      "25                                   Median value of owner-occupied housing units, 2011-2015\n",
      "26                           Median selected monthly owner costs -with a mortgage, 2011-2015\n",
      "27                        Median selected monthly owner costs -without a mortgage, 2011-2015\n",
      "28                                                              Median gross rent, 2011-2015\n",
      "29                                                                    Building permits, 2016\n",
      "30                                                                     Households, 2011-2015\n",
      "31                                                          Persons per household, 2011-2015\n",
      "32                Living in same house 1 year ago, percent of persons age 1 year+, 2011-2015\n",
      "33    Language other than English spoken at home, percent of persons age 5 years+, 2011-2015\n",
      "34               High school graduate or higher, percent of persons age 25 years+, 2011-2015\n",
      "35                  Bachelor's degree or higher, percent of persons age 25 years+, 2011-2015\n",
      "36                                 With a disability, under age 65 years, percent, 2011-2015\n",
      "37                            Persons  without health insurance, under age 65 years, percent\n",
      "38            In civilian labor force, total, percent of population age 16 years+, 2011-2015\n",
      "39           In civilian labor force, female, percent of population age 16 years+, 2011-2015\n",
      "40                                Total accommodation and food services sales, 2012 ($1,000)\n",
      "41                   Total health care and social assistance receipts/revenue, 2012 ($1,000)\n",
      "42                                              Total manufacturers shipments, 2012 ($1,000)\n",
      "43                                            Total merchant wholesaler sales, 2012 ($1,000)\n",
      "44                                                         Total retail sales, 2012 ($1,000)\n",
      "45                                                       Total retail sales per capita, 2012\n",
      "46                      Mean travel time to work (minutes), workers age 16 years+, 2011-2015\n",
      "47                                      Median household income (in 2015 dollars), 2011-2015\n",
      "48                          Per capita income in past 12 months (in 2015 dollars), 2011-2015\n",
      "49                                                               Persons in poverty, percent\n",
      "50                                                       Total employer establishments, 2015\n",
      "51                                                                    Total employment, 2015\n",
      "52                                                       Total annual payroll, 2015 ($1,000)\n",
      "53                                               Total employment, percent change, 2014-2015\n",
      "54                                                    Total nonemployer establishments, 2015\n",
      "55                                                                           All firms, 2012\n",
      "56                                                                     Men-owned firms, 2012\n",
      "57                                                                   Women-owned firms, 2012\n",
      "58                                                                Minority-owned firms, 2012\n",
      "59                                                             Nonminority-owned firms, 2012\n",
      "60                                                                 Veteran-owned firms, 2012\n",
      "61                                                              Nonveteran-owned firms, 2012\n",
      "62                                                          Population per square mile, 2010\n",
      "63                                                           Land area in square miles, 2010\n",
      "Name: Fact, dtype: object\n"
     ]
    }
   ],
   "source": [
    "with pd.option_context('display.max_rows', len(census_df.columns), 'display.max_colwidth', None):\n",
    "    print(census_df.loc['Fact'])"
   ]
  },
  {
   "cell_type": "code",
   "execution_count": 29,
   "metadata": {},
   "outputs": [
    {
     "data": {
      "text/plain": [
       "(52, 10)"
      ]
     },
     "execution_count": 29,
     "metadata": {},
     "output_type": "execute_result"
    }
   ],
   "source": [
    "census_df = census_df.iloc[:, np.r_[:2, 12, 20:22, 34:36, 47:49, 62]]\n",
    "census_df.shape"
   ]
  },
  {
   "cell_type": "code",
   "execution_count": 30,
   "metadata": {},
   "outputs": [
    {
     "data": {
      "text/html": [
       "<div>\n",
       "<style scoped>\n",
       "    .dataframe tbody tr th:only-of-type {\n",
       "        vertical-align: middle;\n",
       "    }\n",
       "\n",
       "    .dataframe tbody tr th {\n",
       "        vertical-align: top;\n",
       "    }\n",
       "\n",
       "    .dataframe thead th {\n",
       "        text-align: right;\n",
       "    }\n",
       "</style>\n",
       "<table border=\"1\" class=\"dataframe\">\n",
       "  <thead>\n",
       "    <tr style=\"text-align: right;\">\n",
       "      <th></th>\n",
       "      <th>0</th>\n",
       "      <th>1</th>\n",
       "      <th>12</th>\n",
       "      <th>20</th>\n",
       "      <th>21</th>\n",
       "      <th>34</th>\n",
       "      <th>35</th>\n",
       "      <th>47</th>\n",
       "      <th>48</th>\n",
       "      <th>62</th>\n",
       "    </tr>\n",
       "  </thead>\n",
       "  <tbody>\n",
       "    <tr>\n",
       "      <th>Fact</th>\n",
       "      <td>Population estimates, July 1, 2016,  (V2016)</td>\n",
       "      <td>Population estimates base, April 1, 2010,  (V2...</td>\n",
       "      <td>White alone, percent, July 1, 2016,  (V2016)</td>\n",
       "      <td>Veterans, 2011-2015</td>\n",
       "      <td>Foreign born persons, percent, 2011-2015</td>\n",
       "      <td>High school graduate or higher, percent of per...</td>\n",
       "      <td>Bachelor's degree or higher, percent of person...</td>\n",
       "      <td>Median household income (in 2015 dollars), 201...</td>\n",
       "      <td>Per capita income in past 12 months (in 2015 d...</td>\n",
       "      <td>Population per square mile, 2010</td>\n",
       "    </tr>\n",
       "    <tr>\n",
       "      <th>Fact Note</th>\n",
       "      <td>NaN</td>\n",
       "      <td>NaN</td>\n",
       "      <td>(a)</td>\n",
       "      <td>NaN</td>\n",
       "      <td>NaN</td>\n",
       "      <td>NaN</td>\n",
       "      <td>NaN</td>\n",
       "      <td>NaN</td>\n",
       "      <td>NaN</td>\n",
       "      <td>NaN</td>\n",
       "    </tr>\n",
       "    <tr>\n",
       "      <th>Alabama</th>\n",
       "      <td>4,863,300</td>\n",
       "      <td>4,780,131</td>\n",
       "      <td>69.30%</td>\n",
       "      <td>363,170</td>\n",
       "      <td>3.50%</td>\n",
       "      <td>84.30%</td>\n",
       "      <td>23.50%</td>\n",
       "      <td>$43,623</td>\n",
       "      <td>$24,091</td>\n",
       "      <td>94.4</td>\n",
       "    </tr>\n",
       "    <tr>\n",
       "      <th>Alaska</th>\n",
       "      <td>741,894</td>\n",
       "      <td>710,249</td>\n",
       "      <td>66.10%</td>\n",
       "      <td>69,323</td>\n",
       "      <td>7.40%</td>\n",
       "      <td>92.10%</td>\n",
       "      <td>28.00%</td>\n",
       "      <td>$72,515</td>\n",
       "      <td>$33,413</td>\n",
       "      <td>1.2</td>\n",
       "    </tr>\n",
       "    <tr>\n",
       "      <th>Arizona</th>\n",
       "      <td>6,931,071</td>\n",
       "      <td>6,392,301</td>\n",
       "      <td>83.30%</td>\n",
       "      <td>505,794</td>\n",
       "      <td>13.50%</td>\n",
       "      <td>86.00%</td>\n",
       "      <td>27.50%</td>\n",
       "      <td>$50,255</td>\n",
       "      <td>$25,848</td>\n",
       "      <td>56.3</td>\n",
       "    </tr>\n",
       "  </tbody>\n",
       "</table>\n",
       "</div>"
      ],
      "text/plain": [
       "                                                     0   \\\n",
       "Fact       Population estimates, July 1, 2016,  (V2016)   \n",
       "Fact Note                                           NaN   \n",
       "Alabama                                       4,863,300   \n",
       "Alaska                                          741,894   \n",
       "Arizona                                       6,931,071   \n",
       "\n",
       "                                                          1   \\\n",
       "Fact       Population estimates base, April 1, 2010,  (V2...   \n",
       "Fact Note                                                NaN   \n",
       "Alabama                                            4,780,131   \n",
       "Alaska                                               710,249   \n",
       "Arizona                                            6,392,301   \n",
       "\n",
       "                                                     12                   20  \\\n",
       "Fact       White alone, percent, July 1, 2016,  (V2016)  Veterans, 2011-2015   \n",
       "Fact Note                                           (a)                  NaN   \n",
       "Alabama                                          69.30%              363,170   \n",
       "Alaska                                           66.10%               69,323   \n",
       "Arizona                                          83.30%              505,794   \n",
       "\n",
       "                                                 21  \\\n",
       "Fact       Foreign born persons, percent, 2011-2015   \n",
       "Fact Note                                       NaN   \n",
       "Alabama                                       3.50%   \n",
       "Alaska                                        7.40%   \n",
       "Arizona                                      13.50%   \n",
       "\n",
       "                                                          34  \\\n",
       "Fact       High school graduate or higher, percent of per...   \n",
       "Fact Note                                                NaN   \n",
       "Alabama                                               84.30%   \n",
       "Alaska                                                92.10%   \n",
       "Arizona                                               86.00%   \n",
       "\n",
       "                                                          35  \\\n",
       "Fact       Bachelor's degree or higher, percent of person...   \n",
       "Fact Note                                                NaN   \n",
       "Alabama                                               23.50%   \n",
       "Alaska                                                28.00%   \n",
       "Arizona                                               27.50%   \n",
       "\n",
       "                                                          47  \\\n",
       "Fact       Median household income (in 2015 dollars), 201...   \n",
       "Fact Note                                                NaN   \n",
       "Alabama                                             $43,623    \n",
       "Alaska                                              $72,515    \n",
       "Arizona                                             $50,255    \n",
       "\n",
       "                                                          48  \\\n",
       "Fact       Per capita income in past 12 months (in 2015 d...   \n",
       "Fact Note                                                NaN   \n",
       "Alabama                                             $24,091    \n",
       "Alaska                                              $33,413    \n",
       "Arizona                                             $25,848    \n",
       "\n",
       "                                         62  \n",
       "Fact       Population per square mile, 2010  \n",
       "Fact Note                               NaN  \n",
       "Alabama                                94.4  \n",
       "Alaska                                  1.2  \n",
       "Arizona                                56.3  "
      ]
     },
     "execution_count": 30,
     "metadata": {},
     "output_type": "execute_result"
    }
   ],
   "source": [
    "census_df.head()"
   ]
  },
  {
   "cell_type": "markdown",
   "metadata": {},
   "source": [
    "Based on the output above, I also need to reset the index."
   ]
  },
  {
   "cell_type": "code",
   "execution_count": 31,
   "metadata": {},
   "outputs": [
    {
     "data": {
      "text/html": [
       "<div>\n",
       "<style scoped>\n",
       "    .dataframe tbody tr th:only-of-type {\n",
       "        vertical-align: middle;\n",
       "    }\n",
       "\n",
       "    .dataframe tbody tr th {\n",
       "        vertical-align: top;\n",
       "    }\n",
       "\n",
       "    .dataframe thead th {\n",
       "        text-align: right;\n",
       "    }\n",
       "</style>\n",
       "<table border=\"1\" class=\"dataframe\">\n",
       "  <thead>\n",
       "    <tr style=\"text-align: right;\">\n",
       "      <th></th>\n",
       "      <th>index</th>\n",
       "      <th>0</th>\n",
       "      <th>1</th>\n",
       "      <th>12</th>\n",
       "      <th>20</th>\n",
       "      <th>21</th>\n",
       "      <th>34</th>\n",
       "      <th>35</th>\n",
       "      <th>47</th>\n",
       "      <th>48</th>\n",
       "      <th>62</th>\n",
       "    </tr>\n",
       "  </thead>\n",
       "  <tbody>\n",
       "    <tr>\n",
       "      <th>0</th>\n",
       "      <td>Fact</td>\n",
       "      <td>Population estimates, July 1, 2016,  (V2016)</td>\n",
       "      <td>Population estimates base, April 1, 2010,  (V2...</td>\n",
       "      <td>White alone, percent, July 1, 2016,  (V2016)</td>\n",
       "      <td>Veterans, 2011-2015</td>\n",
       "      <td>Foreign born persons, percent, 2011-2015</td>\n",
       "      <td>High school graduate or higher, percent of per...</td>\n",
       "      <td>Bachelor's degree or higher, percent of person...</td>\n",
       "      <td>Median household income (in 2015 dollars), 201...</td>\n",
       "      <td>Per capita income in past 12 months (in 2015 d...</td>\n",
       "      <td>Population per square mile, 2010</td>\n",
       "    </tr>\n",
       "    <tr>\n",
       "      <th>1</th>\n",
       "      <td>Fact Note</td>\n",
       "      <td>NaN</td>\n",
       "      <td>NaN</td>\n",
       "      <td>(a)</td>\n",
       "      <td>NaN</td>\n",
       "      <td>NaN</td>\n",
       "      <td>NaN</td>\n",
       "      <td>NaN</td>\n",
       "      <td>NaN</td>\n",
       "      <td>NaN</td>\n",
       "      <td>NaN</td>\n",
       "    </tr>\n",
       "    <tr>\n",
       "      <th>2</th>\n",
       "      <td>Alabama</td>\n",
       "      <td>4,863,300</td>\n",
       "      <td>4,780,131</td>\n",
       "      <td>69.30%</td>\n",
       "      <td>363,170</td>\n",
       "      <td>3.50%</td>\n",
       "      <td>84.30%</td>\n",
       "      <td>23.50%</td>\n",
       "      <td>$43,623</td>\n",
       "      <td>$24,091</td>\n",
       "      <td>94.4</td>\n",
       "    </tr>\n",
       "    <tr>\n",
       "      <th>3</th>\n",
       "      <td>Alaska</td>\n",
       "      <td>741,894</td>\n",
       "      <td>710,249</td>\n",
       "      <td>66.10%</td>\n",
       "      <td>69,323</td>\n",
       "      <td>7.40%</td>\n",
       "      <td>92.10%</td>\n",
       "      <td>28.00%</td>\n",
       "      <td>$72,515</td>\n",
       "      <td>$33,413</td>\n",
       "      <td>1.2</td>\n",
       "    </tr>\n",
       "    <tr>\n",
       "      <th>4</th>\n",
       "      <td>Arizona</td>\n",
       "      <td>6,931,071</td>\n",
       "      <td>6,392,301</td>\n",
       "      <td>83.30%</td>\n",
       "      <td>505,794</td>\n",
       "      <td>13.50%</td>\n",
       "      <td>86.00%</td>\n",
       "      <td>27.50%</td>\n",
       "      <td>$50,255</td>\n",
       "      <td>$25,848</td>\n",
       "      <td>56.3</td>\n",
       "    </tr>\n",
       "  </tbody>\n",
       "</table>\n",
       "</div>"
      ],
      "text/plain": [
       "       index                                             0  \\\n",
       "0       Fact  Population estimates, July 1, 2016,  (V2016)   \n",
       "1  Fact Note                                           NaN   \n",
       "2    Alabama                                     4,863,300   \n",
       "3     Alaska                                       741,894   \n",
       "4    Arizona                                     6,931,071   \n",
       "\n",
       "                                                   1  \\\n",
       "0  Population estimates base, April 1, 2010,  (V2...   \n",
       "1                                                NaN   \n",
       "2                                          4,780,131   \n",
       "3                                            710,249   \n",
       "4                                          6,392,301   \n",
       "\n",
       "                                             12                   20  \\\n",
       "0  White alone, percent, July 1, 2016,  (V2016)  Veterans, 2011-2015   \n",
       "1                                           (a)                  NaN   \n",
       "2                                        69.30%              363,170   \n",
       "3                                        66.10%               69,323   \n",
       "4                                        83.30%              505,794   \n",
       "\n",
       "                                         21  \\\n",
       "0  Foreign born persons, percent, 2011-2015   \n",
       "1                                       NaN   \n",
       "2                                     3.50%   \n",
       "3                                     7.40%   \n",
       "4                                    13.50%   \n",
       "\n",
       "                                                  34  \\\n",
       "0  High school graduate or higher, percent of per...   \n",
       "1                                                NaN   \n",
       "2                                             84.30%   \n",
       "3                                             92.10%   \n",
       "4                                             86.00%   \n",
       "\n",
       "                                                  35  \\\n",
       "0  Bachelor's degree or higher, percent of person...   \n",
       "1                                                NaN   \n",
       "2                                             23.50%   \n",
       "3                                             28.00%   \n",
       "4                                             27.50%   \n",
       "\n",
       "                                                  47  \\\n",
       "0  Median household income (in 2015 dollars), 201...   \n",
       "1                                                NaN   \n",
       "2                                           $43,623    \n",
       "3                                           $72,515    \n",
       "4                                           $50,255    \n",
       "\n",
       "                                                  48  \\\n",
       "0  Per capita income in past 12 months (in 2015 d...   \n",
       "1                                                NaN   \n",
       "2                                           $24,091    \n",
       "3                                           $33,413    \n",
       "4                                           $25,848    \n",
       "\n",
       "                                 62  \n",
       "0  Population per square mile, 2010  \n",
       "1                               NaN  \n",
       "2                              94.4  \n",
       "3                               1.2  \n",
       "4                              56.3  "
      ]
     },
     "execution_count": 31,
     "metadata": {},
     "output_type": "execute_result"
    }
   ],
   "source": [
    "census_df.reset_index(inplace=True)\n",
    "census_df.head()"
   ]
  },
  {
   "cell_type": "markdown",
   "metadata": {},
   "source": [
    "I will now change the column names and then drop the first two rows so that only the state data remains."
   ]
  },
  {
   "cell_type": "code",
   "execution_count": 32,
   "metadata": {},
   "outputs": [
    {
     "name": "stdout",
     "output_type": "stream",
     "text": [
      "index                                                                           Fact\n",
      "0                                       Population estimates, July 1, 2016,  (V2016)\n",
      "1                                 Population estimates base, April 1, 2010,  (V2016)\n",
      "12                                      White alone, percent, July 1, 2016,  (V2016)\n",
      "20                                                               Veterans, 2011-2015\n",
      "21                                          Foreign born persons, percent, 2011-2015\n",
      "34       High school graduate or higher, percent of persons age 25 years+, 2011-2015\n",
      "35          Bachelor's degree or higher, percent of persons age 25 years+, 2011-2015\n",
      "47                              Median household income (in 2015 dollars), 2011-2015\n",
      "48                  Per capita income in past 12 months (in 2015 dollars), 2011-2015\n",
      "62                                                  Population per square mile, 2010\n",
      "Name: 0, dtype: object\n"
     ]
    }
   ],
   "source": [
    "with pd.option_context('display.max_rows', len(census_df.columns), 'display.max_colwidth', None):\n",
    "    print(census_df.iloc[0])"
   ]
  },
  {
   "cell_type": "code",
   "execution_count": 33,
   "metadata": {},
   "outputs": [
    {
     "data": {
      "text/html": [
       "<div>\n",
       "<style scoped>\n",
       "    .dataframe tbody tr th:only-of-type {\n",
       "        vertical-align: middle;\n",
       "    }\n",
       "\n",
       "    .dataframe tbody tr th {\n",
       "        vertical-align: top;\n",
       "    }\n",
       "\n",
       "    .dataframe thead th {\n",
       "        text-align: right;\n",
       "    }\n",
       "</style>\n",
       "<table border=\"1\" class=\"dataframe\">\n",
       "  <thead>\n",
       "    <tr style=\"text-align: right;\">\n",
       "      <th></th>\n",
       "      <th>state</th>\n",
       "      <th>pop_est_16</th>\n",
       "      <th>pop_est_10</th>\n",
       "      <th>white_16</th>\n",
       "      <th>veterans_11_15</th>\n",
       "      <th>immigrants_11_15</th>\n",
       "      <th>high_school_11_15</th>\n",
       "      <th>bachelors_11_15</th>\n",
       "      <th>median_income_11_15</th>\n",
       "      <th>per_capita_income_11_15</th>\n",
       "      <th>pop_density_10</th>\n",
       "    </tr>\n",
       "  </thead>\n",
       "  <tbody>\n",
       "    <tr>\n",
       "      <th>0</th>\n",
       "      <td>Fact</td>\n",
       "      <td>Population estimates, July 1, 2016,  (V2016)</td>\n",
       "      <td>Population estimates base, April 1, 2010,  (V2...</td>\n",
       "      <td>White alone, percent, July 1, 2016,  (V2016)</td>\n",
       "      <td>Veterans, 2011-2015</td>\n",
       "      <td>Foreign born persons, percent, 2011-2015</td>\n",
       "      <td>High school graduate or higher, percent of per...</td>\n",
       "      <td>Bachelor's degree or higher, percent of person...</td>\n",
       "      <td>Median household income (in 2015 dollars), 201...</td>\n",
       "      <td>Per capita income in past 12 months (in 2015 d...</td>\n",
       "      <td>Population per square mile, 2010</td>\n",
       "    </tr>\n",
       "    <tr>\n",
       "      <th>1</th>\n",
       "      <td>Fact Note</td>\n",
       "      <td>NaN</td>\n",
       "      <td>NaN</td>\n",
       "      <td>(a)</td>\n",
       "      <td>NaN</td>\n",
       "      <td>NaN</td>\n",
       "      <td>NaN</td>\n",
       "      <td>NaN</td>\n",
       "      <td>NaN</td>\n",
       "      <td>NaN</td>\n",
       "      <td>NaN</td>\n",
       "    </tr>\n",
       "    <tr>\n",
       "      <th>2</th>\n",
       "      <td>Alabama</td>\n",
       "      <td>4,863,300</td>\n",
       "      <td>4,780,131</td>\n",
       "      <td>69.30%</td>\n",
       "      <td>363,170</td>\n",
       "      <td>3.50%</td>\n",
       "      <td>84.30%</td>\n",
       "      <td>23.50%</td>\n",
       "      <td>$43,623</td>\n",
       "      <td>$24,091</td>\n",
       "      <td>94.4</td>\n",
       "    </tr>\n",
       "    <tr>\n",
       "      <th>3</th>\n",
       "      <td>Alaska</td>\n",
       "      <td>741,894</td>\n",
       "      <td>710,249</td>\n",
       "      <td>66.10%</td>\n",
       "      <td>69,323</td>\n",
       "      <td>7.40%</td>\n",
       "      <td>92.10%</td>\n",
       "      <td>28.00%</td>\n",
       "      <td>$72,515</td>\n",
       "      <td>$33,413</td>\n",
       "      <td>1.2</td>\n",
       "    </tr>\n",
       "    <tr>\n",
       "      <th>4</th>\n",
       "      <td>Arizona</td>\n",
       "      <td>6,931,071</td>\n",
       "      <td>6,392,301</td>\n",
       "      <td>83.30%</td>\n",
       "      <td>505,794</td>\n",
       "      <td>13.50%</td>\n",
       "      <td>86.00%</td>\n",
       "      <td>27.50%</td>\n",
       "      <td>$50,255</td>\n",
       "      <td>$25,848</td>\n",
       "      <td>56.3</td>\n",
       "    </tr>\n",
       "  </tbody>\n",
       "</table>\n",
       "</div>"
      ],
      "text/plain": [
       "       state                                    pop_est_16  \\\n",
       "0       Fact  Population estimates, July 1, 2016,  (V2016)   \n",
       "1  Fact Note                                           NaN   \n",
       "2    Alabama                                     4,863,300   \n",
       "3     Alaska                                       741,894   \n",
       "4    Arizona                                     6,931,071   \n",
       "\n",
       "                                          pop_est_10  \\\n",
       "0  Population estimates base, April 1, 2010,  (V2...   \n",
       "1                                                NaN   \n",
       "2                                          4,780,131   \n",
       "3                                            710,249   \n",
       "4                                          6,392,301   \n",
       "\n",
       "                                       white_16       veterans_11_15  \\\n",
       "0  White alone, percent, July 1, 2016,  (V2016)  Veterans, 2011-2015   \n",
       "1                                           (a)                  NaN   \n",
       "2                                        69.30%              363,170   \n",
       "3                                        66.10%               69,323   \n",
       "4                                        83.30%              505,794   \n",
       "\n",
       "                           immigrants_11_15  \\\n",
       "0  Foreign born persons, percent, 2011-2015   \n",
       "1                                       NaN   \n",
       "2                                     3.50%   \n",
       "3                                     7.40%   \n",
       "4                                    13.50%   \n",
       "\n",
       "                                   high_school_11_15  \\\n",
       "0  High school graduate or higher, percent of per...   \n",
       "1                                                NaN   \n",
       "2                                             84.30%   \n",
       "3                                             92.10%   \n",
       "4                                             86.00%   \n",
       "\n",
       "                                     bachelors_11_15  \\\n",
       "0  Bachelor's degree or higher, percent of person...   \n",
       "1                                                NaN   \n",
       "2                                             23.50%   \n",
       "3                                             28.00%   \n",
       "4                                             27.50%   \n",
       "\n",
       "                                 median_income_11_15  \\\n",
       "0  Median household income (in 2015 dollars), 201...   \n",
       "1                                                NaN   \n",
       "2                                           $43,623    \n",
       "3                                           $72,515    \n",
       "4                                           $50,255    \n",
       "\n",
       "                             per_capita_income_11_15  \\\n",
       "0  Per capita income in past 12 months (in 2015 d...   \n",
       "1                                                NaN   \n",
       "2                                           $24,091    \n",
       "3                                           $33,413    \n",
       "4                                           $25,848    \n",
       "\n",
       "                     pop_density_10  \n",
       "0  Population per square mile, 2010  \n",
       "1                               NaN  \n",
       "2                              94.4  \n",
       "3                               1.2  \n",
       "4                              56.3  "
      ]
     },
     "execution_count": 33,
     "metadata": {},
     "output_type": "execute_result"
    }
   ],
   "source": [
    "census_df.columns = ['state', 'pop_est_16', 'pop_est_10', 'white_16', 'veterans_11_15', 'immigrants_11_15', 'high_school_11_15', 'bachelors_11_15', 'median_income_11_15', 'per_capita_income_11_15', 'pop_density_10']\n",
    "census_df.head()"
   ]
  },
  {
   "cell_type": "code",
   "execution_count": 34,
   "metadata": {
    "scrolled": true
   },
   "outputs": [
    {
     "data": {
      "text/html": [
       "<div>\n",
       "<style scoped>\n",
       "    .dataframe tbody tr th:only-of-type {\n",
       "        vertical-align: middle;\n",
       "    }\n",
       "\n",
       "    .dataframe tbody tr th {\n",
       "        vertical-align: top;\n",
       "    }\n",
       "\n",
       "    .dataframe thead th {\n",
       "        text-align: right;\n",
       "    }\n",
       "</style>\n",
       "<table border=\"1\" class=\"dataframe\">\n",
       "  <thead>\n",
       "    <tr style=\"text-align: right;\">\n",
       "      <th></th>\n",
       "      <th>state</th>\n",
       "      <th>pop_est_16</th>\n",
       "      <th>pop_est_10</th>\n",
       "      <th>white_16</th>\n",
       "      <th>veterans_11_15</th>\n",
       "      <th>immigrants_11_15</th>\n",
       "      <th>high_school_11_15</th>\n",
       "      <th>bachelors_11_15</th>\n",
       "      <th>median_income_11_15</th>\n",
       "      <th>per_capita_income_11_15</th>\n",
       "      <th>pop_density_10</th>\n",
       "    </tr>\n",
       "  </thead>\n",
       "  <tbody>\n",
       "    <tr>\n",
       "      <th>2</th>\n",
       "      <td>Alabama</td>\n",
       "      <td>4,863,300</td>\n",
       "      <td>4,780,131</td>\n",
       "      <td>69.30%</td>\n",
       "      <td>363,170</td>\n",
       "      <td>3.50%</td>\n",
       "      <td>84.30%</td>\n",
       "      <td>23.50%</td>\n",
       "      <td>$43,623</td>\n",
       "      <td>$24,091</td>\n",
       "      <td>94.4</td>\n",
       "    </tr>\n",
       "    <tr>\n",
       "      <th>3</th>\n",
       "      <td>Alaska</td>\n",
       "      <td>741,894</td>\n",
       "      <td>710,249</td>\n",
       "      <td>66.10%</td>\n",
       "      <td>69,323</td>\n",
       "      <td>7.40%</td>\n",
       "      <td>92.10%</td>\n",
       "      <td>28.00%</td>\n",
       "      <td>$72,515</td>\n",
       "      <td>$33,413</td>\n",
       "      <td>1.2</td>\n",
       "    </tr>\n",
       "    <tr>\n",
       "      <th>4</th>\n",
       "      <td>Arizona</td>\n",
       "      <td>6,931,071</td>\n",
       "      <td>6,392,301</td>\n",
       "      <td>83.30%</td>\n",
       "      <td>505,794</td>\n",
       "      <td>13.50%</td>\n",
       "      <td>86.00%</td>\n",
       "      <td>27.50%</td>\n",
       "      <td>$50,255</td>\n",
       "      <td>$25,848</td>\n",
       "      <td>56.3</td>\n",
       "    </tr>\n",
       "    <tr>\n",
       "      <th>5</th>\n",
       "      <td>Arkansas</td>\n",
       "      <td>2,988,248</td>\n",
       "      <td>2,916,025</td>\n",
       "      <td>79.40%</td>\n",
       "      <td>220,953</td>\n",
       "      <td>4.70%</td>\n",
       "      <td>84.80%</td>\n",
       "      <td>21.10%</td>\n",
       "      <td>$41,371</td>\n",
       "      <td>$22,798</td>\n",
       "      <td>56</td>\n",
       "    </tr>\n",
       "    <tr>\n",
       "      <th>6</th>\n",
       "      <td>California</td>\n",
       "      <td>39,250,017</td>\n",
       "      <td>37,254,522</td>\n",
       "      <td>72.70%</td>\n",
       "      <td>1,777,410</td>\n",
       "      <td>27.00%</td>\n",
       "      <td>81.80%</td>\n",
       "      <td>31.40%</td>\n",
       "      <td>$61,818</td>\n",
       "      <td>$30,318</td>\n",
       "      <td>239.1</td>\n",
       "    </tr>\n",
       "  </tbody>\n",
       "</table>\n",
       "</div>"
      ],
      "text/plain": [
       "        state  pop_est_16  pop_est_10 white_16 veterans_11_15  \\\n",
       "2     Alabama   4,863,300   4,780,131   69.30%        363,170   \n",
       "3      Alaska     741,894     710,249   66.10%         69,323   \n",
       "4     Arizona   6,931,071   6,392,301   83.30%        505,794   \n",
       "5    Arkansas   2,988,248   2,916,025   79.40%        220,953   \n",
       "6  California  39,250,017  37,254,522   72.70%      1,777,410   \n",
       "\n",
       "  immigrants_11_15 high_school_11_15 bachelors_11_15 median_income_11_15  \\\n",
       "2            3.50%            84.30%          23.50%            $43,623    \n",
       "3            7.40%            92.10%          28.00%            $72,515    \n",
       "4           13.50%            86.00%          27.50%            $50,255    \n",
       "5            4.70%            84.80%          21.10%            $41,371    \n",
       "6           27.00%            81.80%          31.40%            $61,818    \n",
       "\n",
       "  per_capita_income_11_15 pop_density_10  \n",
       "2                $24,091            94.4  \n",
       "3                $33,413             1.2  \n",
       "4                $25,848            56.3  \n",
       "5                $22,798              56  \n",
       "6                $30,318           239.1  "
      ]
     },
     "execution_count": 34,
     "metadata": {},
     "output_type": "execute_result"
    }
   ],
   "source": [
    "census_df.drop([0, 1], inplace=True)\n",
    "census_df.head()"
   ]
  },
  {
   "cell_type": "markdown",
   "metadata": {},
   "source": [
    "I notice that the index starts with 2 now so I will reset the index one more time."
   ]
  },
  {
   "cell_type": "code",
   "execution_count": 35,
   "metadata": {},
   "outputs": [
    {
     "data": {
      "text/html": [
       "<div>\n",
       "<style scoped>\n",
       "    .dataframe tbody tr th:only-of-type {\n",
       "        vertical-align: middle;\n",
       "    }\n",
       "\n",
       "    .dataframe tbody tr th {\n",
       "        vertical-align: top;\n",
       "    }\n",
       "\n",
       "    .dataframe thead th {\n",
       "        text-align: right;\n",
       "    }\n",
       "</style>\n",
       "<table border=\"1\" class=\"dataframe\">\n",
       "  <thead>\n",
       "    <tr style=\"text-align: right;\">\n",
       "      <th></th>\n",
       "      <th>index</th>\n",
       "      <th>state</th>\n",
       "      <th>pop_est_16</th>\n",
       "      <th>pop_est_10</th>\n",
       "      <th>white_16</th>\n",
       "      <th>veterans_11_15</th>\n",
       "      <th>immigrants_11_15</th>\n",
       "      <th>high_school_11_15</th>\n",
       "      <th>bachelors_11_15</th>\n",
       "      <th>median_income_11_15</th>\n",
       "      <th>per_capita_income_11_15</th>\n",
       "      <th>pop_density_10</th>\n",
       "    </tr>\n",
       "  </thead>\n",
       "  <tbody>\n",
       "    <tr>\n",
       "      <th>0</th>\n",
       "      <td>2</td>\n",
       "      <td>Alabama</td>\n",
       "      <td>4,863,300</td>\n",
       "      <td>4,780,131</td>\n",
       "      <td>69.30%</td>\n",
       "      <td>363,170</td>\n",
       "      <td>3.50%</td>\n",
       "      <td>84.30%</td>\n",
       "      <td>23.50%</td>\n",
       "      <td>$43,623</td>\n",
       "      <td>$24,091</td>\n",
       "      <td>94.4</td>\n",
       "    </tr>\n",
       "    <tr>\n",
       "      <th>1</th>\n",
       "      <td>3</td>\n",
       "      <td>Alaska</td>\n",
       "      <td>741,894</td>\n",
       "      <td>710,249</td>\n",
       "      <td>66.10%</td>\n",
       "      <td>69,323</td>\n",
       "      <td>7.40%</td>\n",
       "      <td>92.10%</td>\n",
       "      <td>28.00%</td>\n",
       "      <td>$72,515</td>\n",
       "      <td>$33,413</td>\n",
       "      <td>1.2</td>\n",
       "    </tr>\n",
       "    <tr>\n",
       "      <th>2</th>\n",
       "      <td>4</td>\n",
       "      <td>Arizona</td>\n",
       "      <td>6,931,071</td>\n",
       "      <td>6,392,301</td>\n",
       "      <td>83.30%</td>\n",
       "      <td>505,794</td>\n",
       "      <td>13.50%</td>\n",
       "      <td>86.00%</td>\n",
       "      <td>27.50%</td>\n",
       "      <td>$50,255</td>\n",
       "      <td>$25,848</td>\n",
       "      <td>56.3</td>\n",
       "    </tr>\n",
       "    <tr>\n",
       "      <th>3</th>\n",
       "      <td>5</td>\n",
       "      <td>Arkansas</td>\n",
       "      <td>2,988,248</td>\n",
       "      <td>2,916,025</td>\n",
       "      <td>79.40%</td>\n",
       "      <td>220,953</td>\n",
       "      <td>4.70%</td>\n",
       "      <td>84.80%</td>\n",
       "      <td>21.10%</td>\n",
       "      <td>$41,371</td>\n",
       "      <td>$22,798</td>\n",
       "      <td>56</td>\n",
       "    </tr>\n",
       "    <tr>\n",
       "      <th>4</th>\n",
       "      <td>6</td>\n",
       "      <td>California</td>\n",
       "      <td>39,250,017</td>\n",
       "      <td>37,254,522</td>\n",
       "      <td>72.70%</td>\n",
       "      <td>1,777,410</td>\n",
       "      <td>27.00%</td>\n",
       "      <td>81.80%</td>\n",
       "      <td>31.40%</td>\n",
       "      <td>$61,818</td>\n",
       "      <td>$30,318</td>\n",
       "      <td>239.1</td>\n",
       "    </tr>\n",
       "  </tbody>\n",
       "</table>\n",
       "</div>"
      ],
      "text/plain": [
       "   index       state  pop_est_16  pop_est_10 white_16 veterans_11_15  \\\n",
       "0      2     Alabama   4,863,300   4,780,131   69.30%        363,170   \n",
       "1      3      Alaska     741,894     710,249   66.10%         69,323   \n",
       "2      4     Arizona   6,931,071   6,392,301   83.30%        505,794   \n",
       "3      5    Arkansas   2,988,248   2,916,025   79.40%        220,953   \n",
       "4      6  California  39,250,017  37,254,522   72.70%      1,777,410   \n",
       "\n",
       "  immigrants_11_15 high_school_11_15 bachelors_11_15 median_income_11_15  \\\n",
       "0            3.50%            84.30%          23.50%            $43,623    \n",
       "1            7.40%            92.10%          28.00%            $72,515    \n",
       "2           13.50%            86.00%          27.50%            $50,255    \n",
       "3            4.70%            84.80%          21.10%            $41,371    \n",
       "4           27.00%            81.80%          31.40%            $61,818    \n",
       "\n",
       "  per_capita_income_11_15 pop_density_10  \n",
       "0                $24,091            94.4  \n",
       "1                $33,413             1.2  \n",
       "2                $25,848            56.3  \n",
       "3                $22,798              56  \n",
       "4                $30,318           239.1  "
      ]
     },
     "execution_count": 35,
     "metadata": {},
     "output_type": "execute_result"
    }
   ],
   "source": [
    "census_df.reset_index(inplace=True)\n",
    "census_df.head()"
   ]
  },
  {
   "cell_type": "code",
   "execution_count": 36,
   "metadata": {},
   "outputs": [
    {
     "data": {
      "text/html": [
       "<div>\n",
       "<style scoped>\n",
       "    .dataframe tbody tr th:only-of-type {\n",
       "        vertical-align: middle;\n",
       "    }\n",
       "\n",
       "    .dataframe tbody tr th {\n",
       "        vertical-align: top;\n",
       "    }\n",
       "\n",
       "    .dataframe thead th {\n",
       "        text-align: right;\n",
       "    }\n",
       "</style>\n",
       "<table border=\"1\" class=\"dataframe\">\n",
       "  <thead>\n",
       "    <tr style=\"text-align: right;\">\n",
       "      <th></th>\n",
       "      <th>state</th>\n",
       "      <th>pop_est_16</th>\n",
       "      <th>pop_est_10</th>\n",
       "      <th>white_16</th>\n",
       "      <th>veterans_11_15</th>\n",
       "      <th>immigrants_11_15</th>\n",
       "      <th>high_school_11_15</th>\n",
       "      <th>bachelors_11_15</th>\n",
       "      <th>median_income_11_15</th>\n",
       "      <th>per_capita_income_11_15</th>\n",
       "      <th>pop_density_10</th>\n",
       "    </tr>\n",
       "  </thead>\n",
       "  <tbody>\n",
       "    <tr>\n",
       "      <th>0</th>\n",
       "      <td>Alabama</td>\n",
       "      <td>4,863,300</td>\n",
       "      <td>4,780,131</td>\n",
       "      <td>69.30%</td>\n",
       "      <td>363,170</td>\n",
       "      <td>3.50%</td>\n",
       "      <td>84.30%</td>\n",
       "      <td>23.50%</td>\n",
       "      <td>$43,623</td>\n",
       "      <td>$24,091</td>\n",
       "      <td>94.4</td>\n",
       "    </tr>\n",
       "    <tr>\n",
       "      <th>1</th>\n",
       "      <td>Alaska</td>\n",
       "      <td>741,894</td>\n",
       "      <td>710,249</td>\n",
       "      <td>66.10%</td>\n",
       "      <td>69,323</td>\n",
       "      <td>7.40%</td>\n",
       "      <td>92.10%</td>\n",
       "      <td>28.00%</td>\n",
       "      <td>$72,515</td>\n",
       "      <td>$33,413</td>\n",
       "      <td>1.2</td>\n",
       "    </tr>\n",
       "    <tr>\n",
       "      <th>2</th>\n",
       "      <td>Arizona</td>\n",
       "      <td>6,931,071</td>\n",
       "      <td>6,392,301</td>\n",
       "      <td>83.30%</td>\n",
       "      <td>505,794</td>\n",
       "      <td>13.50%</td>\n",
       "      <td>86.00%</td>\n",
       "      <td>27.50%</td>\n",
       "      <td>$50,255</td>\n",
       "      <td>$25,848</td>\n",
       "      <td>56.3</td>\n",
       "    </tr>\n",
       "    <tr>\n",
       "      <th>3</th>\n",
       "      <td>Arkansas</td>\n",
       "      <td>2,988,248</td>\n",
       "      <td>2,916,025</td>\n",
       "      <td>79.40%</td>\n",
       "      <td>220,953</td>\n",
       "      <td>4.70%</td>\n",
       "      <td>84.80%</td>\n",
       "      <td>21.10%</td>\n",
       "      <td>$41,371</td>\n",
       "      <td>$22,798</td>\n",
       "      <td>56</td>\n",
       "    </tr>\n",
       "    <tr>\n",
       "      <th>4</th>\n",
       "      <td>California</td>\n",
       "      <td>39,250,017</td>\n",
       "      <td>37,254,522</td>\n",
       "      <td>72.70%</td>\n",
       "      <td>1,777,410</td>\n",
       "      <td>27.00%</td>\n",
       "      <td>81.80%</td>\n",
       "      <td>31.40%</td>\n",
       "      <td>$61,818</td>\n",
       "      <td>$30,318</td>\n",
       "      <td>239.1</td>\n",
       "    </tr>\n",
       "  </tbody>\n",
       "</table>\n",
       "</div>"
      ],
      "text/plain": [
       "        state  pop_est_16  pop_est_10 white_16 veterans_11_15  \\\n",
       "0     Alabama   4,863,300   4,780,131   69.30%        363,170   \n",
       "1      Alaska     741,894     710,249   66.10%         69,323   \n",
       "2     Arizona   6,931,071   6,392,301   83.30%        505,794   \n",
       "3    Arkansas   2,988,248   2,916,025   79.40%        220,953   \n",
       "4  California  39,250,017  37,254,522   72.70%      1,777,410   \n",
       "\n",
       "  immigrants_11_15 high_school_11_15 bachelors_11_15 median_income_11_15  \\\n",
       "0            3.50%            84.30%          23.50%            $43,623    \n",
       "1            7.40%            92.10%          28.00%            $72,515    \n",
       "2           13.50%            86.00%          27.50%            $50,255    \n",
       "3            4.70%            84.80%          21.10%            $41,371    \n",
       "4           27.00%            81.80%          31.40%            $61,818    \n",
       "\n",
       "  per_capita_income_11_15 pop_density_10  \n",
       "0                $24,091            94.4  \n",
       "1                $33,413             1.2  \n",
       "2                $25,848            56.3  \n",
       "3                $22,798              56  \n",
       "4                $30,318           239.1  "
      ]
     },
     "execution_count": 36,
     "metadata": {},
     "output_type": "execute_result"
    }
   ],
   "source": [
    "census_df.drop(['index'], axis=1, inplace=True)\n",
    "census_df.head()"
   ]
  },
  {
   "cell_type": "markdown",
   "metadata": {},
   "source": [
    "Finally, I will convert all values to data type float.\n",
    "\n",
    "When I initially tried to convert the columns to float, I encountered errors saying that the strings could not be converted because of numeric symbols such as `,`, `$`, and `%`. I will take care of this by replacing these symbols with `''`.\n",
    "\n",
    "However, when I convert percentages to float, I will have to treat them differently because the percentages should be divided by 100.\n",
    "\n",
    "I will convert each value individually since a column might have different formats. For example, some percentages might have `%` at the end, while others might just show up as decimals."
   ]
  },
  {
   "cell_type": "code",
   "execution_count": 37,
   "metadata": {},
   "outputs": [],
   "source": [
    "for col in range(1, len(census_df.columns)):\n",
    "    for row in range(len(census_df.index)):\n",
    "        if census_df.iloc[row, col].endswith('%'):\n",
    "            census_df.iloc[row, col] = float(census_df.iloc[row, col].replace('%', '')) / 100.\n",
    "        else:\n",
    "            census_df.iloc[row, col] = float(census_df.iloc[row, col].replace('$', '').replace(',', ''))"
   ]
  },
  {
   "cell_type": "code",
   "execution_count": 38,
   "metadata": {},
   "outputs": [
    {
     "name": "stdout",
     "output_type": "stream",
     "text": [
      "<class 'pandas.core.frame.DataFrame'>\n",
      "RangeIndex: 50 entries, 0 to 49\n",
      "Data columns (total 11 columns):\n",
      " #   Column                   Non-Null Count  Dtype \n",
      "---  ------                   --------------  ----- \n",
      " 0   state                    50 non-null     object\n",
      " 1   pop_est_16               50 non-null     object\n",
      " 2   pop_est_10               50 non-null     object\n",
      " 3   white_16                 50 non-null     object\n",
      " 4   veterans_11_15           50 non-null     object\n",
      " 5   immigrants_11_15         50 non-null     object\n",
      " 6   high_school_11_15        50 non-null     object\n",
      " 7   bachelors_11_15          50 non-null     object\n",
      " 8   median_income_11_15      50 non-null     object\n",
      " 9   per_capita_income_11_15  50 non-null     object\n",
      " 10  pop_density_10           50 non-null     object\n",
      "dtypes: object(11)\n",
      "memory usage: 4.4+ KB\n"
     ]
    }
   ],
   "source": [
    "census_df.info()"
   ]
  },
  {
   "cell_type": "markdown",
   "metadata": {},
   "source": [
    "I notice that the data types still show as strings when I use the `info()` function. Therefore, I will use `pd.to_numeric()` to make sure that they are actually converted to floats."
   ]
  },
  {
   "cell_type": "code",
   "execution_count": 39,
   "metadata": {},
   "outputs": [],
   "source": [
    "for col in census_df.columns[1:]:\n",
    "    census_df[col] = pd.to_numeric(census_df[col])"
   ]
  },
  {
   "cell_type": "code",
   "execution_count": 40,
   "metadata": {},
   "outputs": [
    {
     "name": "stdout",
     "output_type": "stream",
     "text": [
      "<class 'pandas.core.frame.DataFrame'>\n",
      "RangeIndex: 50 entries, 0 to 49\n",
      "Data columns (total 11 columns):\n",
      " #   Column                   Non-Null Count  Dtype  \n",
      "---  ------                   --------------  -----  \n",
      " 0   state                    50 non-null     object \n",
      " 1   pop_est_16               50 non-null     float64\n",
      " 2   pop_est_10               50 non-null     float64\n",
      " 3   white_16                 50 non-null     float64\n",
      " 4   veterans_11_15           50 non-null     float64\n",
      " 5   immigrants_11_15         50 non-null     float64\n",
      " 6   high_school_11_15        50 non-null     float64\n",
      " 7   bachelors_11_15          50 non-null     float64\n",
      " 8   median_income_11_15      50 non-null     float64\n",
      " 9   per_capita_income_11_15  50 non-null     float64\n",
      " 10  pop_density_10           50 non-null     float64\n",
      "dtypes: float64(10), object(1)\n",
      "memory usage: 4.4+ KB\n"
     ]
    }
   ],
   "source": [
    "census_df.info()"
   ]
  },
  {
   "cell_type": "markdown",
   "metadata": {},
   "source": [
    "All of the columns except for `state` have been converted to data type float. I can now use the `describe()` function to see if the `census_df` data looks reasonable."
   ]
  },
  {
   "cell_type": "code",
   "execution_count": 41,
   "metadata": {},
   "outputs": [
    {
     "name": "stdout",
     "output_type": "stream",
     "text": [
      "         pop_est_16    pop_est_10   white_16  veterans_11_15  \\\n",
      "count  5.000000e+01  5.000000e+01  50.000000    5.000000e+01   \n",
      "mean   6.448927e+06  6.163127e+06   0.793080    4.015940e+05   \n",
      "std    7.271769e+06  6.848463e+06   0.123359    3.831585e+05   \n",
      "min    5.855010e+05  5.637670e+05   0.258000    4.470800e+04   \n",
      "25%    1.850106e+06  1.833003e+06   0.724750    1.332715e+05   \n",
      "50%    4.559320e+06  4.436412e+06   0.821000    3.020175e+05   \n",
      "75%    7.198768e+06  6.680362e+06   0.875000    4.949490e+05   \n",
      "max    3.925002e+07  3.725452e+07   0.948000    1.777410e+06   \n",
      "\n",
      "       immigrants_11_15  high_school_11_15  bachelors_11_15  \\\n",
      "count         50.000000          50.000000         50.00000   \n",
      "mean           0.089620           0.882240          0.29012   \n",
      "std            0.060841           0.030896          0.04934   \n",
      "min            0.015000           0.818000          0.19200   \n",
      "25%            0.044000           0.856000          0.25950   \n",
      "50%            0.067500           0.888500          0.28200   \n",
      "75%            0.133750           0.908500          0.31775   \n",
      "max            0.270000           0.928000          0.40500   \n",
      "\n",
      "       median_income_11_15  per_capita_income_11_15  pop_density_10  \n",
      "count            50.000000                50.000000       50.000000  \n",
      "mean          54311.860000             28491.780000      194.962000  \n",
      "std            8949.529115              4103.284534      261.091465  \n",
      "min           39665.000000             21057.000000        1.200000  \n",
      "25%           47526.000000             25443.750000       44.450000  \n",
      "50%           52601.000000             27669.500000       98.750000  \n",
      "75%           60599.000000             30977.000000      209.500000  \n",
      "max           74551.000000             38803.000000     1195.500000  \n"
     ]
    }
   ],
   "source": [
    "full_describe(census_df)"
   ]
  },
  {
   "cell_type": "markdown",
   "metadata": {},
   "source": [
    "The `census_df` data looks ready for analysis, as there no unexpectedly high or low numbers."
   ]
  },
  {
   "cell_type": "markdown",
   "metadata": {},
   "source": [
    "<a id='eda'></a>\n",
    "## Exploratory Data Analysis\n",
    "\n",
    "### Question 1: What is the overall trend of background checks and gun sales?\n",
    "\n",
    "To find the trend for background checks, I will utilize the `totals` column in `gun_df`. I will look at the overall trend for both yearly and monthly data in order to see the general trend over the years, as well as any trends within each year. \n",
    "\n",
    "I will start by adding columns to `gun_df` for gun sales. To calculate gun sales, I will use the methodology of the New York Times, as mentioned by Jeremy Singer-Vine of BuzzFeed News. With this methodology, each handgun and long gun background check counts as 1.1 sales, while a multiple-gun background check counts as two sales."
   ]
  },
  {
   "cell_type": "code",
   "execution_count": 42,
   "metadata": {},
   "outputs": [
    {
     "data": {
      "text/html": [
       "<div>\n",
       "<style scoped>\n",
       "    .dataframe tbody tr th:only-of-type {\n",
       "        vertical-align: middle;\n",
       "    }\n",
       "\n",
       "    .dataframe tbody tr th {\n",
       "        vertical-align: top;\n",
       "    }\n",
       "\n",
       "    .dataframe thead th {\n",
       "        text-align: right;\n",
       "    }\n",
       "</style>\n",
       "<table border=\"1\" class=\"dataframe\">\n",
       "  <thead>\n",
       "    <tr style=\"text-align: right;\">\n",
       "      <th></th>\n",
       "      <th>month</th>\n",
       "      <th>state</th>\n",
       "      <th>permit</th>\n",
       "      <th>permit_recheck</th>\n",
       "      <th>handgun</th>\n",
       "      <th>long_gun</th>\n",
       "      <th>other</th>\n",
       "      <th>multiple</th>\n",
       "      <th>admin</th>\n",
       "      <th>prepawn_handgun</th>\n",
       "      <th>...</th>\n",
       "      <th>private_sale_other</th>\n",
       "      <th>return_to_seller_handgun</th>\n",
       "      <th>return_to_seller_long_gun</th>\n",
       "      <th>return_to_seller_other</th>\n",
       "      <th>totals</th>\n",
       "      <th>year</th>\n",
       "      <th>handgun_sales</th>\n",
       "      <th>long_gun_sales</th>\n",
       "      <th>multiple_sales</th>\n",
       "      <th>total_sales</th>\n",
       "    </tr>\n",
       "  </thead>\n",
       "  <tbody>\n",
       "    <tr>\n",
       "      <th>0</th>\n",
       "      <td>2017-09-01</td>\n",
       "      <td>Alabama</td>\n",
       "      <td>16717.0</td>\n",
       "      <td>0.0</td>\n",
       "      <td>5734.0</td>\n",
       "      <td>6320.0</td>\n",
       "      <td>221.0</td>\n",
       "      <td>317.0</td>\n",
       "      <td>0.0</td>\n",
       "      <td>15.0</td>\n",
       "      <td>...</td>\n",
       "      <td>3.0</td>\n",
       "      <td>0.0</td>\n",
       "      <td>0.0</td>\n",
       "      <td>3.0</td>\n",
       "      <td>32019.0</td>\n",
       "      <td>2017-01-01</td>\n",
       "      <td>6307.4</td>\n",
       "      <td>6952.0</td>\n",
       "      <td>634.0</td>\n",
       "      <td>13893.4</td>\n",
       "    </tr>\n",
       "    <tr>\n",
       "      <th>1</th>\n",
       "      <td>2017-09-01</td>\n",
       "      <td>Alaska</td>\n",
       "      <td>209.0</td>\n",
       "      <td>2.0</td>\n",
       "      <td>2320.0</td>\n",
       "      <td>2930.0</td>\n",
       "      <td>219.0</td>\n",
       "      <td>160.0</td>\n",
       "      <td>0.0</td>\n",
       "      <td>5.0</td>\n",
       "      <td>...</td>\n",
       "      <td>1.0</td>\n",
       "      <td>0.0</td>\n",
       "      <td>0.0</td>\n",
       "      <td>0.0</td>\n",
       "      <td>6303.0</td>\n",
       "      <td>2017-01-01</td>\n",
       "      <td>2552.0</td>\n",
       "      <td>3223.0</td>\n",
       "      <td>320.0</td>\n",
       "      <td>6095.0</td>\n",
       "    </tr>\n",
       "    <tr>\n",
       "      <th>2</th>\n",
       "      <td>2017-09-01</td>\n",
       "      <td>Arizona</td>\n",
       "      <td>5069.0</td>\n",
       "      <td>382.0</td>\n",
       "      <td>11063.0</td>\n",
       "      <td>7946.0</td>\n",
       "      <td>920.0</td>\n",
       "      <td>631.0</td>\n",
       "      <td>0.0</td>\n",
       "      <td>13.0</td>\n",
       "      <td>...</td>\n",
       "      <td>2.0</td>\n",
       "      <td>0.0</td>\n",
       "      <td>0.0</td>\n",
       "      <td>0.0</td>\n",
       "      <td>28394.0</td>\n",
       "      <td>2017-01-01</td>\n",
       "      <td>12169.3</td>\n",
       "      <td>8740.6</td>\n",
       "      <td>1262.0</td>\n",
       "      <td>22171.9</td>\n",
       "    </tr>\n",
       "    <tr>\n",
       "      <th>3</th>\n",
       "      <td>2017-09-01</td>\n",
       "      <td>Arkansas</td>\n",
       "      <td>2935.0</td>\n",
       "      <td>632.0</td>\n",
       "      <td>4347.0</td>\n",
       "      <td>6063.0</td>\n",
       "      <td>165.0</td>\n",
       "      <td>366.0</td>\n",
       "      <td>51.0</td>\n",
       "      <td>12.0</td>\n",
       "      <td>...</td>\n",
       "      <td>0.0</td>\n",
       "      <td>0.0</td>\n",
       "      <td>2.0</td>\n",
       "      <td>1.0</td>\n",
       "      <td>17747.0</td>\n",
       "      <td>2017-01-01</td>\n",
       "      <td>4781.7</td>\n",
       "      <td>6669.3</td>\n",
       "      <td>732.0</td>\n",
       "      <td>12183.0</td>\n",
       "    </tr>\n",
       "    <tr>\n",
       "      <th>4</th>\n",
       "      <td>2017-09-01</td>\n",
       "      <td>California</td>\n",
       "      <td>57839.0</td>\n",
       "      <td>0.0</td>\n",
       "      <td>37165.0</td>\n",
       "      <td>24581.0</td>\n",
       "      <td>2984.0</td>\n",
       "      <td>0.0</td>\n",
       "      <td>0.0</td>\n",
       "      <td>0.0</td>\n",
       "      <td>...</td>\n",
       "      <td>0.0</td>\n",
       "      <td>0.0</td>\n",
       "      <td>0.0</td>\n",
       "      <td>0.0</td>\n",
       "      <td>123506.0</td>\n",
       "      <td>2017-01-01</td>\n",
       "      <td>40881.5</td>\n",
       "      <td>27039.1</td>\n",
       "      <td>0.0</td>\n",
       "      <td>67920.6</td>\n",
       "    </tr>\n",
       "  </tbody>\n",
       "</table>\n",
       "<p>5 rows × 32 columns</p>\n",
       "</div>"
      ],
      "text/plain": [
       "       month       state   permit  permit_recheck  handgun  long_gun   other  \\\n",
       "0 2017-09-01     Alabama  16717.0             0.0   5734.0    6320.0   221.0   \n",
       "1 2017-09-01      Alaska    209.0             2.0   2320.0    2930.0   219.0   \n",
       "2 2017-09-01     Arizona   5069.0           382.0  11063.0    7946.0   920.0   \n",
       "3 2017-09-01    Arkansas   2935.0           632.0   4347.0    6063.0   165.0   \n",
       "4 2017-09-01  California  57839.0             0.0  37165.0   24581.0  2984.0   \n",
       "\n",
       "   multiple  admin  prepawn_handgun  ...  private_sale_other  \\\n",
       "0     317.0    0.0             15.0  ...                 3.0   \n",
       "1     160.0    0.0              5.0  ...                 1.0   \n",
       "2     631.0    0.0             13.0  ...                 2.0   \n",
       "3     366.0   51.0             12.0  ...                 0.0   \n",
       "4       0.0    0.0              0.0  ...                 0.0   \n",
       "\n",
       "   return_to_seller_handgun  return_to_seller_long_gun  \\\n",
       "0                       0.0                        0.0   \n",
       "1                       0.0                        0.0   \n",
       "2                       0.0                        0.0   \n",
       "3                       0.0                        2.0   \n",
       "4                       0.0                        0.0   \n",
       "\n",
       "   return_to_seller_other    totals       year  handgun_sales  long_gun_sales  \\\n",
       "0                     3.0   32019.0 2017-01-01         6307.4          6952.0   \n",
       "1                     0.0    6303.0 2017-01-01         2552.0          3223.0   \n",
       "2                     0.0   28394.0 2017-01-01        12169.3          8740.6   \n",
       "3                     1.0   17747.0 2017-01-01         4781.7          6669.3   \n",
       "4                     0.0  123506.0 2017-01-01        40881.5         27039.1   \n",
       "\n",
       "   multiple_sales  total_sales  \n",
       "0           634.0      13893.4  \n",
       "1           320.0       6095.0  \n",
       "2          1262.0      22171.9  \n",
       "3           732.0      12183.0  \n",
       "4             0.0      67920.6  \n",
       "\n",
       "[5 rows x 32 columns]"
      ]
     },
     "execution_count": 42,
     "metadata": {},
     "output_type": "execute_result"
    }
   ],
   "source": [
    "gun_df['handgun_sales'] = gun_df['handgun'] * 1.1\n",
    "gun_df['long_gun_sales'] = gun_df['long_gun'] * 1.1\n",
    "gun_df['multiple_sales'] = gun_df['multiple'] * 2.\n",
    "gun_df['total_sales'] = gun_df['handgun_sales'] + gun_df['long_gun_sales'] + gun_df['multiple_sales']\n",
    "gun_df.head()"
   ]
  },
  {
   "cell_type": "markdown",
   "metadata": {},
   "source": [
    "Because full year data is not included for the first and last years (1998 and 2017, respectively), I will exclude those from the yearly view."
   ]
  },
  {
   "cell_type": "code",
   "execution_count": 43,
   "metadata": {},
   "outputs": [],
   "source": [
    "gun_df_full_years = gun_df.query('year >= \"1999-01-01\" & year <= \"2016-12-31\"')"
   ]
  },
  {
   "cell_type": "code",
   "execution_count": 44,
   "metadata": {},
   "outputs": [
    {
     "data": {
      "text/plain": [
       "year\n",
       "1999-01-01    9038315.0\n",
       "2000-01-01    8421486.0\n",
       "2001-01-01    8812457.0\n",
       "2002-01-01    8358574.0\n",
       "2003-01-01    8393942.0\n",
       "Name: totals, dtype: float64"
      ]
     },
     "execution_count": 44,
     "metadata": {},
     "output_type": "execute_result"
    }
   ],
   "source": [
    "total_checks_yearly = gun_df_full_years.groupby('year')['totals'].sum()\n",
    "total_checks_yearly.head()"
   ]
  },
  {
   "cell_type": "code",
   "execution_count": 45,
   "metadata": {},
   "outputs": [],
   "source": [
    "def plot_labels(title, xlabel, ylabel):\n",
    "    '''Prints the title, x-axis label, and y-axis label for a data visualization.'''\n",
    "    plt.title(title)\n",
    "    plt.xlabel(xlabel)\n",
    "    plt.ylabel(ylabel)"
   ]
  },
  {
   "cell_type": "code",
   "execution_count": 46,
   "metadata": {},
   "outputs": [
    {
     "data": {
      "image/png": "[encoded data removed]",
      "text/plain": [
       "<Figure size 432x288 with 1 Axes>"
      ]
     },
     "metadata": {
      "needs_background": "light"
     },
     "output_type": "display_data"
    }
   ],
   "source": [
    "total_checks_yearly.plot()\n",
    "total_checks_yearly_loc = [7500000, 10000000, 12500000, 15000000, 17500000, 20000000, 22500000, 25000000, 27500000]\n",
    "total_checks_yearly_labels = [7.5, 10.0, 12.5, 15.0, 17.5, 20.0, 22.5, 25.0, 27.5]\n",
    "plt.yticks(total_checks_yearly_loc, total_checks_yearly_labels)\n",
    "plot_labels('Annual Gun Background Checks', 'Year', 'Background Checks (Millions)');"
   ]
  },
  {
   "cell_type": "markdown",
   "metadata": {},
   "source": [
    "Based on this graph, it is clear that total annual background checks have increased since the data was first collected. In fact, the numbers have increased by about 20 million checks per year.\n",
    "\n",
    "Next, I will show the monthly view for total background checks."
   ]
  },
  {
   "cell_type": "code",
   "execution_count": 47,
   "metadata": {},
   "outputs": [
    {
     "data": {
      "text/plain": [
       "month\n",
       "1998-11-01     21174.0\n",
       "1998-12-01    870202.0\n",
       "1999-01-01    585569.0\n",
       "1999-02-01    689867.0\n",
       "1999-03-01    741234.0\n",
       "Name: totals, dtype: float64"
      ]
     },
     "execution_count": 47,
     "metadata": {},
     "output_type": "execute_result"
    }
   ],
   "source": [
    "total_checks_monthly = gun_df.groupby('month')['totals'].sum()\n",
    "total_checks_monthly.head()"
   ]
  },
  {
   "cell_type": "code",
   "execution_count": 48,
   "metadata": {},
   "outputs": [
    {
     "data": {
      "image/png": "[encoded data removed]",
      "text/plain": [
       "<Figure size 432x288 with 1 Axes>"
      ]
     },
     "metadata": {
      "needs_background": "light"
     },
     "output_type": "display_data"
    }
   ],
   "source": [
    "total_checks_monthly.plot()\n",
    "plot_labels('Monthly Gun Background Checks', 'Date', 'Background Checks (Millions)');"
   ]
  },
  {
   "cell_type": "markdown",
   "metadata": {},
   "source": [
    "The graph above also appears to show that background checks have been increasing since the data was first recorded. It is interesting to note that the increase has not been consistent rise over the years. Rather, it looks like there are cylical trends within each year, with background checks peaking towards the end of each year.\n",
    "\n",
    "However, I will also look at the number of yearly background checks per capita to make sure that the increase in background checks is not simply due to an increase in population. Since I only have the total populations from 2010 and 2016, I will compare those two years.\n",
    "\n",
    "Before I create the visualization, I will need to find the total background checks for 2010 and 2016 and the total population for those years."
   ]
  },
  {
   "cell_type": "code",
   "execution_count": 49,
   "metadata": {},
   "outputs": [],
   "source": [
    "gun_df_10_16 = gun_df.query('year == \"2010-01-01\" or year == \"2016-01-01\"')"
   ]
  },
  {
   "cell_type": "code",
   "execution_count": 50,
   "metadata": {},
   "outputs": [
    {
     "data": {
      "text/plain": [
       "2010    308156339.0\n",
       "2016    322446343.0\n",
       "dtype: float64"
      ]
     },
     "execution_count": 50,
     "metadata": {},
     "output_type": "execute_result"
    }
   ],
   "source": [
    "pop_10_16 = census_df[['pop_est_10', 'pop_est_16']].sum()\n",
    "pop_10_16.index = [2010, 2016]\n",
    "pop_10_16"
   ]
  },
  {
   "cell_type": "code",
   "execution_count": 51,
   "metadata": {},
   "outputs": [],
   "source": [
    "def compare_10_16(col):\n",
    "    '''Creates a dataframe that compares 2010 vs. 2016 per capita figures for the requested column.'''\n",
    "    total_10_16 = gun_df_10_16.groupby('year')[col].sum()\n",
    "    total_10_16.index = [2010, 2016]\n",
    "    return total_10_16/pop_10_16"
   ]
  },
  {
   "cell_type": "code",
   "execution_count": 52,
   "metadata": {},
   "outputs": [
    {
     "data": {
      "text/plain": [
       "2010    0.046437\n",
       "2016    0.084993\n",
       "dtype: float64"
      ]
     },
     "execution_count": 52,
     "metadata": {},
     "output_type": "execute_result"
    }
   ],
   "source": [
    "checks_per_capita_10_16 = compare_10_16('totals')\n",
    "checks_per_capita_10_16"
   ]
  },
  {
   "cell_type": "markdown",
   "metadata": {},
   "source": [
    "Now I can calculate the background checks per capita and create the visualization."
   ]
  },
  {
   "cell_type": "code",
   "execution_count": 53,
   "metadata": {},
   "outputs": [
    {
     "data": {
      "image/png": "[encoded data removed]",
      "text/plain": [
       "<Figure size 432x288 with 1 Axes>"
      ]
     },
     "metadata": {
      "needs_background": "light"
     },
     "output_type": "display_data"
    }
   ],
   "source": [
    "locations_2 = np.arange(2)\n",
    "plt.bar(locations_2, checks_per_capita_10_16, tick_label=[2010, 2016])\n",
    "plot_labels('Background Checks Per Capita', 'Year', 'Background Checks Per Capita');"
   ]
  },
  {
   "cell_type": "markdown",
   "metadata": {},
   "source": [
    "The graph confirms that the background checks per capita have increased from 2010 to 2016. The numbers have almost doubled within that time period.\n",
    "\n",
    "Now I will repeat the same process but with gun sales specifically. I will first show the total number of gun sales by year and month."
   ]
  },
  {
   "cell_type": "code",
   "execution_count": 54,
   "metadata": {},
   "outputs": [
    {
     "data": {
      "text/plain": [
       "year\n",
       "1999-01-01    8731052.1\n",
       "2000-01-01    7854339.3\n",
       "2001-01-01    8007430.8\n",
       "2002-01-01    7056499.5\n",
       "2003-01-01    7046706.5\n",
       "Name: total_sales, dtype: float64"
      ]
     },
     "execution_count": 54,
     "metadata": {},
     "output_type": "execute_result"
    }
   ],
   "source": [
    "gun_sales_yearly = gun_df_full_years.groupby('year')['total_sales'].sum()\n",
    "gun_sales_yearly.head()"
   ]
  },
  {
   "cell_type": "code",
   "execution_count": 55,
   "metadata": {},
   "outputs": [
    {
     "data": {
      "image/png": "[encoded data removed]",
      "text/plain": [
       "<Figure size 432x288 with 1 Axes>"
      ]
     },
     "metadata": {
      "needs_background": "light"
     },
     "output_type": "display_data"
    }
   ],
   "source": [
    "gun_sales_yearly.plot()\n",
    "gun_sales_yearly_loc = [8000000, 10000000, 12000000, 14000000, 16000000]\n",
    "gun_sales_yearly_labels = [8, 10, 12, 14, 16]\n",
    "plt.yticks(gun_sales_yearly_loc, gun_sales_yearly_labels)\n",
    "plot_labels('Annual Gun Sales', 'Year', 'Guns Sold (Millions)');"
   ]
  },
  {
   "cell_type": "markdown",
   "metadata": {},
   "source": [
    "Similar to total background checks, total gun sales have increased since the gun data was first collected. The annuals sales appear to have doubled since the beginning, going from around 8 million to 16 million sales per year."
   ]
  },
  {
   "cell_type": "code",
   "execution_count": 56,
   "metadata": {},
   "outputs": [
    {
     "data": {
      "text/plain": [
       "month\n",
       "1998-11-01     21192.6\n",
       "1998-12-01    878734.1\n",
       "1999-01-01    558399.0\n",
       "1999-02-01    661409.6\n",
       "1999-03-01    698160.6\n",
       "Name: total_sales, dtype: float64"
      ]
     },
     "execution_count": 56,
     "metadata": {},
     "output_type": "execute_result"
    }
   ],
   "source": [
    "gun_sales_monthly = gun_df.groupby('month')['total_sales'].sum()\n",
    "gun_sales_monthly.head()"
   ]
  },
  {
   "cell_type": "code",
   "execution_count": 57,
   "metadata": {},
   "outputs": [
    {
     "data": {
      "image/png": "[encoded data removed]",
      "text/plain": [
       "<Figure size 432x288 with 1 Axes>"
      ]
     },
     "metadata": {
      "needs_background": "light"
     },
     "output_type": "display_data"
    }
   ],
   "source": [
    "gun_sales_monthly.plot()\n",
    "plot_labels('Monthly Gun Sales', 'Date', 'Guns Sold (Millions)');"
   ]
  },
  {
   "cell_type": "markdown",
   "metadata": {},
   "source": [
    "The monthly gun sales show a similar trend as the monthly background checks, with sales peaking towards the end of each year.\n",
    "\n",
    "Similar to background checks per capita, I will have to find total gun sales for 2010 and 2016. Then I can leverage the total populations calculated previously to find gun sales per capita."
   ]
  },
  {
   "cell_type": "code",
   "execution_count": 58,
   "metadata": {},
   "outputs": [
    {
     "data": {
      "text/plain": [
       "2010    0.031553\n",
       "2016    0.049547\n",
       "dtype: float64"
      ]
     },
     "execution_count": 58,
     "metadata": {},
     "output_type": "execute_result"
    }
   ],
   "source": [
    "sales_per_capita_10_16 = compare_10_16('total_sales')\n",
    "sales_per_capita_10_16"
   ]
  },
  {
   "cell_type": "code",
   "execution_count": 59,
   "metadata": {},
   "outputs": [
    {
     "data": {
      "image/png": "[encoded data removed]",
      "text/plain": [
       "<Figure size 432x288 with 1 Axes>"
      ]
     },
     "metadata": {
      "needs_background": "light"
     },
     "output_type": "display_data"
    }
   ],
   "source": [
    "plt.bar(locations_2, sales_per_capita_10_16, tick_label=[2010, 2016])\n",
    "plot_labels('Guns Sold Per Capita', 'Year', 'Guns Per Capita')"
   ]
  },
  {
   "cell_type": "markdown",
   "metadata": {},
   "source": [
    "This graph shows that the number of guns sold per capita has increased by about two-thirds from 2010 to 2016."
   ]
  },
  {
   "cell_type": "markdown",
   "metadata": {},
   "source": [
    "### Question 2: What is the overall trend of background checks split by gun category?\n",
    "\n",
    "I am curious to see the trend of each individual category, specifically for handguns, long guns, and multiple-gun background checks. Again, I will first create yearly and monthly views, then show each category per capita."
   ]
  },
  {
   "cell_type": "code",
   "execution_count": 60,
   "metadata": {},
   "outputs": [
    {
     "data": {
      "text/html": [
       "<div>\n",
       "<style scoped>\n",
       "    .dataframe tbody tr th:only-of-type {\n",
       "        vertical-align: middle;\n",
       "    }\n",
       "\n",
       "    .dataframe tbody tr th {\n",
       "        vertical-align: top;\n",
       "    }\n",
       "\n",
       "    .dataframe thead th {\n",
       "        text-align: right;\n",
       "    }\n",
       "</style>\n",
       "<table border=\"1\" class=\"dataframe\">\n",
       "  <thead>\n",
       "    <tr style=\"text-align: right;\">\n",
       "      <th></th>\n",
       "      <th>handgun</th>\n",
       "      <th>long_gun</th>\n",
       "      <th>multiple</th>\n",
       "    </tr>\n",
       "    <tr>\n",
       "      <th>year</th>\n",
       "      <th></th>\n",
       "      <th></th>\n",
       "      <th></th>\n",
       "    </tr>\n",
       "  </thead>\n",
       "  <tbody>\n",
       "    <tr>\n",
       "      <th>1999-01-01</th>\n",
       "      <td>2532511.0</td>\n",
       "      <td>5216320.0</td>\n",
       "      <td>103669.0</td>\n",
       "    </tr>\n",
       "    <tr>\n",
       "      <th>2000-01-01</th>\n",
       "      <td>2187581.0</td>\n",
       "      <td>4778762.0</td>\n",
       "      <td>95681.0</td>\n",
       "    </tr>\n",
       "    <tr>\n",
       "      <th>2001-01-01</th>\n",
       "      <td>2161166.0</td>\n",
       "      <td>4941982.0</td>\n",
       "      <td>96984.0</td>\n",
       "    </tr>\n",
       "    <tr>\n",
       "      <th>2002-01-01</th>\n",
       "      <td>1838239.0</td>\n",
       "      <td>4407866.0</td>\n",
       "      <td>92892.0</td>\n",
       "    </tr>\n",
       "    <tr>\n",
       "      <th>2003-01-01</th>\n",
       "      <td>1844597.0</td>\n",
       "      <td>4381438.0</td>\n",
       "      <td>99034.0</td>\n",
       "    </tr>\n",
       "  </tbody>\n",
       "</table>\n",
       "</div>"
      ],
      "text/plain": [
       "              handgun   long_gun  multiple\n",
       "year                                      \n",
       "1999-01-01  2532511.0  5216320.0  103669.0\n",
       "2000-01-01  2187581.0  4778762.0   95681.0\n",
       "2001-01-01  2161166.0  4941982.0   96984.0\n",
       "2002-01-01  1838239.0  4407866.0   92892.0\n",
       "2003-01-01  1844597.0  4381438.0   99034.0"
      ]
     },
     "execution_count": 60,
     "metadata": {},
     "output_type": "execute_result"
    }
   ],
   "source": [
    "gun_checks_yearly = gun_df_full_years.groupby('year')[['handgun', 'long_gun', 'multiple']].sum()\n",
    "gun_checks_yearly.head()"
   ]
  },
  {
   "cell_type": "code",
   "execution_count": 61,
   "metadata": {},
   "outputs": [
    {
     "data": {
      "image/png": "[encoded data removed]",
      "text/plain": [
       "<Figure size 432x288 with 1 Axes>"
      ]
     },
     "metadata": {
      "needs_background": "light"
     },
     "output_type": "display_data"
    }
   ],
   "source": [
    "gun_checks_yearly.plot()\n",
    "gun_checks_types = ['Handgun', 'Long Gun', 'Multiple Guns']\n",
    "plt.legend(gun_checks_types)\n",
    "plot_labels('Annual Background Checks by Gun Type', 'Year', 'Background Checks (Millions)');"
   ]
  },
  {
   "cell_type": "markdown",
   "metadata": {},
   "source": [
    "Although there have typically been more long gun background checks in the historical data, handgun background checks increased at a faster rate and surpassed long guns in 2014. Except for a brief spike in 2012-2013, long gun checks only had a small increase. Multiple-gun checks stayed consistent over the time period."
   ]
  },
  {
   "cell_type": "code",
   "execution_count": 62,
   "metadata": {},
   "outputs": [
    {
     "data": {
      "text/html": [
       "<div>\n",
       "<style scoped>\n",
       "    .dataframe tbody tr th:only-of-type {\n",
       "        vertical-align: middle;\n",
       "    }\n",
       "\n",
       "    .dataframe tbody tr th {\n",
       "        vertical-align: top;\n",
       "    }\n",
       "\n",
       "    .dataframe thead th {\n",
       "        text-align: right;\n",
       "    }\n",
       "</style>\n",
       "<table border=\"1\" class=\"dataframe\">\n",
       "  <thead>\n",
       "    <tr style=\"text-align: right;\">\n",
       "      <th></th>\n",
       "      <th>handgun</th>\n",
       "      <th>long_gun</th>\n",
       "      <th>multiple</th>\n",
       "    </tr>\n",
       "    <tr>\n",
       "      <th>month</th>\n",
       "      <th></th>\n",
       "      <th></th>\n",
       "      <th></th>\n",
       "    </tr>\n",
       "  </thead>\n",
       "  <tbody>\n",
       "    <tr>\n",
       "      <th>1998-11-01</th>\n",
       "      <td>6858.0</td>\n",
       "      <td>11908.0</td>\n",
       "      <td>275.0</td>\n",
       "    </tr>\n",
       "    <tr>\n",
       "      <th>1998-12-01</th>\n",
       "      <td>212737.0</td>\n",
       "      <td>570774.0</td>\n",
       "      <td>8436.0</td>\n",
       "    </tr>\n",
       "    <tr>\n",
       "      <th>1999-01-01</th>\n",
       "      <td>184192.0</td>\n",
       "      <td>309818.0</td>\n",
       "      <td>7494.0</td>\n",
       "    </tr>\n",
       "    <tr>\n",
       "      <th>1999-02-01</th>\n",
       "      <td>232172.0</td>\n",
       "      <td>352344.0</td>\n",
       "      <td>9221.0</td>\n",
       "    </tr>\n",
       "    <tr>\n",
       "      <th>1999-03-01</th>\n",
       "      <td>240680.0</td>\n",
       "      <td>376686.0</td>\n",
       "      <td>9529.0</td>\n",
       "    </tr>\n",
       "  </tbody>\n",
       "</table>\n",
       "</div>"
      ],
      "text/plain": [
       "             handgun  long_gun  multiple\n",
       "month                                   \n",
       "1998-11-01    6858.0   11908.0     275.0\n",
       "1998-12-01  212737.0  570774.0    8436.0\n",
       "1999-01-01  184192.0  309818.0    7494.0\n",
       "1999-02-01  232172.0  352344.0    9221.0\n",
       "1999-03-01  240680.0  376686.0    9529.0"
      ]
     },
     "execution_count": 62,
     "metadata": {},
     "output_type": "execute_result"
    }
   ],
   "source": [
    "gun_checks_monthly = gun_df.groupby('month')[['handgun', 'long_gun', 'multiple']].sum()\n",
    "gun_checks_monthly.head()"
   ]
  },
  {
   "cell_type": "code",
   "execution_count": 63,
   "metadata": {},
   "outputs": [
    {
     "data": {
      "image/png": "[encoded data removed]",
      "text/plain": [
       "<Figure size 432x288 with 1 Axes>"
      ]
     },
     "metadata": {
      "needs_background": "light"
     },
     "output_type": "display_data"
    }
   ],
   "source": [
    "gun_checks_monthly.plot()\n",
    "plt.legend(gun_checks_types)\n",
    "plot_labels('Monthly Background Checks by Gun Type', 'Year', 'Background Checks (Millions)');"
   ]
  },
  {
   "cell_type": "markdown",
   "metadata": {},
   "source": [
    "Handguns and long guns show the same cyclical trends within each year as mentioned previously. However, this trend is not as noticeable in the multiple-gun transactions."
   ]
  },
  {
   "cell_type": "code",
   "execution_count": 64,
   "metadata": {},
   "outputs": [
    {
     "data": {
      "text/plain": [
       "2010    0.011912\n",
       "2016    0.025029\n",
       "dtype: float64"
      ]
     },
     "execution_count": 64,
     "metadata": {},
     "output_type": "execute_result"
    }
   ],
   "source": [
    "handgun_10_16 = compare_10_16('handgun')\n",
    "handgun_10_16"
   ]
  },
  {
   "cell_type": "code",
   "execution_count": 65,
   "metadata": {},
   "outputs": [
    {
     "data": {
      "text/plain": [
       "2010    0.015708\n",
       "2016    0.018562\n",
       "dtype: float64"
      ]
     },
     "execution_count": 65,
     "metadata": {},
     "output_type": "execute_result"
    }
   ],
   "source": [
    "long_gun_10_16 = compare_10_16('long_gun')\n",
    "long_gun_10_16"
   ]
  },
  {
   "cell_type": "code",
   "execution_count": 66,
   "metadata": {},
   "outputs": [
    {
     "data": {
      "text/plain": [
       "2010    0.000585\n",
       "2016    0.000798\n",
       "dtype: float64"
      ]
     },
     "execution_count": 66,
     "metadata": {},
     "output_type": "execute_result"
    }
   ],
   "source": [
    "multiple_10_16 = compare_10_16('multiple')\n",
    "multiple_10_16"
   ]
  },
  {
   "cell_type": "markdown",
   "metadata": {},
   "source": [
    "I will calculate background checks per capita for each type individually."
   ]
  },
  {
   "cell_type": "markdown",
   "metadata": {},
   "source": [
    "For this visualization, I would like to show a clustered bar chart, with each tick mark being the background check type, and the colored bars being the years. To do this, I will have to group all of the 2010 values together and all of the 2016 values together."
   ]
  },
  {
   "cell_type": "code",
   "execution_count": 67,
   "metadata": {},
   "outputs": [
    {
     "data": {
      "image/png": "[encoded data removed]",
      "text/plain": [
       "<Figure size 432x288 with 1 Axes>"
      ]
     },
     "metadata": {
      "needs_background": "light"
     },
     "output_type": "display_data"
    }
   ],
   "source": [
    "width = 0.35\n",
    "locations_3 = np.arange(3)\n",
    "checks_per_capita_10 = [handgun_10_16.loc[2010], long_gun_10_16.loc[2010], multiple_10_16.loc[2010]]\n",
    "checks_per_capita_16 = [handgun_10_16.loc[2016], long_gun_10_16.loc[2016], multiple_10_16.loc[2016]]\n",
    "plt.bar(locations_3, checks_per_capita_10, width=width, label=2010)\n",
    "plt.bar(locations_3+width, checks_per_capita_16, width=width, label=2016)\n",
    "plt.xticks(locations_3+width/2, gun_checks_types)\n",
    "plt.legend()\n",
    "plot_labels('Background Checks Per Capita by Gun Type', 'Gun Type', 'Background Checks Per Capita');"
   ]
  },
  {
   "cell_type": "markdown",
   "metadata": {},
   "source": [
    "Handgun background checks per capita doubled from 2010 to 2016, while long guns only increased slightly. Meanwhile, the number of background checks per capita for multiple guns showed a minimal increase."
   ]
  },
  {
   "cell_type": "markdown",
   "metadata": {},
   "source": [
    "### Question 3: Which states have had the largest overall and largest growth in background checks per capita?\n",
    "\n",
    "I will find the top 10 states in 2010, the top 10 states in 2016, and the top 10 growing states between 2010 and 2016.\n",
    "\n",
    "First I will create a dataframe to show background checks by state for 2010, and then divide that by the population for each state in 2010."
   ]
  },
  {
   "cell_type": "code",
   "execution_count": 68,
   "metadata": {},
   "outputs": [],
   "source": [
    "def state_per_capita(year):\n",
    "    '''Finds background checks per capita by state based on the year.'''\n",
    "    gun_df_filtered = gun_df.query('year == @year+\"-01-01\"')\n",
    "    gun_state = gun_df_filtered.groupby('state')['totals'].sum()\n",
    "    pop_col = 'pop_est_'+year[-2:]\n",
    "    pop_state = census_df[pop_col]\n",
    "    pop_state.index = census_df['state']\n",
    "    return gun_state/pop_state"
   ]
  },
  {
   "cell_type": "markdown",
   "metadata": {},
   "source": [
    "Next, I will reduce the dataframe down to the top 10 background checks per capita."
   ]
  },
  {
   "cell_type": "code",
   "execution_count": 69,
   "metadata": {},
   "outputs": [
    {
     "data": {
      "text/plain": [
       "state\n",
       "Alabama       0.064560\n",
       "Alaska        0.092797\n",
       "Arizona       0.032234\n",
       "Arkansas      0.065654\n",
       "California    0.021914\n",
       "dtype: float64"
      ]
     },
     "execution_count": 69,
     "metadata": {},
     "output_type": "execute_result"
    }
   ],
   "source": [
    "state_per_capita_10 = state_per_capita('2010')\n",
    "state_per_capita_10.head()"
   ]
  },
  {
   "cell_type": "code",
   "execution_count": 70,
   "metadata": {},
   "outputs": [],
   "source": [
    "top_10_2010 = state_per_capita_10.nlargest(10)"
   ]
  },
  {
   "cell_type": "code",
   "execution_count": 71,
   "metadata": {},
   "outputs": [],
   "source": [
    "def plot_top_10(df):\n",
    "    '''Prints a data visualization using a dataframe with the top 10 of a certain column.'''\n",
    "    plt.bar(np.arange(10), df)\n",
    "    plt.xticks(np.arange(10), df.index, rotation=90)"
   ]
  },
  {
   "cell_type": "code",
   "execution_count": 72,
   "metadata": {},
   "outputs": [
    {
     "data": {
      "image/png": "[encoded data removed]",
      "text/plain": [
       "<Figure size 432x288 with 1 Axes>"
      ]
     },
     "metadata": {
      "needs_background": "light"
     },
     "output_type": "display_data"
    }
   ],
   "source": [
    "plot_top_10(top_10_2010)\n",
    "plot_labels('Top 10 States in Background Checks Per Capita, 2010', 'State', 'Background Checks Per Capita');"
   ]
  },
  {
   "cell_type": "markdown",
   "metadata": {},
   "source": [
    "In 2010, Kentucky had the highest background checks per capita, beating the next highest by more than 0.3 checks per capita. The next highest was Utah, and the rest of the top 10 were at about the same level.\n",
    "\n",
    "Now I will perform a similar process using 2016 data."
   ]
  },
  {
   "cell_type": "code",
   "execution_count": 73,
   "metadata": {},
   "outputs": [
    {
     "data": {
      "text/plain": [
       "state\n",
       "Alabama       0.126858\n",
       "Alaska        0.118140\n",
       "Arizona       0.060060\n",
       "Arkansas      0.089020\n",
       "California    0.060565\n",
       "dtype: float64"
      ]
     },
     "execution_count": 73,
     "metadata": {},
     "output_type": "execute_result"
    }
   ],
   "source": [
    "state_per_capita_16 = state_per_capita('2016')\n",
    "state_per_capita_16.head()"
   ]
  },
  {
   "cell_type": "code",
   "execution_count": 74,
   "metadata": {},
   "outputs": [],
   "source": [
    "top_10_2016 = state_per_capita_16.nlargest(10)"
   ]
  },
  {
   "cell_type": "code",
   "execution_count": 75,
   "metadata": {},
   "outputs": [
    {
     "data": {
      "image/png": "[encoded data removed]",
      "text/plain": [
       "<Figure size 432x288 with 1 Axes>"
      ]
     },
     "metadata": {
      "needs_background": "light"
     },
     "output_type": "display_data"
    }
   ],
   "source": [
    "plot_top_10(top_10_2016)\n",
    "plot_labels('Top 10 States in Background Checks Per Capita, 2016', 'State', 'Background Checks Per Capita');"
   ]
  },
  {
   "cell_type": "markdown",
   "metadata": {},
   "source": [
    "Again, Kentucky had the highest background checks per capita in 2016, with 0.6 more than the next highest, which was Indiana. Similar to 2010, the rest of the top 10 were at about the same level.\n",
    "\n",
    "Finally, I will calculate the top 10 growing states in background checks per capita by subtracting the per capita values in 2010 from the per capita values in 2016. This will show which states grew the most in background checks per capita."
   ]
  },
  {
   "cell_type": "code",
   "execution_count": 76,
   "metadata": {},
   "outputs": [],
   "source": [
    "top_10_growth = (state_per_capita_16-state_per_capita_10).nlargest(10)"
   ]
  },
  {
   "cell_type": "code",
   "execution_count": 77,
   "metadata": {},
   "outputs": [
    {
     "data": {
      "image/png": "[encoded data removed]",
      "text/plain": [
       "<Figure size 432x288 with 1 Axes>"
      ]
     },
     "metadata": {
      "needs_background": "light"
     },
     "output_type": "display_data"
    }
   ],
   "source": [
    "plot_top_10(top_10_growth)\n",
    "plot_labels('Top 10 Growing States in Background Checks Per Capita, 2010-2016', 'State', 'Change in Background Checks Per Capita');"
   ]
  },
  {
   "cell_type": "markdown",
   "metadata": {},
   "source": [
    "Kentucky once again had the highest growth from 2010 to 2016, with Indiana and Illinois also showing noticeably higher growth than the rest of the top 10."
   ]
  },
  {
   "cell_type": "markdown",
   "metadata": {},
   "source": [
    "### Question 4: What demographic data correlates with background checks per capita by state?\n",
    "\n",
    "I will look at this question using several demographic variables, including race, veteran status, immigrant status, education level, income, and population density. Some of these variables are measured in total numbers, while others are percentages of the population. I would like to convert all of the variables measured in total numbers to percentages so that all of the states are comparable. \n",
    "\n",
    "A couple of the variables have data for 2010 or 2016, so I can use the corresponding 2010 or 2016 total population as the denominator. However, many of the variables cover the period of 2011-2015. In these cases, I will use the 2010 population in the denominator as an estimate. Similarly, to calculate the background checks per capita, I will look at the total number of background checks over the same period of 2011-2015, and then divide that by the 2010 population.\n",
    "\n",
    "I will start with the race variable and look at the `white_16` column to see if it uses total numbers or percentages."
   ]
  },
  {
   "cell_type": "markdown",
   "metadata": {},
   "source": [
    "These are percentages so I do not need to perform any mathematical operations. Now I will copy the `white_16` column to a separate dataframe and change the index so that it is easy to use with `state_per_capita_16`."
   ]
  },
  {
   "cell_type": "code",
   "execution_count": 78,
   "metadata": {},
   "outputs": [
    {
     "data": {
      "text/plain": [
       "state\n",
       "Alabama       0.693\n",
       "Alaska        0.661\n",
       "Arizona       0.833\n",
       "Arkansas      0.794\n",
       "California    0.727\n",
       "Name: white_16, dtype: float64"
      ]
     },
     "execution_count": 78,
     "metadata": {},
     "output_type": "execute_result"
    }
   ],
   "source": [
    "white = census_df['white_16']\n",
    "white.index = census_df['state']\n",
    "white.head()"
   ]
  },
  {
   "cell_type": "markdown",
   "metadata": {},
   "source": [
    "Now I can create a scatter plot showing the white population vs. background checks per capita. I will also add a line of best fit and the corresponding r-squared."
   ]
  },
  {
   "cell_type": "code",
   "execution_count": 79,
   "metadata": {},
   "outputs": [],
   "source": [
    "def scatter_with_line(x, y, xpos, ypos):\n",
    "    '''Prints scatter plot with line of best fit and r-squared value at the location of xpos and ypos.'''\n",
    "    m, b, r, _, _ = scipy.stats.linregress(x, y)\n",
    "    r2 = round(r**2, 2)\n",
    "    fig, ax = plt.subplots()\n",
    "    ax.text(xpos, ypos, 'r-squared = {}'.format(r2), transform=ax.transAxes)\n",
    "    plt.scatter(x, y)\n",
    "    plt.plot(x, m*x+b, color='r')"
   ]
  },
  {
   "cell_type": "code",
   "execution_count": 80,
   "metadata": {},
   "outputs": [
    {
     "data": {
      "image/png": "[encoded data removed]",
      "text/plain": [
       "<Figure size 432x288 with 1 Axes>"
      ]
     },
     "metadata": {
      "needs_background": "light"
     },
     "output_type": "display_data"
    }
   ],
   "source": [
    "scatter_with_line(white, state_per_capita_16, 0.05, 0.90)\n",
    "plot_labels('White Population vs. Background Checks Per Capita by State, 2016', 'White Population Proportion', 'Background Checks Per Capita')"
   ]
  },
  {
   "cell_type": "markdown",
   "metadata": {},
   "source": [
    "The data shows that states with higher proportions of white individuals tend to have higher background checks per capita.\n",
    "\n",
    "Now I will perform the same process with the other variables. The next variable is veteran status, which has data for 2011-2015. I will create a dataframe that shows the background checks per capita by state during this period, using the 2010 population as the denominator. Then I will be able to reuse this dataframe when looking at other 2011-2015 variables."
   ]
  },
  {
   "cell_type": "code",
   "execution_count": 81,
   "metadata": {},
   "outputs": [],
   "source": [
    "gun_df_11_15 = gun_df.query('year >= \"2011-01-01\" and year <= \"2015-01-01\"')"
   ]
  },
  {
   "cell_type": "code",
   "execution_count": 82,
   "metadata": {},
   "outputs": [
    {
     "data": {
      "text/plain": [
       "state\n",
       "Alabama       2690152.0\n",
       "Alaska         422189.0\n",
       "Arizona       1596290.0\n",
       "Arkansas      1223785.0\n",
       "California    6642294.0\n",
       "Name: totals, dtype: float64"
      ]
     },
     "execution_count": 82,
     "metadata": {},
     "output_type": "execute_result"
    }
   ],
   "source": [
    "gun_state_11_15 = gun_df_11_15.groupby('state')['totals'].sum()\n",
    "gun_state_11_15.head()"
   ]
  },
  {
   "cell_type": "code",
   "execution_count": 83,
   "metadata": {},
   "outputs": [
    {
     "data": {
      "text/plain": [
       "state\n",
       "Alabama        4780131.0\n",
       "Alaska          710249.0\n",
       "Arizona        6392301.0\n",
       "Arkansas       2916025.0\n",
       "California    37254522.0\n",
       "Name: pop_est_10, dtype: float64"
      ]
     },
     "execution_count": 83,
     "metadata": {},
     "output_type": "execute_result"
    }
   ],
   "source": [
    "pop_state_10 = census_df['pop_est_10']\n",
    "pop_state_10.index = census_df['state']\n",
    "pop_state_10.head()"
   ]
  },
  {
   "cell_type": "code",
   "execution_count": 84,
   "metadata": {},
   "outputs": [
    {
     "data": {
      "text/plain": [
       "state\n",
       "Alabama       0.562778\n",
       "Alaska        0.594424\n",
       "Arizona       0.249721\n",
       "Arkansas      0.419676\n",
       "California    0.178295\n",
       "dtype: float64"
      ]
     },
     "execution_count": 84,
     "metadata": {},
     "output_type": "execute_result"
    }
   ],
   "source": [
    "state_per_capita_11_15 = gun_state_11_15/pop_state_10\n",
    "state_per_capita_11_15.head()"
   ]
  },
  {
   "cell_type": "markdown",
   "metadata": {},
   "source": [
    "Now I will check if the `veterans_11_15` column shows totals or percentages."
   ]
  },
  {
   "cell_type": "markdown",
   "metadata": {},
   "source": [
    "These are totals so I will divide them by the 2010 population."
   ]
  },
  {
   "cell_type": "code",
   "execution_count": 85,
   "metadata": {},
   "outputs": [
    {
     "data": {
      "text/plain": [
       "state\n",
       "Alabama        363170.0\n",
       "Alaska          69323.0\n",
       "Arizona        505794.0\n",
       "Arkansas       220953.0\n",
       "California    1777410.0\n",
       "Name: veterans_11_15, dtype: float64"
      ]
     },
     "execution_count": 85,
     "metadata": {},
     "output_type": "execute_result"
    }
   ],
   "source": [
    "veterans = census_df['veterans_11_15']\n",
    "veterans.index = census_df['state']\n",
    "veterans.head()"
   ]
  },
  {
   "cell_type": "code",
   "execution_count": 86,
   "metadata": {},
   "outputs": [
    {
     "data": {
      "text/plain": [
       "state\n",
       "Alabama       0.075975\n",
       "Alaska        0.097604\n",
       "Arizona       0.079125\n",
       "Arkansas      0.075772\n",
       "California    0.047710\n",
       "dtype: float64"
      ]
     },
     "execution_count": 86,
     "metadata": {},
     "output_type": "execute_result"
    }
   ],
   "source": [
    "veterans_percent = veterans/pop_state_10\n",
    "veterans_percent.head()"
   ]
  },
  {
   "cell_type": "code",
   "execution_count": 87,
   "metadata": {},
   "outputs": [
    {
     "data": {
      "image/png": "[encoded data removed]",
      "text/plain": [
       "<Figure size 432x288 with 1 Axes>"
      ]
     },
     "metadata": {
      "needs_background": "light"
     },
     "output_type": "display_data"
    }
   ],
   "source": [
    "scatter_with_line(veterans_percent, state_per_capita_11_15, 0.05, 0.90)\n",
    "plot_labels('Veteran Population vs. Background Checks Per Capita by State, 2011-2015', 'Veteran Population Proportion', 'Background Checks Per Capita');"
   ]
  },
  {
   "cell_type": "markdown",
   "metadata": {},
   "source": [
    "Since the r-squared is so small on this graph, it is difficult to make a conclusion on the relationship between the proportion of veterans and background checks per capita.\n",
    "\n",
    "Now I will look at `immigrants_11_15`."
   ]
  },
  {
   "cell_type": "markdown",
   "metadata": {},
   "source": [
    "The values for `immigrants_11_15` are percentages."
   ]
  },
  {
   "cell_type": "code",
   "execution_count": 88,
   "metadata": {},
   "outputs": [
    {
     "data": {
      "text/plain": [
       "state\n",
       "Alabama       0.035\n",
       "Alaska        0.074\n",
       "Arizona       0.135\n",
       "Arkansas      0.047\n",
       "California    0.270\n",
       "Name: immigrants_11_15, dtype: float64"
      ]
     },
     "execution_count": 88,
     "metadata": {},
     "output_type": "execute_result"
    }
   ],
   "source": [
    "immigrants = census_df['immigrants_11_15']\n",
    "immigrants.index = census_df['state']\n",
    "immigrants.head()"
   ]
  },
  {
   "cell_type": "code",
   "execution_count": 89,
   "metadata": {},
   "outputs": [
    {
     "data": {
      "image/png": "[encoded data removed]",
      "text/plain": [
       "<Figure size 432x288 with 1 Axes>"
      ]
     },
     "metadata": {
      "needs_background": "light"
     },
     "output_type": "display_data"
    }
   ],
   "source": [
    "scatter_with_line(immigrants, state_per_capita_11_15, 0.70, 0.90)\n",
    "plot_labels('Immigrant Population vs. Background Checks Per Capita by State, 2011-2015', 'Immigrant Population Proportion', 'Background Checks Per Capita');"
   ]
  },
  {
   "cell_type": "markdown",
   "metadata": {},
   "source": [
    "States with lower proportions of immigrants tend to have higher background checks per capita.\n",
    "\n",
    "Next, I will examine education demographics by looking at columns `high_school_11_15` and `bachelors_11_15`."
   ]
  },
  {
   "cell_type": "markdown",
   "metadata": {},
   "source": [
    "The values for `high_school_11_15` are percentages."
   ]
  },
  {
   "cell_type": "code",
   "execution_count": 90,
   "metadata": {},
   "outputs": [
    {
     "data": {
      "text/plain": [
       "state\n",
       "Alabama       0.843\n",
       "Alaska        0.921\n",
       "Arizona       0.860\n",
       "Arkansas      0.848\n",
       "California    0.818\n",
       "Name: high_school_11_15, dtype: float64"
      ]
     },
     "execution_count": 90,
     "metadata": {},
     "output_type": "execute_result"
    }
   ],
   "source": [
    "high_school = census_df['high_school_11_15']\n",
    "high_school.index = census_df['state']\n",
    "high_school.head()"
   ]
  },
  {
   "cell_type": "code",
   "execution_count": 91,
   "metadata": {},
   "outputs": [
    {
     "data": {
      "image/png": "[encoded data removed]",
      "text/plain": [
       "<Figure size 432x288 with 1 Axes>"
      ]
     },
     "metadata": {
      "needs_background": "light"
     },
     "output_type": "display_data"
    }
   ],
   "source": [
    "scatter_with_line(high_school, state_per_capita_11_15, 0.70, 0.90)\n",
    "plot_labels('High School Graduates vs. Background Checks Per Capita by State, 2011-2015', 'High School Graduate Proportion', 'Background Checks Per Capita');"
   ]
  },
  {
   "cell_type": "markdown",
   "metadata": {},
   "source": [
    "The r-squared on this graph is also small, so it is difficult to make a judgment on the relationship between high school graduates and background checks per capita."
   ]
  },
  {
   "cell_type": "markdown",
   "metadata": {},
   "source": [
    "The values for `bachelors_11_15` are percentages."
   ]
  },
  {
   "cell_type": "code",
   "execution_count": 92,
   "metadata": {},
   "outputs": [
    {
     "data": {
      "text/plain": [
       "state\n",
       "Alabama       0.235\n",
       "Alaska        0.280\n",
       "Arizona       0.275\n",
       "Arkansas      0.211\n",
       "California    0.314\n",
       "Name: bachelors_11_15, dtype: float64"
      ]
     },
     "execution_count": 92,
     "metadata": {},
     "output_type": "execute_result"
    }
   ],
   "source": [
    "bachelors = census_df['bachelors_11_15']\n",
    "bachelors.index = census_df['state']\n",
    "bachelors.head()"
   ]
  },
  {
   "cell_type": "code",
   "execution_count": 93,
   "metadata": {},
   "outputs": [
    {
     "data": {
      "image/png": "[encoded data removed]",
      "text/plain": [
       "<Figure size 432x288 with 1 Axes>"
      ]
     },
     "metadata": {
      "needs_background": "light"
     },
     "output_type": "display_data"
    }
   ],
   "source": [
    "scatter_with_line(bachelors, state_per_capita_11_15, 0.70, 0.90)\n",
    "plot_labels(\"Bachelor's Graduates vs. Background Checks Per Capita by State, 2011-2015\", \"Bachelor's Graduate Proportion\", 'Background Checks Per Capita');"
   ]
  },
  {
   "cell_type": "markdown",
   "metadata": {},
   "source": [
    "States with lower proportions of bachelor's degree graduates tend to have higher background checks per capita.\n",
    "\n",
    "For income, the columns `median_income_11_15` and `per_capita_income_11_15` do not need to be adjusted for the population by state, as these are not aggregations of income."
   ]
  },
  {
   "cell_type": "code",
   "execution_count": 94,
   "metadata": {},
   "outputs": [
    {
     "data": {
      "text/plain": [
       "state\n",
       "Alabama       43623.0\n",
       "Alaska        72515.0\n",
       "Arizona       50255.0\n",
       "Arkansas      41371.0\n",
       "California    61818.0\n",
       "Name: median_income_11_15, dtype: float64"
      ]
     },
     "execution_count": 94,
     "metadata": {},
     "output_type": "execute_result"
    }
   ],
   "source": [
    "median_income = census_df['median_income_11_15']\n",
    "median_income.index = census_df['state']\n",
    "median_income.head()"
   ]
  },
  {
   "cell_type": "code",
   "execution_count": 95,
   "metadata": {},
   "outputs": [
    {
     "data": {
      "image/png": "[encoded data removed]",
      "text/plain": [
       "<Figure size 432x288 with 1 Axes>"
      ]
     },
     "metadata": {
      "needs_background": "light"
     },
     "output_type": "display_data"
    }
   ],
   "source": [
    "scatter_with_line(median_income, state_per_capita_11_15, 0.70, 0.90)\n",
    "plot_labels('Median Income vs. Background Checks Per Capita by State, 2011-2015', 'Median Income (Dollars)', 'Background Checks Per Capita');"
   ]
  },
  {
   "cell_type": "markdown",
   "metadata": {},
   "source": [
    "States with lower median incomes tend to have higher background checks per capita."
   ]
  },
  {
   "cell_type": "code",
   "execution_count": 96,
   "metadata": {},
   "outputs": [
    {
     "data": {
      "text/plain": [
       "state\n",
       "Alabama       24091.0\n",
       "Alaska        33413.0\n",
       "Arizona       25848.0\n",
       "Arkansas      22798.0\n",
       "California    30318.0\n",
       "Name: per_capita_income_11_15, dtype: float64"
      ]
     },
     "execution_count": 96,
     "metadata": {},
     "output_type": "execute_result"
    }
   ],
   "source": [
    "per_capita_income = census_df['per_capita_income_11_15']\n",
    "per_capita_income.index = census_df['state']\n",
    "per_capita_income.head()"
   ]
  },
  {
   "cell_type": "code",
   "execution_count": 97,
   "metadata": {},
   "outputs": [
    {
     "data": {
      "image/png": "[encoded data removed]",
      "text/plain": [
       "<Figure size 432x288 with 1 Axes>"
      ]
     },
     "metadata": {
      "needs_background": "light"
     },
     "output_type": "display_data"
    }
   ],
   "source": [
    "scatter_with_line(per_capita_income, state_per_capita_11_15, 0.70, 0.90)\n",
    "plot_labels('Per Capita Income vs. Background Checks Per Capita by State, 2011-2015', 'Per Capita Income (Dollars)', 'Background Checks Per Capita');"
   ]
  },
  {
   "cell_type": "markdown",
   "metadata": {},
   "source": [
    "Similar to median income, states with lower per capita income tend to have higher background checks per capita.\n",
    "\n",
    "Finally, population density will be measured with the column `pop_density_10`, which already accounts for the population of each state. It is also important to note that this column uses 2010 data, so I will use the background checks per capita for 2010 as the dependent variable."
   ]
  },
  {
   "cell_type": "code",
   "execution_count": 98,
   "metadata": {},
   "outputs": [
    {
     "data": {
      "text/plain": [
       "state\n",
       "Alabama        94.4\n",
       "Alaska          1.2\n",
       "Arizona        56.3\n",
       "Arkansas       56.0\n",
       "California    239.1\n",
       "Name: pop_density_10, dtype: float64"
      ]
     },
     "execution_count": 98,
     "metadata": {},
     "output_type": "execute_result"
    }
   ],
   "source": [
    "pop_density = census_df['pop_density_10']\n",
    "pop_density.index = census_df['state']\n",
    "pop_density.head()"
   ]
  },
  {
   "cell_type": "code",
   "execution_count": 99,
   "metadata": {},
   "outputs": [
    {
     "data": {
      "image/png": "[encoded data removed]",
      "text/plain": [
       "<Figure size 432x288 with 1 Axes>"
      ]
     },
     "metadata": {
      "needs_background": "light"
     },
     "output_type": "display_data"
    }
   ],
   "source": [
    "scatter_with_line(pop_density, state_per_capita_10, 0.70, 0.90)\n",
    "plot_labels('Population Density vs. Background Checks Per Capita by State, 2010', 'Population Per Square Mile', 'Background Checks Per Capita');"
   ]
  },
  {
   "cell_type": "markdown",
   "metadata": {},
   "source": [
    "States with lower population density have higher background checks per capita, meaning that guns seem to be more popular in rural areas."
   ]
  },
  {
   "cell_type": "markdown",
   "metadata": {},
   "source": [
    "<a id='conclusions'></a>\n",
    "## Conclusions\n",
    "### Results\n",
    "\n",
    "All findings presented here are tentative. I have only explored correlations and am not implying any causation.\n",
    "\n",
    "In my analysis, I examined the following four questions:\n",
    "- What is the overall trend of background checks and gun sales?\n",
    "- What is the overall trend of background checks split by gun category?\n",
    "- Which states have had the largest overall and largest growth in background checks per capita?\n",
    "- What demographic data correlates with background checks per capita by state?\n",
    "\n",
    "The overall trend of background checks and gun sales (for handguns, long guns, and multiple-gun sales, specifically) increased since the data was first collected. The number of annual background checks increased by almost 20 million per year, while the number of gun sales increased by about 8 million per year.\n",
    "\n",
    "Interestingly, though, the increase in background checks and gun sales were not steady within each year. Rather, these metrics underwent cyclical rises and falls based on the time of the year. The peak in background checks and gun sales usually happened around the end of each year.\n",
    "\n",
    "However, I also wanted to make sure that the increase was not solely due to an increase in population. Therefore, I decided to look at background checks and gun sales per capita from 2010 to 2016 to see if there was any change. For both metrics, there was an increase. Background checks per capita almost doubled within those six years, and gun sales per capita saw a two-thirds increase.\n",
    "\n",
    "The number of long gun background checks historically was higher than the number of handgun checks until 2014, when handguns finally surpassed long guns. Both handgun and long gun background checks increased over the data collection period, but handguns increased at a faster rate than long guns. Meanwhile, multiple-gun background checks were less common and stayed relatively steady over the time period that the data was collected.\n",
    "\n",
    "Within each year, handgun and long gun background checks showed the same cyclical trends as mentioned previously. This trend was not as pronounced for multiple-gun checks.\n",
    "\n",
    "In terms of per capita measures, the number of handgun background checks per capita doubled in the period between 2010 and 2016. Long gun background checks per capita showed a slight increase, while multiple-gun background checks per capita had a minimal increase.\n",
    "\n",
    "In 2010, the state with the highest background checks per capita by about 0.3 checks per capita was Kentucky. The next highest was Utah at 0.2, and the rest of the top 10 were at about the same level. In 2016, the state with the highest measure was again Kentucky, leading the second highest by about 0.6 checks per capita. The second highest was Indiana at 0.2, and again the rest of the top 10 were at about the same level. I also wanted to see the fastest growing states, measured by the difference in background checks per capita from 2010 to 2016. The leader was again Kentucky with an increase of more than 0.25 checks per capita. Other fast-growing states were Indiana with an increase of more than 0.15 and Illinois with an increase of about 0.1.\n",
    "\n",
    "The five states that made the top 10 in both 2010 and 2016 were Kentucky, Montana, Alaska, West Virginia, and South Dakota. The only three states out of these five that were also in the top 10 in growth were Kentucky, West Virginia, and South Dakota.\n",
    "\n",
    "Most of the demographic variables that I looked at gave indication of some correlation between the demographics and background checks per capita, even if the correlation was not strong based on the r-squared value (none of them had r-squared higher than 0.14). The two variables with weaker correlations were veteran population and high school graduates, both of which had r-squared values around 0.01. Without Kentucky, which had much higher background checks per capita, the r-squared values probably would have been higher. However, I did not remove Kentucky since it is still an important data point.\n",
    "\n",
    "Looking at the other demographic variables, background checks per capita tended to be higher in states with a higher proportion of white individuals, lower proportion of immigrants and bachelor's degree graduates, lower median and per capita income, and lower population density.\n",
    "\n",
    "### Limitations\n",
    "One limitation of this analysis is that the NICS data does not account for private gun sales, which do not require background checks. According to BuzzFeed News via The Trace, about 40% of respondents in a survey said that they had acquired their most recent firearm in a private sale. If this private sales data were available, it would provide a more holistic view of US gun transactions.\n",
    "\n",
    "Another limitation is that the census data only provides metrics for certain years, such as the percentage of white individuals in 2016 or the number of veterans in 2011-2015. Having data on more years would have improved the analysis in several ways. First, it would have allowed for more consistent comparisons across different variables, such as looking at the correlations of background checks per capita with white and veteran populations, both in 2016. Additionally, more years in the census data would have allowed me to look across longer periods of time. When looking at background checks per capita, I was only able to compare 2010 to 2016 because only the populations for those two years were provided. It would have been more interesting, however, to see how background checks per capita changed since 1998, when the gun data was first collected. Another benefit of more census data is that it could provide a better denominator for some of the metrics. To calculate background checks per capita in 2011-2015, for instance, I ended up using 2010 as the denominator because there were no populations provided for 2011-2015. Although this provides a reasonable estimate, it would have been more accurate if the data for more years was included. Finally, more data would be beneficial in adding more data points to each of the scatter plots, which in turn could show whether the same trends have been truly been consistent over the years."
   ]
  },
  {
   "cell_type": "markdown",
   "metadata": {},
   "source": [
    "<a id='sources'></a>\n",
    "## Sources\n",
    "\n",
    "> - [NICS Firearm Background Checks](https://www.fbi.gov/file-repository/nics_firearm_checks_-_month_year_by_state_type.pdf/view)\n",
    "> - [BuzzFeed News GitHub Repository](https://github.com/BuzzFeedNews/nics-firearm-background-checks/blob/master/README.md)\n",
    "> - [Remove ellipsis from Jupyter notebook output](https://stackoverflow.com/questions/32075022/python-pandas-how-can-i-avoid-ellipsis-when-using-describe)\n",
    "> - [Display rows with NaN values](https://stackoverflow.com/questions/43424199/display-rows-with-one-or-more-nan-values-in-pandas-dataframe)\n",
    "> - [Transpose](https://pandas.pydata.org/pandas-docs/stable/reference/api/pandas.DataFrame.transpose.html)\n",
    "> - [Reset index](https://pandas.pydata.org/pandas-docs/stable/reference/api/pandas.DataFrame.reset_index.html#pandas.DataFrame.reset_index)\n",
    "> - [String endswith() function](https://www.programiz.com/python-programming/methods/string/endswith)\n",
    "> - [Extract year from datetime](https://stackoverflow.com/questions/30405413/python-pandas-extract-year-from-datetime-dfyear-dfdate-year-is-not)\n",
    "> - [Convert year integer to datetime](https://stackoverflow.com/questions/46658232/pandas-convert-column-with-year-integer-to-datetime)\n",
    "> - [Text boxes in Matplotlib](https://matplotlib.org/3.1.1/gallery/recipes/placing_text_boxes.html)\n",
    "> - [Line of best fit and r-squared](https://stackoverflow.com/questions/893657/how-do-i-calculate-r-squared-using-python-and-numpy)"
   ]
  }
 ],
 "metadata": {
  "kernelspec": {
   "display_name": "Python 3",
   "language": "python",
   "name": "python3"
  },
  "language_info": {
   "codemirror_mode": {
    "name": "ipython",
    "version": 3
   },
   "file_extension": ".py",
   "mimetype": "text/x-python",
   "name": "python",
   "nbconvert_exporter": "python",
   "pygments_lexer": "ipython3",
   "version": "3.7.7"
  }
 },
 "nbformat": 4,
 "nbformat_minor": 2
}
